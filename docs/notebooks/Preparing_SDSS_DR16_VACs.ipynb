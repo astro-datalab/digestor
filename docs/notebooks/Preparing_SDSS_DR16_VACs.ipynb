{
 "cells": [
  {
   "cell_type": "markdown",
   "metadata": {},
   "source": [
    "# Preparing SDSS DR16 VACs\n",
    "\n",
    "\n",
    "## Introduction\n",
    "\n",
    "Working with the SDSS DR16 VAC files in preparation for loading into a database. There are one VAC(s) currently targeted for loading into Data Lab:\n",
    "\n",
    "1. [DR16Q](https://www.sdss.org/dr16/data_access/value-added-catalogs/?vac_id=the-sloan-digital-sky-survey-quasar-catalogue:-sixteenth-data-release-(dr16q))\n",
    "2. [ELG_CLASSIFICATION](https://www.sdss.org/dr16/data_access/value-added-catalogs/?vac_id=classification-of-intermediate-redshift-emission-line-galaxies)\n",
    "\n",
    "All of these are conveniently stored as single FITS tables.  However, varying degrees of preprocessing may be needed.\n",
    "\n",
    "Other resources:\n",
    "\n",
    "* [SDSS CAS SQL definition files](https://trac.sdss.org/browser/repo/sdss/sas/trunk/sql)\n"
   ]
  },
  {
   "cell_type": "markdown",
   "metadata": {},
   "source": [
    "## Setup"
   ]
  },
  {
   "cell_type": "code",
   "execution_count": 1,
   "metadata": {},
   "outputs": [],
   "source": [
    "# Standard library\n",
    "from io import BytesIO\n",
    "import re\n",
    "import csv\n",
    "# matplotlib, etc.\n",
    "%matplotlib inline\n",
    "import matplotlib\n",
    "import matplotlib.pyplot as plt\n",
    "from matplotlib.font_manager import fontManager, FontProperties\n",
    "import numpy as np\n",
    "from astropy.io import fits\n",
    "from astropy.visualization import astropy_mpl_style\n",
    "from astropy.io.votable import parse_single_table\n",
    "from astropy.table import Column, Table\n",
    "plt.style.use(astropy_mpl_style)\n",
    "matplotlib.rcParams['figure.figsize'] = (10.0, 10.0)\n",
    "# Data Lab\n",
    "from dl import queryClient as qc, storeClient as sc\n",
    "#\n",
    "# Global constants.\n",
    "#\n",
    "release = 16\n",
    "sas = 'sdss_dr{0:d}://'.format(release)\n",
    "sdss_run2d = 26\n",
    "boss_run2d = 'v5_13_0'\n",
    "# assert matplotlib.rcParams['figure.figsize'] == (10.0, 10.0)"
   ]
  },
  {
   "cell_type": "code",
   "execution_count": 2,
   "metadata": {},
   "outputs": [],
   "source": [
    "def inthist(foo, show=False):\n",
    "    \"\"\"Create a histogram of integer values.\n",
    "\n",
    "    Parameters\n",
    "    ----------\n",
    "    foo : numpy.ndarray\n",
    "        An array containing integers.\n",
    "    show : bool, optional\n",
    "        If ``True``, create a histogram and return the matplotlib.axes.Axes\n",
    "        instance.\n",
    "\n",
    "    Returns\n",
    "    -------\n",
    "    inthist : mixed\n",
    "    \"\"\"\n",
    "    xmin = min(foo)\n",
    "    xmax = max(foo)\n",
    "    x = np.arange( xmin, xmax+1 )\n",
    "    n = np.zeros( x.shape, dtype=x.dtype )\n",
    "    for k in range(len(n)):\n",
    "        n[k] = np.sum( foo == x[k] )\n",
    "    if show:\n",
    "        fig = plt.figure(dpi=100)\n",
    "        ax = fig.add_subplot(111)\n",
    "        b = ax.bar(x,n,align='center',width=0.5,color='w')\n",
    "        ax.set_xlim(xmin-1, xmax+1)\n",
    "        # ax.set_ylim(0, np.ceil(max(n)/10.0)*10.0)\n",
    "        ax.set_ylim(0, 10**np.ceil(np.log10(max(n))))\n",
    "        return ax\n",
    "    else:\n",
    "        return (n,x)"
   ]
  },
  {
   "cell_type": "code",
   "execution_count": 3,
   "metadata": {},
   "outputs": [],
   "source": [
    "def sdss_specobjid(plate, fiber, mjd, run2d, line=None, index=None):\n",
    "    \"\"\"Convert SDSS spectrum identifiers into CAS-style specObjID.\n",
    "    Bits are assigned in specObjID thus:\n",
    "    ===== ========== =============================================================\n",
    "    Bits  Name       Comment\n",
    "    ===== ========== =============================================================\n",
    "    50-63 Plate ID   14 bits\n",
    "    38-49 Fiber ID   12 bits\n",
    "    24-37 MJD        Date plate was observed minus 50000 (14 bits)\n",
    "    10-23 run2d      Spectroscopic reduction version\n",
    "    0-9   line/index 0 for use in SpecObj files see below for other uses (10 bits)\n",
    "    ===== ========== =============================================================\n",
    "    Parameters\n",
    "    ----------\n",
    "    plate, fiber, mjd : :class:`int` or array of int\n",
    "        Plate, fiber ID, and MJD for a spectrum.  If arrays are\n",
    "        passed, all must have the same length.  The MJD value must be\n",
    "        greater than 50000.\n",
    "    run2d : :class:`int`, :class:`str` or array of int or str\n",
    "        The run2d value must be an integer or a string of the form 'vN_M_P'.\n",
    "        If an array is passed, it must have the same length as the other\n",
    "        inputs listed above.  If the string form is used, the values are\n",
    "        restricted to :math:`5 \\le N \\le 6`, :math:`0 \\le M \\le 99`,\n",
    "        :math:`0 \\le P \\le 99`.\n",
    "    line : :class:`int`, optional\n",
    "        A line index, only used for defining specObjID for SpecLine files.\n",
    "        `line` and `index` cannot both be non-zero.\n",
    "    index : :class:`int`, optional\n",
    "        An index measure, only used for defining specObjID for SpecLineIndex\n",
    "        files. `line` and `index` cannot both be non-zero.\n",
    "    Returns\n",
    "    -------\n",
    "    :class:`numpy.ndarray` of :class:`numpy.uint64`\n",
    "        The specObjIDs of the objects.\n",
    "    Raises\n",
    "    ------\n",
    "    :exc:`ValueError`\n",
    "        If the sizes of the arrays don't match or if the array values are\n",
    "        out of bounds.\n",
    "    Notes\n",
    "    -----\n",
    "    * On 32-bit systems, makes sure to explicitly declare all inputs as\n",
    "      64-bit integers.\n",
    "    * This function defines the SDSS-III/IV version of specObjID, used for\n",
    "      SDSS DR8 and subsequent data releases.  It is not compatible with\n",
    "      SDSS DR7 or earlier.\n",
    "    * If the string form of `run2d` is used, the bits are assigned by\n",
    "      the formula :math:`(N - 5) \\\\times 10000 + M \\\\times 100 + P`.\n",
    "    Examples\n",
    "    --------\n",
    "    >>> from pydl.pydlutils.sdss import sdss_specobjid\n",
    "    >>> print(sdss_specobjid(4055,408,55359,'v5_7_0'))\n",
    "    [4565636362342690816]\n",
    "    \"\"\"\n",
    "    if line is not None and index is not None:\n",
    "        raise ValueError(\"line and index inputs cannot both be non-zero!\")\n",
    "    if isinstance(plate, int):\n",
    "        plate = np.array([plate], dtype=np.uint64)\n",
    "    if isinstance(fiber, int):\n",
    "        fiber = np.array([fiber], dtype=np.uint64)\n",
    "    if isinstance(mjd, int):\n",
    "        mjd = np.array([mjd], dtype=np.uint64) - 50000\n",
    "    if isinstance(run2d, str):\n",
    "        try:\n",
    "            run2d = np.array([int(run2d)], dtype=np.uint64)\n",
    "        except ValueError:\n",
    "            # Try a \"vN_M_P\" string.\n",
    "            m = re.match(r'v(\\d+)_(\\d+)_(\\d+)', run2d)\n",
    "            if m is None:\n",
    "                raise ValueError(\"Could not extract integer run2d value!\")\n",
    "            else:\n",
    "                N, M, P = m.groups()\n",
    "            run2d = np.array([(int(N) - 5)*10000 + int(M) * 100 + int(P)],\n",
    "                             dtype=np.uint64)\n",
    "    elif isinstance(run2d, int):\n",
    "        run2d = np.array([run2d], dtype=np.uint64)\n",
    "    if line is None:\n",
    "        line = np.zeros(plate.shape, dtype=plate.dtype)\n",
    "    else:\n",
    "        if isinstance(line, int):\n",
    "            line = np.array([line], dtype=np.uint64)\n",
    "    if index is None:\n",
    "        index = np.zeros(plate.shape, dtype=plate.dtype)\n",
    "    else:\n",
    "        if isinstance(index, int):\n",
    "            index = np.array([index], dtype=np.uint64)\n",
    "    #\n",
    "    # Check that all inputs have the same shape.\n",
    "    #\n",
    "    if plate.shape != fiber.shape:\n",
    "        raise ValueError(\"fiber.shape does not match plate.shape!\")\n",
    "    if plate.shape != mjd.shape:\n",
    "        raise ValueError(\"mjd.shape does not match plate.shape!\")\n",
    "    if plate.shape != run2d.shape:\n",
    "        raise ValueError(\"run2d.shape does not match plate.shape!\")\n",
    "    if plate.shape != line.shape:\n",
    "        raise ValueError(\"line.shape does not match plate.shape!\")\n",
    "    if plate.shape != index.shape:\n",
    "        raise ValueError(\"index.shape does not match plate.shape!\")\n",
    "    #\n",
    "    # Check ranges of parameters\n",
    "    #\n",
    "    if ((plate < 0) | (plate >= 2**14)).any():\n",
    "        raise ValueError(\"plate values are out-of-bounds!\")\n",
    "    if ((fiber < 0) | (fiber >= 2**12)).any():\n",
    "        raise ValueError(\"fiber values are out-of-bounds!\")\n",
    "    if ((mjd < 0) | (mjd >= 2**14)).any():\n",
    "        raise ValueError(\"MJD values are out-of-bounds!\")\n",
    "    if ((run2d < 0) | (run2d >= 2**14)).any():\n",
    "        raise ValueError(\"MJD values are out-of-bounds!\")\n",
    "    if ((line < 0) | (line >= 2**10)).any():\n",
    "        raise ValueError(\"line values are out-of-bounds!\")\n",
    "    if ((index < 0) | (index >= 2**10)).any():\n",
    "        raise ValueError(\"index values are out-of-bounds!\")\n",
    "    #\n",
    "    # Compute the specObjID\n",
    "    #\n",
    "    specObjID = ((plate << 50) |\n",
    "                 (fiber << 38) |\n",
    "                 (mjd << 24) |\n",
    "                 (run2d << 10) |\n",
    "                 (line | index))\n",
    "    return specObjID"
   ]
  },
  {
   "cell_type": "code",
   "execution_count": 4,
   "metadata": {},
   "outputs": [],
   "source": [
    "def unwrap_specobjid(specObjID, run2d_integer=False, specLineIndex=False):\n",
    "    \"\"\"Unwrap CAS-style specObjID into plate, fiber, mjd, run2d.\n",
    "    See :func:`~pydl.pydlutils.sdss.sdss_specobjid` for details on how the\n",
    "    bits within a specObjID are assigned.\n",
    "    Parameters\n",
    "    ----------\n",
    "    specObjID : :class:`numpy.ndarray`\n",
    "        An array containing 64-bit integers or strings.  If strings are passed,\n",
    "        they will be converted to integers internally.\n",
    "    run2d_integer : :class:`bool`, optional\n",
    "        If ``True``, do *not* attempt to convert the encoded run2d values\n",
    "        to a string of the form 'vN_M_P'.\n",
    "    specLineIndex : :class:`bool`, optional\n",
    "        If ``True`` interpret any low-order bits as being an 'index'\n",
    "        rather than a 'line'.\n",
    "    Returns\n",
    "    -------\n",
    "    :class:`numpy.recarray`\n",
    "        A record array with the same length as `specObjID`, with the columns\n",
    "        'plate', 'fiber', 'mjd', 'run2d', 'line'.\n",
    "    Examples\n",
    "    --------\n",
    "    >>> from numpy import array, uint64\n",
    "    >>> from pydl.pydlutils.sdss import unwrap_specobjid\n",
    "    >>> unwrap_specobjid(array([4565636362342690816], dtype=uint64))\n",
    "    rec.array([(4055, 408, 55359, 'v5_7_0', 0)],\n",
    "              dtype=[('plate', '<i4'), ('fiber', '<i4'), ('mjd', '<i4'), ('run2d', '<U8'), ('line', '<i4')])\n",
    "    \"\"\"\n",
    "    if (specObjID.dtype.type is np.string_ or\n",
    "        specObjID.dtype.type is np.unicode_):\n",
    "        tempobjid = specObjID.astype(np.uint64)\n",
    "    elif specObjID.dtype.type is np.uint64:\n",
    "        tempobjid = specObjID.copy()\n",
    "    else:\n",
    "        raise ValueError('Unrecognized type for specObjID!')\n",
    "    run2d_dtype = 'U8'\n",
    "    if run2d_integer:\n",
    "        run2d_dtype = 'i4'\n",
    "    line = 'line'\n",
    "    if specLineIndex:\n",
    "        line = 'index'\n",
    "    unwrap = np.recarray(specObjID.shape,\n",
    "                         dtype=[('plate', 'i4'), ('fiber', 'i4'),\n",
    "                                ('mjd', 'i4'), ('run2d', run2d_dtype),\n",
    "                                (line, 'i4')])\n",
    "    unwrap.plate = np.bitwise_and(tempobjid >> 50, 2**14 - 1)\n",
    "    unwrap.fiber = np.bitwise_and(tempobjid >> 38, 2**12 - 1)\n",
    "    unwrap.mjd = np.bitwise_and(tempobjid >> 24, 2**14 - 1) + 50000\n",
    "    run2d = np.bitwise_and(tempobjid >> 10, 2**14 - 1)\n",
    "    if run2d_integer:\n",
    "        unwrap.run2d = run2d\n",
    "    else:\n",
    "        N = ((run2d // 10000) + 5).tolist()\n",
    "        M = ((run2d % 10000) // 100).tolist()\n",
    "        P = (run2d % 100).tolist()\n",
    "        unwrap.run2d = ['v{0:d}_{1:d}_{2:d}'.format(n, m, p)\n",
    "                        for n, m, p in zip(N, M, P)]\n",
    "    unwrap[line] = np.bitwise_and(tempobjid, 2**10 - 1)\n",
    "    return unwrap"
   ]
  },
  {
   "cell_type": "markdown",
   "metadata": {},
   "source": [
    "## DR16Q\n",
    "\n",
    "### Overview\n",
    "\n",
    "* [data model](https://data.sdss.org/datamodel/files/BOSS_QSO/DR16Q/DR16Q_v4.html)\n",
    "* [data model (superset)](https://data.sdss.org/datamodel/files/BOSS_QSO/DR16Q/DR16Q_Superset_v3.html)\n",
    "* [Lyke et al. (2020)](https://ui.adsabs.harvard.edu/abs/2020ApJS..250....8L/abstract)\n",
    "\n",
    "### Preprocessing Plan\n",
    "\n",
    "* Compute `specObjID`; add `run2d` column.\n",
    "* Delete photometric information.\n",
    "* Move duplicate information to separate table.\n",
    "* Coerce some matching flags to integer.\n",
    "* Coerce floating point values (except `RA`, `DEC`) to 32-bit float.\n",
    "\n",
    "### Known Problems\n",
    "\n",
    "* The columns `GALEX_MATCHED`, `UKIDSS_MATCHED` are stored as float when they should be integers.  The also contain NaN values, and `GALEX_MATCHED` contains some values which are 2.  None of these cases are described in the DR14Q paper.  Only `FIRST_MATCHED` has valid values and is consistent with its description in the paper.\n",
    "* The photometric id values, `RUN_NUMBER`, `COL_NUMBER`, are all nonsense values.  All identically zero in fact.\n",
    "* The duplicate column contains extraneous zeroes, and not all duplicates are actually stored in the column.  See below for examples.  It would be much better if the duplicates were a separate table, mapping primary specObjID to duplicate specObjID.\n",
    "* `TUNIT` columns should be blank when the value has no unit, instead of `-`.\n",
    "* I would recommend checking that all units in the table conform to the FITS standard.  For example 'Vega' is a description of a unit, not a physical unit. Also, the `RASS_COUNTS` column has units counts/s, which is misleading, because the units are actually log(counts/s).  Exception: nanomaggies are not standard, but are OK.\n",
    "* Column names, *e.g.* `FLUX_0.2_2.0keV` contain characters that could be interpreted as integers.\n",
    "* Not all \"primary\" objects in DR14Q correspond to real objects in the specObjAll table.  And not all \"duplicates\" correspond to real objects either.  In these cases there are spectra that exist on disk, but are not now, and probably never will be added to CAS.  This makes it particularly difficult to cleanly join DR14Q to specObjAll."
   ]
  },
  {
   "cell_type": "code",
   "execution_count": null,
   "metadata": {},
   "outputs": [],
   "source": [
    "qso_version = 'v4'\n",
    "vopath = f\"{sas}eboss/qso/DR{release:d}Q/DR{release:d}Q_{qso_version}.fits\"\n",
    "with BytesIO(sc.get(vopath, mode='binary')) as q:\n",
    "    with fits.open(q) as hdulist:\n",
    "        dr16q = hdulist['CATALOG'].data\n",
    "qso_superset_version = 'v3'\n",
    "vopath_superset = f\"{sas}eboss/qso/DR{release:d}Q/DR{release:d}Q_superset_{qso_superset_version}.fits\"\n",
    "with BytesIO(sc.get(vopath_superset, mode='binary')) as q:\n",
    "    with fits.open(q) as hdulist:\n",
    "        dr16q_superset = hdulist['CATALOG'].data"
   ]
  },
  {
   "cell_type": "markdown",
   "metadata": {},
   "source": [
    "### specObjID\n",
    "\n",
    "Compute `specObjID` for the spectra.  Be careful, because there are some SEGUE spectra in the mix!  Also `dr16q_superset` contains objects that were targeted but never observed, so they have no valid `specobjid` value."
   ]
  },
  {
   "cell_type": "code",
   "execution_count": null,
   "metadata": {},
   "outputs": [],
   "source": [
    "run2d = np.array([boss_run2d]*len(dr16q))\n",
    "run2d_lookup = dict()\n",
    "for p in np.unique(dr16q['PLATE']):\n",
    "    q = f\"SELECT plateid, plate, mjd, run2d FROM sdss_dr{release:d}.platex WHERE plate = {p:d}\"\n",
    "    response = qc.query(sql=q, fmt='csv', timeout=600)\n",
    "    ww = dr16q['PLATE'] == p\n",
    "    r = response.split('\\n')[1].split(',')[-1]\n",
    "    run2d[ww] = r\n",
    "    run2d_lookup[int(p)] = r"
   ]
  },
  {
   "cell_type": "code",
   "execution_count": null,
   "metadata": {},
   "outputs": [],
   "source": [
    "(run2d == '26').any()"
   ]
  },
  {
   "cell_type": "code",
   "execution_count": null,
   "metadata": {},
   "outputs": [],
   "source": [
    "# specobjid = np.zeros(dr16q.shape, dtype=np.uint64)\n",
    "w = run2d != boss_run2d\n",
    "irun2d = np.zeros(dr16q.shape, dtype=np.uint64)\n",
    "irun2d[w] = [int(x) for x in run2d[w]]\n",
    "w = run2d == boss_run2d\n",
    "m = re.match(r'v(\\d+)_(\\d+)_(\\d+)', boss_run2d)\n",
    "N, M, P = m.groups()\n",
    "irun2d[w] = (int(N) - 5)*10000 + int(M) * 100 + int(P)\n",
    "specobjid = sdss_specobjid(dr16q['PLATE'].astype(np.uint64),\n",
    "                           dr16q['FIBERID'].astype(np.uint64),\n",
    "                           dr16q['MJD'].astype(np.uint64) - 50000,\n",
    "                           irun2d)"
   ]
  },
  {
   "cell_type": "code",
   "execution_count": null,
   "metadata": {},
   "outputs": [],
   "source": [
    "specobjid"
   ]
  },
  {
   "cell_type": "code",
   "execution_count": null,
   "metadata": {},
   "outputs": [],
   "source": [
    "dr16q['PLATE'][dr16q['NSPEC'] > 1]\n",
    "\n"
   ]
  },
  {
   "cell_type": "code",
   "execution_count": null,
   "metadata": {},
   "outputs": [],
   "source": [
    "w = dr16q['PLATE'] == 6110\n",
    "dr16q['PLATE_DUPLICATE'][w, :], dr16q['MJD_DUPLICATE'][w, :], dr16q['FIBERID_DUPLICATE'][w, :], dr16q['SPECTRO_DUPLICATE'][w, :]"
   ]
  },
  {
   "cell_type": "markdown",
   "metadata": {},
   "source": [
    "### Photometric information\n",
    "\n",
    "These columns contain no useful information at all, so drop them.  Get information by joining on `specobj` instead."
   ]
  },
  {
   "cell_type": "code",
   "execution_count": null,
   "metadata": {},
   "outputs": [],
   "source": [
    "objid = np.zeros(len(dr16q), dtype=np.uint64)\n",
    "w = dr16q['OBJID'] != ''\n",
    "objid[w] = np.array(list(map(int, dr16q['OBJID'][w].tolist())), dtype=np.uint64)"
   ]
  },
  {
   "cell_type": "code",
   "execution_count": null,
   "metadata": {},
   "outputs": [],
   "source": [
    "w = dr16q['SKYVERSION'] != 2\n",
    "dr16q['SKYVERSION'][w], dr16q['OBJID'][w], dr16q['RERUN_NUMBER'][w], dr16q['RUN_NUMBER'][w], dr16q['CAMCOL_NUMBER'][w], dr16q['FIELD_NUMBER'][w], dr16q['ID_NUMBER'][w]\n",
    "# assert (dr16q['RERUN_NUMBER'] == '-').all()\n",
    "# assert (dr16q['COL_NUMBER'] == 0).all()\n",
    "# assert (dr16q['FIELD_NUMBER'] == 0).all()\n",
    "# assert (dr16q['OBJ_ID'] == '-').all()"
   ]
  },
  {
   "cell_type": "code",
   "execution_count": null,
   "metadata": {},
   "outputs": [],
   "source": [
    "w = (dr16q['OBJID'] == '') & (dr16q['SKYVERSION'] != 0)\n",
    "dr16q['SKYVERSION'][w], dr16q['OBJID'][w], dr16q['RERUN_NUMBER'][w], dr16q['RUN_NUMBER'][w], dr16q['CAMCOL_NUMBER'][w], dr16q['FIELD_NUMBER'][w], dr16q['ID_NUMBER'][w]"
   ]
  },
  {
   "cell_type": "markdown",
   "metadata": {},
   "source": [
    "### Targeting flags\n",
    "\n",
    "Make sure these don't require any special `np.uint64` handling."
   ]
  },
  {
   "cell_type": "code",
   "execution_count": null,
   "metadata": {},
   "outputs": [],
   "source": [
    "assert (dr16q['BOSS_TARGET1'] < 9223372036854775808).all()\n",
    "assert (dr16q['ANCILLARY_TARGET1'] < 9223372036854775808).all()\n",
    "assert (dr16q['ANCILLARY_TARGET2'] < 9223372036854775808).all()\n",
    "assert (dr16q['EBOSS_TARGET0'] < 9223372036854775808).all()\n",
    "assert (dr16q['EBOSS_TARGET1'] < 9223372036854775808).all()\n",
    "assert (dr16q['EBOSS_TARGET2'] < 9223372036854775808).all()"
   ]
  },
  {
   "cell_type": "markdown",
   "metadata": {},
   "source": [
    "### Matching flags\n",
    "\n",
    "The matching flags `UKIDSS_MATCHED` and `GALEX_MATCHED` are not as described in the paper, and they cannot be recovered from an earlier version, so just coerce them to integer."
   ]
  },
  {
   "cell_type": "code",
   "execution_count": null,
   "metadata": {},
   "outputs": [],
   "source": [
    "w = (dr14q['FIRST_MATCHED'] != -1) & (dr14q['FIRST_MATCHED'] != 0) & (dr14q['FIRST_MATCHED'] != 1)\n",
    "dr14q['FIRST_MATCHED'][w]"
   ]
  },
  {
   "cell_type": "code",
   "execution_count": null,
   "metadata": {},
   "outputs": [],
   "source": [
    "w = (dr14q['GALEX_MATCHED'] != 0.0) & (dr14q['GALEX_MATCHED'] != 1.0) & (dr14q['GALEX_MATCHED'] != 2.0) \n",
    "dr14q['GALEX_MATCHED'][w]"
   ]
  },
  {
   "cell_type": "code",
   "execution_count": null,
   "metadata": {},
   "outputs": [],
   "source": [
    "w = (dr14q['UKIDSS_MATCHED'] != 0.0) & (dr14q['UKIDSS_MATCHED'] != 1.0)\n",
    "dr14q['UKIDSS_MATCHED'][w]"
   ]
  },
  {
   "cell_type": "markdown",
   "metadata": {},
   "source": [
    "### Duplicates\n",
    "\n",
    "Move the duplicate information to a separate table. Some duplicates are disk only; they do not exist in the `specobjall` table.  We will load all duplicates unflagged, then use a database query to flag the duplicates that do not exist in the database."
   ]
  },
  {
   "cell_type": "code",
   "execution_count": null,
   "metadata": {},
   "outputs": [],
   "source": [
    "dr16q['NSPEC'].max()"
   ]
  },
  {
   "cell_type": "code",
   "execution_count": null,
   "metadata": {},
   "outputs": [],
   "source": [
    "matplotlib.rcParams['figure.figsize'] = (10, 10)\n",
    "n, x = inthist(dr16q['NSPEC'])\n",
    "w = n > 0\n",
    "fig = plt.figure(dpi=100)\n",
    "ax = fig.add_subplot(1, 1, 1)\n",
    "b = ax.bar(x[w], n[w], align='center', width=0.5, color='k')\n",
    "foo = ax.set_yscale('log')\n",
    "foo = ax.set_xlim(dr16q['NSPEC'].min()-1, dr16q['NSPEC'].max()+1)\n",
    "# foo = ax.set_ylim(0, np.ceil(np.log10(max(n))))\n",
    "foo = ax.set_title(f'Number of DR{release:d}Q Duplicates [{qso_version}]')\n",
    "foo = ax.set_xlabel('Number of Duplicates [NSPEC]')\n",
    "foo = ax.set_ylabel('N')"
   ]
  },
  {
   "cell_type": "code",
   "execution_count": null,
   "metadata": {},
   "outputs": [],
   "source": [
    "w = dr16q['NSPEC'] == 73\n",
    "dr16q['PLATE_DUPLICATE'][w, :]"
   ]
  },
  {
   "cell_type": "code",
   "execution_count": null,
   "metadata": {},
   "outputs": [],
   "source": [
    "m = re.match(r'v(\\d+)_(\\d+)_(\\d+)', boss_run2d)\n",
    "N, M, P = m.groups()\n",
    "br = (int(N) - 5)*10000 + int(M) * 100 + int(P)\n",
    "with open('dr16q_duplicates.csv', 'w', newline='') as csvfile:\n",
    "    dw = csv.writer(csvfile)\n",
    "    dw.writerow(['specobjid', 'dupspecobjid', 'run2d', 'plate', 'mjd', 'fiberid', 'disk_only'])\n",
    "    for k in range(len(dr16q)):\n",
    "        if dr16q[k]['NSPEC'] > 0:\n",
    "            w = dr16q['PLATE_DUPLICATE'][k, :] > 0\n",
    "            Nd = w.sum()\n",
    "            irun2d = np.zeros((Nd,), dtype=np.uint64)\n",
    "            plates = dr16q['PLATE_DUPLICATE'][k, w]\n",
    "            mjds = dr16q['MJD_DUPLICATE'][k, w]\n",
    "            fibers = dr16q['FIBERID_DUPLICATE'][k, w]\n",
    "            for i, p in enumerate(plates):\n",
    "                try:\n",
    "                    foo = run2d_lookup[p]\n",
    "                except KeyError:\n",
    "                    q = f\"SELECT run2d FROM sdss_dr{release}.platex WHERE plate = {p:d} AND mjd = {mjds[i]:d}\"\n",
    "                    try:\n",
    "                        vot = qc.query(sql=q, fmt='votable', timeout=600)\n",
    "                    except qc.queryClientError as e:\n",
    "                        if str(e) == 'Error: SQL query did not return any records':\n",
    "                            q = f\"SELECT run2d FROM sdss_dr{release:d}.platex WHERE plate = {p:d}\"\n",
    "                            vot = qc.query(sql=q, fmt='votable', timeout=600)\n",
    "                        else:\n",
    "                            raise\n",
    "                    result = parse_single_table(BytesIO(vot.encode('utf-8')))\n",
    "                    foo = run2d_lookup[p] = result.array['run2d'][0]\n",
    "                if foo == boss_run2d:\n",
    "                    irun2d[i] = br\n",
    "                else:\n",
    "                    irun2d[i] = int(foo)\n",
    "            dupspecobjid = sdss_specobjid(plates.astype(np.uint64),\n",
    "                                          fibers.astype(np.uint64),\n",
    "                                          mjds.astype(np.uint64) - 50000,\n",
    "                                          irun2d)\n",
    "            for l in range(Nd):\n",
    "                dw.writerow([specobjid[k].astype(np.int64),\n",
    "                             dupspecobjid[l].astype(np.int64),\n",
    "                             run2d_lookup[plates[l]],\n",
    "                             plates[l],\n",
    "                             mjds[l],\n",
    "                             fibers[l],\n",
    "                             'FALSE'])"
   ]
  },
  {
   "cell_type": "code",
   "execution_count": null,
   "metadata": {},
   "outputs": [],
   "source": [
    "# galex_matched = np.zeros(specobjid.shape, dtype=np.int16)\n",
    "# ukidss_matched = np.zeros(specobjid.shape, dtype=np.int16)\n",
    "# w = np.isfinite(dr14q['GALEX_MATCHED'])\n",
    "# galex_matched[w] = dr14q['GALEX_MATCHED'][w].astype(np.int16)\n",
    "# w = np.isfinite(dr14q['UKIDSS_MATCHED'])\n",
    "# ukidss_matched[w] = dr14q['UKIDSS_MATCHED'][w].astype(np.int16)"
   ]
  },
  {
   "cell_type": "code",
   "execution_count": null,
   "metadata": {},
   "outputs": [],
   "source": [
    "t = Table(dr16q)\n",
    "for c in dr16q.columns.names:\n",
    "    if dr16q[c].dtype.type is np.float64 and c != 'RA' and c != 'DEC':\n",
    "        # print(c)\n",
    "        t[c] = dr16q[c].astype(np.float32)\n",
    "# t['GALEX_MATCHED'] = galex_matched\n",
    "# t['UKIDSS_MATCHED'] = ukidss_matched\n",
    "w = dr16q['OBJID'] == ''\n",
    "t['OBJID'][w] = '0'\n",
    "t.remove_columns(['PLATE_DUPLICATE', 'MJD_DUPLICATE', 'FIBERID_DUPLICATE', 'SPECTRO_DUPLICATE',\n",
    "                  'SKYVERSION', 'RUN_NUMBER', 'RERUN_NUMBER', 'CAMCOL_NUMBER', 'FIELD_NUMBER', 'ID_NUMBER'])\n",
    "t.add_column(Column(name='SPECOBJID', data=np.array(list(map(str, specobjid.tolist())))), index=0)\n",
    "t.add_column(Column(name='RUN2D', data=run2d), index=4)\n",
    "t.add_column(Column(name='DISK_ONLY', data=np.zeros((len(dr16q),), dtype=bool)))"
   ]
  },
  {
   "cell_type": "code",
   "execution_count": null,
   "metadata": {},
   "outputs": [],
   "source": [
    "t"
   ]
  },
  {
   "cell_type": "code",
   "execution_count": null,
   "metadata": {},
   "outputs": [],
   "source": [
    "t.write('dr16q_datalab.fits')"
   ]
  },
  {
   "cell_type": "markdown",
   "metadata": {},
   "source": [
    "## ELG_CLASSIFICATION"
   ]
  },
  {
   "cell_type": "code",
   "execution_count": 5,
   "metadata": {},
   "outputs": [],
   "source": [
    "elg_version = 'v1_0'\n",
    "vopath = f\"{sas}eboss/elg/elg_classifier/{elg_version}/eboss-elg-classification_{elg_version}.fits\"\n",
    "with BytesIO(sc.get(vopath, mode='binary')) as q:\n",
    "    with fits.open(q) as hdulist:\n",
    "        elg = hdulist[1].data"
   ]
  },
  {
   "cell_type": "code",
   "execution_count": 6,
   "metadata": {},
   "outputs": [],
   "source": [
    "t = Table(elg)\n",
    "t['MJD'] = t['MJD'].astype(np.int32)\n",
    "t['PLATE'] = t['PLATE'].astype(np.int16)\n",
    "t['FIBERID'] = t['FIBERID'].astype(np.int16)\n",
    "t['TYPE'] = t['TYPE'].astype(np.int16)\n",
    "m = re.match(r'v(\\d+)_(\\d+)_(\\d+)', boss_run2d)\n",
    "N, M, P = m.groups()\n",
    "br = (int(N) - 5)*10000 + int(M) * 100 + int(P)\n",
    "specobjid = sdss_specobjid(t['PLATE'].astype(np.uint64), t['FIBERID'].astype(np.uint64), t['MJD'].astype(np.uint64) - 50000, np.array([br]*len(t), dtype=np.uint64)).astype(np.int64)"
   ]
  },
  {
   "cell_type": "code",
   "execution_count": 7,
   "metadata": {},
   "outputs": [],
   "source": [
    "for i in range(len(t)):\n",
    "    q = f\"SELECT run2d, plate, mjd, fiberid FROM sdss_dr{release:d}.specobjall WHERE specobjid = {specobjid[i]:d}\"\n",
    "    # print(q)\n",
    "    # print(t['PLATE'][i], t['MJD'][i], t['FIBERID'][i])\n",
    "    result = qc.query(sql=q, fmt='csv', timeout=600)\n",
    "    # print(result)\n",
    "    run2d, plate, mjd, fiberid = result.split('\\n')[1].strip().split(',')\n",
    "    assert run2d == 'v5_13_0'\n",
    "    assert int(plate) == t['PLATE'][i]\n",
    "    assert int(mjd) == t['MJD'][i]\n",
    "    assert int(fiberid) == t['FIBERID'][i]"
   ]
  },
  {
   "cell_type": "code",
   "execution_count": 8,
   "metadata": {},
   "outputs": [
    {
     "data": {
      "text/plain": [
       "False"
      ]
     },
     "execution_count": 8,
     "metadata": {},
     "output_type": "execute_result"
    }
   ],
   "source": [
    "(np.unique(specobjid) == specobjid).all()"
   ]
  },
  {
   "cell_type": "code",
   "execution_count": 11,
   "metadata": {},
   "outputs": [
    {
     "data": {
      "text/plain": [
       "True"
      ]
     },
     "execution_count": 11,
     "metadata": {},
     "output_type": "execute_result"
    }
   ],
   "source": [
    "sorted(np.unique(specobjid)) == sorted(specobjid)"
   ]
  },
  {
   "cell_type": "code",
   "execution_count": 12,
   "metadata": {},
   "outputs": [],
   "source": [
    "t.add_column(specobjid, name='SPECOBJID', index=0)"
   ]
  },
  {
   "cell_type": "code",
   "execution_count": 13,
   "metadata": {},
   "outputs": [
    {
     "data": {
      "text/html": [
       "<div><i>Table length=49270</i>\n",
       "<table id=\"table140100490693744\" class=\"table-striped table-bordered table-condensed\">\n",
       "<thead><tr><th>SPECOBJID</th><th>MJD</th><th>PLATE</th><th>FIBERID</th><th>z</th><th>O3_Hb</th><th>O2_Hb</th><th>sigma_o3</th><th>sigma_star</th><th>u_g</th><th>g_r</th><th>r_i</th><th>i_z</th><th>TYPE</th></tr></thead>\n",
       "<thead><tr><th>int64</th><th>int32</th><th>int16</th><th>int16</th><th>float64</th><th>float64</th><th>float64</th><th>float64</th><th>float64</th><th>float64</th><th>float64</th><th>float64</th><th>float64</th><th>int16</th></tr></thead>\n",
       "<tr><td>4303371506141122560</td><td>55544</td><td>3822</td><td>662</td><td>0.45585498</td><td>-0.10631379554675359</td><td>0.15280902158392662</td><td>2.113111818225317</td><td>2.060860254999036</td><td>2.091821654939249</td><td>1.634591133746774</td><td>0.6878215914106747</td><td>0.39862390589964036</td><td>2</td></tr>\n",
       "<tr><td>5821040883685150720</td><td>56063</td><td>5170</td><td>503</td><td>0.54958546</td><td>0.6837303839527116</td><td>0.5177330993970278</td><td>2.188220189200298</td><td>2.385730824976833</td><td>1.2792134812061065</td><td>1.3173727002840714</td><td>0.9219287534665952</td><td>0.5378095733832176</td><td>3</td></tr>\n",
       "<tr><td>7292484314855657472</td><td>56365</td><td>6477</td><td>111</td><td>0.6770768</td><td>0.2729628332762776</td><td>0.263795127500976</td><td>2.262145362235989</td><td>2.327437325129091</td><td>0.5588234458717807</td><td>0.8927006111782845</td><td>0.7387906117517886</td><td>0.15757234002977327</td><td>2</td></tr>\n",
       "<tr><td>6816383680770232320</td><td>56089</td><td>6054</td><td>675</td><td>0.58961457</td><td>1.0332131458994422</td><td>0.185912623939589</td><td>2.1714848778020044</td><td>2.5236040234704302</td><td>2.0272985089751216</td><td>1.6268764459152294</td><td>1.0814204705839856</td><td>0.4669580317397113</td><td>3</td></tr>\n",
       "<tr><td>4533082846131408896</td><td>55325</td><td>4026</td><td>763</td><td>0.40344292</td><td>0.8696019555200147</td><td>0.5817793621251371</td><td>2.076130840783014</td><td>2.1402917218335835</td><td>1.797855119813665</td><td>1.595616693681972</td><td>0.5705848001887368</td><td>0.4009193508476123</td><td>3</td></tr>\n",
       "<tr><td>5130795513344708608</td><td>55588</td><td>4557</td><td>253</td><td>0.62240684</td><td>-0.19225856584015572</td><td>0.08855782218296977</td><td>2.1339867670859065</td><td>1.7936856735837574</td><td>0.9851932622407382</td><td>0.8941441080175316</td><td>0.7543408437258243</td><td>0.3446281437224066</td><td>2</td></tr>\n",
       "<tr><td>-8499255819306250240</td><td>57427</td><td>8835</td><td>591</td><td>0.7634385</td><td>0.4590402472950636</td><td>0.34106652992150766</td><td>2.1576762172615513</td><td>2.929418925714293</td><td>0.25843176076870833</td><td>0.32062432189562884</td><td>0.5520613131803422</td><td>0.2531994720201034</td><td>3</td></tr>\n",
       "<tr><td>5130800461147033600</td><td>55588</td><td>4557</td><td>271</td><td>0.668348</td><td>-0.03672907337288249</td><td>0.15593071424910263</td><td>2.231084365580252</td><td>2.3942452893773534</td><td>0.8906361149184541</td><td>0.774856111624743</td><td>0.7356713969785353</td><td>0.29393535702795504</td><td>2</td></tr>\n",
       "<tr><td>5130800736024940544</td><td>55588</td><td>4557</td><td>272</td><td>0.68234134</td><td>-0.3116326936535396</td><td>0.17148538601105226</td><td>2.4098020547728876</td><td>2.056633271435047</td><td>0.3866827032072173</td><td>0.7096548467282418</td><td>0.7116195342910494</td><td>0.23993540184093476</td><td>2</td></tr>\n",
       "<tr><td>5821055177336311808</td><td>56063</td><td>5170</td><td>555</td><td>0.7136258</td><td>-0.21604232779093632</td><td>0.3174235457234031</td><td>2.035758916691266</td><td>0.0</td><td>0.7927504515664339</td><td>0.8044259849701447</td><td>0.8446381420442464</td><td>0.32001098407217654</td><td>2</td></tr>\n",
       "<tr><td>...</td><td>...</td><td>...</td><td>...</td><td>...</td><td>...</td><td>...</td><td>...</td><td>...</td><td>...</td><td>...</td><td>...</td><td>...</td><td>...</td></tr>\n",
       "<tr><td>8533334049095438336</td><td>56954</td><td>7579</td><td>504</td><td>0.6284973</td><td>-0.340736429074943</td><td>0.07733679352359438</td><td>2.139237934593074</td><td>2.0329960866188266</td><td>0.6420285562883628</td><td>0.8661824948155825</td><td>0.5655792478947035</td><td>0.1298090611654068</td><td>1</td></tr>\n",
       "<tr><td>5821021367353757696</td><td>56063</td><td>5170</td><td>432</td><td>0.6048672</td><td>-0.6181323737426218</td><td>-0.10179766278574852</td><td>2.095503577217893</td><td>2.0815181831068363</td><td>0.9698797678579041</td><td>1.1573312529413222</td><td>0.699006449376526</td><td>0.25257767507837414</td><td>1</td></tr>\n",
       "<tr><td>6416549023826857984</td><td>55953</td><td>5699</td><td>165</td><td>0.63113135</td><td>0.30717185453614304</td><td>0.21494423795113787</td><td>2.3232744229532973</td><td>2.023183996254356</td><td>0.8534771622441504</td><td>1.4137008614874844</td><td>0.7871269396728344</td><td>0.2278627677751821</td><td>3</td></tr>\n",
       "<tr><td>6816369387119071232</td><td>56089</td><td>6054</td><td>623</td><td>0.5551514</td><td>-0.2417241466598065</td><td>0.11967991694105763</td><td>2.3076689297162356</td><td>2.2972569846858963</td><td>1.1996394299888316</td><td>1.360908619439936</td><td>0.8157720488651492</td><td>0.4576615331346723</td><td>2</td></tr>\n",
       "<tr><td>6816370761508605952</td><td>56089</td><td>6054</td><td>628</td><td>0.43528956</td><td>0.21674338185538974</td><td>0.3223724012263999</td><td>2.1521044337281516</td><td>2.929418925714293</td><td>0.1778876403672527</td><td>0.5094560085626156</td><td>0.26885683880716016</td><td>0.3169029970651067</td><td>2</td></tr>\n",
       "<tr><td>6816372685653954560</td><td>56089</td><td>6054</td><td>635</td><td>0.66971815</td><td>0.14362915427921757</td><td>0.2730272733909399</td><td>2.1098449809197497</td><td>2.802068186553116</td><td>0.5700022408100445</td><td>0.6603275064665617</td><td>0.787410617862438</td><td>0.48611159766346645</td><td>2</td></tr>\n",
       "<tr><td>4303366833216704512</td><td>55544</td><td>3822</td><td>645</td><td>0.47481102</td><td>0.1437070218011806</td><td>0.73628230360396</td><td>2.317404210757295</td><td>2.241084498252448</td><td>1.6693094515407942</td><td>1.569444908011235</td><td>0.7218670902312461</td><td>0.3972637199276434</td><td>4</td></tr>\n",
       "<tr><td>6816377908334186496</td><td>56089</td><td>6054</td><td>654</td><td>0.5031518</td><td>-0.32675879954466014</td><td>0.11523105520322396</td><td>2.326623260565459</td><td>2.1915923747115236</td><td>1.0775255322499184</td><td>1.2046140173717035</td><td>0.7325198509747111</td><td>0.42177113231123897</td><td>2</td></tr>\n",
       "<tr><td>6816378183212093440</td><td>56089</td><td>6054</td><td>655</td><td>0.583345</td><td>1.09331469786834</td><td>0.49027249128695694</td><td>2.301060069515558</td><td>2.205603141482246</td><td>1.2412094489702206</td><td>1.1676089062927488</td><td>0.88495494262229</td><td>0.41591716607513973</td><td>3</td></tr>\n",
       "<tr><td>5130790015786569728</td><td>55588</td><td>4557</td><td>233</td><td>0.5002704</td><td>0.11209425715666846</td><td>0.11362066725524904</td><td>2.2643722774789663</td><td>1.95687377807835</td><td>0.8632198011802785</td><td>1.144586269151361</td><td>0.7134116177210608</td><td>0.4415182763793055</td><td>2</td></tr>\n",
       "</table></div>"
      ],
      "text/plain": [
       "<Table length=49270>\n",
       "     SPECOBJID        MJD  PLATE ...         i_z          TYPE\n",
       "       int64         int32 int16 ...       float64       int16\n",
       "-------------------- ----- ----- ... ------------------- -----\n",
       " 4303371506141122560 55544  3822 ... 0.39862390589964036     2\n",
       " 5821040883685150720 56063  5170 ...  0.5378095733832176     3\n",
       " 7292484314855657472 56365  6477 ... 0.15757234002977327     2\n",
       " 6816383680770232320 56089  6054 ...  0.4669580317397113     3\n",
       " 4533082846131408896 55325  4026 ...  0.4009193508476123     3\n",
       " 5130795513344708608 55588  4557 ...  0.3446281437224066     2\n",
       "-8499255819306250240 57427  8835 ...  0.2531994720201034     3\n",
       " 5130800461147033600 55588  4557 ... 0.29393535702795504     2\n",
       " 5130800736024940544 55588  4557 ... 0.23993540184093476     2\n",
       " 5821055177336311808 56063  5170 ... 0.32001098407217654     2\n",
       "                 ...   ...   ... ...                 ...   ...\n",
       " 8533334049095438336 56954  7579 ...  0.1298090611654068     1\n",
       " 5821021367353757696 56063  5170 ... 0.25257767507837414     1\n",
       " 6416549023826857984 55953  5699 ...  0.2278627677751821     3\n",
       " 6816369387119071232 56089  6054 ...  0.4576615331346723     2\n",
       " 6816370761508605952 56089  6054 ...  0.3169029970651067     2\n",
       " 6816372685653954560 56089  6054 ... 0.48611159766346645     2\n",
       " 4303366833216704512 55544  3822 ...  0.3972637199276434     4\n",
       " 6816377908334186496 56089  6054 ... 0.42177113231123897     2\n",
       " 6816378183212093440 56089  6054 ... 0.41591716607513973     3\n",
       " 5130790015786569728 55588  4557 ...  0.4415182763793055     2"
      ]
     },
     "execution_count": 13,
     "metadata": {},
     "output_type": "execute_result"
    }
   ],
   "source": [
    "t"
   ]
  },
  {
   "cell_type": "code",
   "execution_count": 14,
   "metadata": {},
   "outputs": [],
   "source": [
    "t.write('elg_classification_datalab.fits')"
   ]
  },
  {
   "cell_type": "code",
   "execution_count": null,
   "metadata": {},
   "outputs": [],
   "source": []
  }
 ],
 "metadata": {
  "kernelspec": {
   "display_name": "Python 3",
   "language": "python",
   "name": "python3"
  },
  "language_info": {
   "codemirror_mode": {
    "name": "ipython",
    "version": 3
   },
   "file_extension": ".py",
   "mimetype": "text/x-python",
   "name": "python",
   "nbconvert_exporter": "python",
   "pygments_lexer": "ipython3",
   "version": "3.8.8"
  }
 },
 "nbformat": 4,
 "nbformat_minor": 4
}
