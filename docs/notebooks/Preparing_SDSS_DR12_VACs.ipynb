{
 "cells": [
  {
   "cell_type": "markdown",
   "metadata": {},
   "source": [
    "# Preparing SDSS DR12 VACs\n",
    "\n",
    "## Introduction\n",
    "\n",
    "Working with the SDSS DR12 VAC files in preparation for loading into a database. There are two VACs currently targeted for loading into Data Lab:\n",
    "\n",
    "1. [DR12Q](https://www.sdss.org/dr16/data_access/value-added-catalogs/?vac_id=the-sloan-digital-sky-survey-quasar-catalog:-fourteenth-data-release)\n",
    "2. [Portsmouth Emission Line Catalog](https://www.sdss.org/dr16/data_access/value-added-catalogs/?vac_id=portsmouth-stellar-kinematics-and-emission-line-fluxes)\n",
    "\n",
    "All of these are conveniently stored as single FITS tables.  However, varying degrees of preprocessing may be needed.\n",
    "\n",
    "Other resources:\n",
    "\n",
    "* [SDSS CAS SQL definition files](https://trac.sdss.org/browser/repo/sdss/sas/trunk/sql)\n"
   ]
  },
  {
   "cell_type": "markdown",
   "metadata": {},
   "source": [
    "## Setup"
   ]
  },
  {
   "cell_type": "code",
   "execution_count": 4,
   "metadata": {},
   "outputs": [],
   "source": [
    "# Standard library\n",
    "import os\n",
    "from io import BytesIO\n",
    "import re\n",
    "import csv\n",
    "# matplotlib, etc.\n",
    "%matplotlib inline\n",
    "import matplotlib\n",
    "import matplotlib.pyplot as plt\n",
    "from matplotlib.font_manager import fontManager, FontProperties\n",
    "import numpy as np\n",
    "from astropy.io import fits\n",
    "from astropy.visualization import astropy_mpl_style\n",
    "from astropy.io.votable import parse_single_table\n",
    "from astropy.table import Column, Table\n",
    "plt.style.use(astropy_mpl_style)\n",
    "matplotlib.rcParams['figure.figsize'] = (10.0, 10.0)\n",
    "# Data Lab\n",
    "# from dl import queryClient as qc, storeClient as sc\n",
    "#\n",
    "# Global constants.\n",
    "#\n",
    "release = 12\n",
    "sas = 'sdss_dr{0:d}://'.format(release)\n",
    "sdss_run2d = 26\n",
    "boss_run2d = 'v5_7_0'\n",
    "# assert matplotlib.rcParams['figure.figsize'] == (10.0, 10.0)"
   ]
  },
  {
   "cell_type": "code",
   "execution_count": 30,
   "metadata": {},
   "outputs": [],
   "source": [
    "def sdss_specobjid(plate, fiber, mjd, run2d, line=None, index=None):\n",
    "    \"\"\"Convert SDSS spectrum identifiers into CAS-style specObjID.\n",
    "    Bits are assigned in specObjID thus:\n",
    "    ===== ========== =============================================================\n",
    "    Bits  Name       Comment\n",
    "    ===== ========== =============================================================\n",
    "    50-63 Plate ID   14 bits\n",
    "    38-49 Fiber ID   12 bits\n",
    "    24-37 MJD        Date plate was observed minus 50000 (14 bits)\n",
    "    10-23 run2d      Spectroscopic reduction version\n",
    "    0-9   line/index 0 for use in SpecObj files see below for other uses (10 bits)\n",
    "    ===== ========== =============================================================\n",
    "    Parameters\n",
    "    ----------\n",
    "    plate, fiber, mjd : :class:`int` or array of int\n",
    "        Plate, fiber ID, and MJD for a spectrum.  If arrays are\n",
    "        passed, all must have the same length.  The MJD value must be\n",
    "        greater than 50000.\n",
    "    run2d : :class:`int`, :class:`str` or array of int or str\n",
    "        The run2d value must be an integer or a string of the form 'vN_M_P'.\n",
    "        If an array is passed, it must have the same length as the other\n",
    "        inputs listed above.  If the string form is used, the values are\n",
    "        restricted to :math:`5 \\le N \\le 6`, :math:`0 \\le M \\le 99`,\n",
    "        :math:`0 \\le P \\le 99`.\n",
    "    line : :class:`int`, optional\n",
    "        A line index, only used for defining specObjID for SpecLine files.\n",
    "        `line` and `index` cannot both be non-zero.\n",
    "    index : :class:`int`, optional\n",
    "        An index measure, only used for defining specObjID for SpecLineIndex\n",
    "        files. `line` and `index` cannot both be non-zero.\n",
    "    Returns\n",
    "    -------\n",
    "    :class:`numpy.ndarray` of :class:`numpy.uint64`\n",
    "        The specObjIDs of the objects.\n",
    "    Raises\n",
    "    ------\n",
    "    :exc:`ValueError`\n",
    "        If the sizes of the arrays don't match or if the array values are\n",
    "        out of bounds.\n",
    "    Notes\n",
    "    -----\n",
    "    * On 32-bit systems, makes sure to explicitly declare all inputs as\n",
    "      64-bit integers.\n",
    "    * This function defines the SDSS-III/IV version of specObjID, used for\n",
    "      SDSS DR8 and subsequent data releases.  It is not compatible with\n",
    "      SDSS DR7 or earlier.\n",
    "    * If the string form of `run2d` is used, the bits are assigned by\n",
    "      the formula :math:`(N - 5) \\\\times 10000 + M \\\\times 100 + P`.\n",
    "    Examples\n",
    "    --------\n",
    "    >>> from pydl.pydlutils.sdss import sdss_specobjid\n",
    "    >>> print(sdss_specobjid(4055,408,55359,'v5_7_0'))\n",
    "    [4565636362342690816]\n",
    "    \"\"\"\n",
    "    if line is not None and index is not None:\n",
    "        raise ValueError(\"line and index inputs cannot both be non-zero!\")\n",
    "    if isinstance(plate, int):\n",
    "        plate = np.array([plate], dtype=np.uint64)\n",
    "    if isinstance(fiber, int):\n",
    "        fiber = np.array([fiber], dtype=np.uint64)\n",
    "    if isinstance(mjd, int):\n",
    "        mjd = np.array([mjd], dtype=np.uint64) - 50000\n",
    "    if isinstance(run2d, str):\n",
    "        try:\n",
    "            run2d = np.array([int(run2d)], dtype=np.uint64)\n",
    "        except ValueError:\n",
    "            # Try a \"vN_M_P\" string.\n",
    "            m = re.match(r'v(\\d+)_(\\d+)_(\\d+)', run2d)\n",
    "            if m is None:\n",
    "                raise ValueError(\"Could not extract integer run2d value!\")\n",
    "            else:\n",
    "                N, M, P = m.groups()\n",
    "            run2d = np.array([(int(N) - 5)*10000 + int(M) * 100 + int(P)],\n",
    "                             dtype=np.uint64)\n",
    "    elif isinstance(run2d, int):\n",
    "        run2d = np.array([run2d], dtype=np.uint64)\n",
    "    if line is None:\n",
    "        line = np.zeros(plate.shape, dtype=plate.dtype)\n",
    "    else:\n",
    "        if isinstance(line, int):\n",
    "            line = np.array([line], dtype=np.uint64)\n",
    "    if index is None:\n",
    "        index = np.zeros(plate.shape, dtype=plate.dtype)\n",
    "    else:\n",
    "        if isinstance(index, int):\n",
    "            index = np.array([index], dtype=np.uint64)\n",
    "    #\n",
    "    # Check that all inputs have the same shape.\n",
    "    #\n",
    "    if plate.shape != fiber.shape:\n",
    "        raise ValueError(\"fiber.shape does not match plate.shape!\")\n",
    "    if plate.shape != mjd.shape:\n",
    "        raise ValueError(\"mjd.shape does not match plate.shape!\")\n",
    "    if plate.shape != run2d.shape:\n",
    "        raise ValueError(\"run2d.shape does not match plate.shape!\")\n",
    "    if plate.shape != line.shape:\n",
    "        raise ValueError(\"line.shape does not match plate.shape!\")\n",
    "    if plate.shape != index.shape:\n",
    "        raise ValueError(\"index.shape does not match plate.shape!\")\n",
    "    #\n",
    "    # Check ranges of parameters\n",
    "    #\n",
    "    if ((plate < 0) | (plate >= 2**14)).any():\n",
    "        raise ValueError(\"plate values are out-of-bounds!\")\n",
    "    if ((fiber < 0) | (fiber >= 2**12)).any():\n",
    "        raise ValueError(\"fiber values are out-of-bounds!\")\n",
    "    if ((mjd < 0) | (mjd >= 2**14)).any():\n",
    "        raise ValueError(\"MJD values are out-of-bounds!\")\n",
    "    if ((run2d < 0) | (run2d >= 2**14)).any():\n",
    "        raise ValueError(\"MJD values are out-of-bounds!\")\n",
    "    if ((line < 0) | (line >= 2**10)).any():\n",
    "        raise ValueError(\"line values are out-of-bounds!\")\n",
    "    if ((index < 0) | (index >= 2**10)).any():\n",
    "        raise ValueError(\"index values are out-of-bounds!\")\n",
    "    #\n",
    "    # Compute the specObjID\n",
    "    #\n",
    "    specObjID = ((plate << 50) |\n",
    "                 (fiber << 38) |\n",
    "                 (mjd << 24) |\n",
    "                 (run2d << 10) |\n",
    "                 (line | index))\n",
    "    return specObjID"
   ]
  },
  {
   "cell_type": "markdown",
   "metadata": {},
   "source": [
    "## DR12Q\n",
    "\n",
    "### Overview\n",
    "\n",
    "* [data model](https://data.sdss.org/datamodel/files/BOSS_QSO/DR12Q/DR12Q.html)\n",
    "* [Pâris et al. (2017)](https://ui.adsabs.harvard.edu/abs/2017A%26A...597A..79P/abstract)\n",
    "\n",
    "### Preprocessing Plan\n",
    "\n",
    "* Compute `specObjID`; add `run2d` column.\n",
    "* Delete photometric information.\n",
    "* Move duplicate information to separate table.\n",
    "* Coerce some matching flags to integer.\n",
    "* Coerce floating point values (except `RA`, `DEC`) to 32-bit float.\n",
    "\n",
    "### Known Problems (from DR14Q)\n",
    "\n",
    "* The columns `GALEX_MATCHED`, `UKIDSS_MATCHED` are stored as float when they should be integers.  The also contain NaN values, and `GALEX_MATCHED` contains some values which are 2.  None of these cases are described in the DR14Q paper.  Only `FIRST_MATCHED` has valid values and is consistent with its description in the paper.\n",
    "* The photometric id values, `RUN_NUMBER`, `COL_NUMBER`, are all nonsense values.  All identically zero in fact.\n",
    "* The duplicate column contains extraneous zeroes, and not all duplicates are actually stored in the column.  See below for examples.  It would be much better if the duplicates were a separate table, mapping primary specObjID to duplicate specObjID.\n",
    "* `TUNIT` columns should be blank when the value has no unit, instead of `-`.\n",
    "* I would recommend checking that all units in the table conform to the FITS standard.  For example 'Vega' is a description of a unit, not a physical unit. Also, the `RASS_COUNTS` column has units counts/s, which is misleading, because the units are actually log(counts/s).  Exception: nanomaggies are not standard, but are OK.\n",
    "* Column names, *e.g.* `FLUX_0.2_2.0keV` contain characters that could be interpreted as integers.\n",
    "* Not all \"primary\" objects in DR14Q correspond to real objects in the specObjAll table.  And not all \"duplicates\" correspond to real objects either.  In these cases there are spectra that exist on disk, but are not now, and probably never will be added to CAS.  This makes it particularly difficult to cleanly join DR14Q to specObjAll."
   ]
  },
  {
   "cell_type": "code",
   "execution_count": 9,
   "metadata": {},
   "outputs": [],
   "source": [
    "# qso_version = 'v4_4'\n",
    "# vopath = \"{0}eboss/qso/DR{1:d}Q/DR{1:d}Q_{2}.fits\".format(sas, release, qso_version)\n",
    "# with BytesIO(sc.get(vopath, mode='binary')) as q:\n",
    "    # with fits.open(q) as hdulist:\n",
    "        # dr14q = hdulist['DR14Q_v4_4'].data\n",
    "q = os.path.join(os.environ['HOME'], 'Documents', 'Data', 'sdss', 'dr{0:d}'.format(release), 'boss', 'qso', 'DR{0:d}Q'.format(release), 'DR{0:d}Q.fits'.format(release))\n",
    "with fits.open(q) as hdulist:\n",
    "    dr12q = hdulist['DR12Q.fits'].data"
   ]
  },
  {
   "cell_type": "code",
   "execution_count": 10,
   "metadata": {},
   "outputs": [
    {
     "data": {
      "text/plain": [
       "(3586, 7517)"
      ]
     },
     "execution_count": 10,
     "metadata": {},
     "output_type": "execute_result"
    }
   ],
   "source": [
    "dr12q['PLATE'].min(), dr12q['PLATE'].max()"
   ]
  },
  {
   "cell_type": "code",
   "execution_count": 11,
   "metadata": {},
   "outputs": [
    {
     "data": {
      "text/plain": [
       "'000000.45+174625.4'"
      ]
     },
     "execution_count": 11,
     "metadata": {},
     "output_type": "execute_result"
    }
   ],
   "source": [
    "dr12q['SDSS_NAME'][0]"
   ]
  },
  {
   "cell_type": "markdown",
   "metadata": {},
   "source": [
    "## Need plate information\n",
    "\n",
    "Although all DR12Q spectra appear to be from BOSS, there are two possible BOSS `run2d` values in DR12.  And some plates appear in both!"
   ]
  },
  {
   "cell_type": "code",
   "execution_count": 12,
   "metadata": {},
   "outputs": [],
   "source": [
    "p = os.path.join(os.environ['HOME'], 'Documents', 'Data', 'sdss', 'dr{0:d}'.format(release), 'sdss', 'spectro', 'redux', 'plates-dr{0:d}.fits'.format(release))\n",
    "with fits.open(p) as hdulist:\n",
    "    platex = hdulist[1].data"
   ]
  },
  {
   "cell_type": "code",
   "execution_count": 13,
   "metadata": {},
   "outputs": [
    {
     "data": {
      "text/plain": [
       "FITS_rec([('299489402097264640', 'dr7', '26', '', '122',  266,   122,   -1, -1, 51602, '51602', 145.89281  ,  6.13090000e-02, 'NOCVS:iop:/usrdevel/scott/iop', 'SPEC2 v4_5', '06:08:33.65', '2000-02-28', 'tai', -0.8279895 ,  0.56074258,  1.07004371e-03,  4, 4.45843669e+09, 4.45843392e+09, 4.45843847e+09, 1.20134, 5159901, '0266-51599-01', 'plPlugMapM-0266-51599-01.par', 3600.  , 3600.  , 3600.  , 3600.  , 3600.  , 'v5_3_12', 'v5_3_12', 'v5_3_12', 'sdss', 'chunk4', 'SDSS', 'legacy', 'chunk4', 'sdss', 'SDSS-I, -II; ctile=v1_0; v2_2', 'bad', 'standard Legacy criteria',  7.67533, -9999.    , 16, 4, 4, 4, 4, 20.858 , 16.1727, 13.4718, 13.3075, 10.6615,  7.67533, -9999.    , -9999.    , -9999.    , -9999.    , -9999.    , -9999.    , -9999., -1,  4.973931 , -0.0481682 , 0.0568238, -0.0242577 , 0.0559449, -0.0175524, 0.0639471, -0.00223064, 0.0281125, -0.00537586, 0.0187705, 0.00730515, 0.0539542, -0.00434113, 0.0482151, 0.00234509, 0.0540306, 0.0101013 , 0.0356505, -0.00299549, 0.0293739, 26, 3.9325 , 4.0675 , 4.1525 , 0.375115  , 0.50117624, 0.58552426,  9.35  , 0, 0.9703415 , 0.940037, 1.01745, 0.91225976, 0.876264, 0.987985, 1.19253   , 1.11483 , 1.24817, 1.0902671, 1.0379411, 1.1468959, 0.0242607, 0.0218338, 0.0266953 , 'Done', 'Done', 'Done',  640, 489, 40, 51,  32,  28, 0, 0, 0, -10., 51604, 0., '', 'v4_2_0', 'extreme', 500),\n",
       "          ('299489402567026688', 'dr7', '26', '', '122',  266,   122,   -1, -1, 51630, '51630', 145.89281  ,  6.13090000e-02, 'v3_12_2', 'SPEC2 v4_5', '04:10:12.13', '2000-03-27', 'tai', -0.8279895 ,  0.56074258,  1.07004371e-03,  5, 4.46084864e+09, 4.46084604e+09, 4.46085017e+09, 1.20552, 5161501, '0266-51615-01', 'plPlugMapM-0266-51615-01.par', 3600.  , 3600.  , 3600.  , 3600.  , 3600.  , 'v5_3_12', 'v5_3_12', 'v5_3_12', 'sdss', 'chunk4', 'SDSS', 'legacy', 'chunk4', 'sdss', 'SDSS-I, -II; ctile=v1_0; v2_2', 'good', 'standard Legacy criteria', 20.2378 , -9999.    , 16, 4, 4, 4, 4, 22.5052, 25.6119, 20.2378, 22.3744, 23.6013, 20.6962 , -9999.    , -9999.    , -9999.    , -9999.    , -9999.    , -9999.    , -9999., -1, 17.68574  , -0.0574808 , 0.0394312, -0.046133  , 0.0327514, -0.0415955, 0.0412096, -0.0106783 , 0.0289541,  0.00301552, 0.016143 , 0.00753021, 0.0490788,  0.00443935, 0.0413613, 0.00766945, 0.0498508, 0.00803375, 0.0421694, -0.00289726, 0.0253759, 29, 1.73   , 1.81   , 1.8975 , 0.12039075, 0.1978185 , 0.3027885 ,  7.    , 0, 1.0101451 , 0.98902 , 1.02758, 0.9418315 , 0.864735, 1.00416 , 1.25871   , 1.17077 , 1.37022, 1.1285877, 1.0759543, 1.2714481, 0.0231425, 0.0253583, 0.0209198 , 'Done', 'Done', 'Done',  640, 502, 44, 53,  32,   9, 1, 1, 1, -10., 51604, 0., 'v3b', 'v4_2_0', 'extreme', 500),\n",
       "          ('300615302104770560', 'dr7', '26', '', '122',  267,   121,   -1, -1, 51608, '51608', 147.73317  , -3.06530000e-02, 'v3_10_0', 'SPEC2 v4_5', '05:18:10.29', '2000-03-05', 'tai', -0.84557092,  0.53386284, -5.34995750e-04,  3, 4.45895186e+09, 4.45894929e+09, 4.45895329e+09, 1.22942, 5160303, '0267-51603-03', 'plPlugMapM-0267-51603-03.par', 3600.  , 3600.  , 3600.  , 3600.  , 3600.  , 'v5_3_12', 'v5_3_12', 'v5_3_12', 'sdss', 'chunk4', 'SDSS', 'legacy', 'chunk4', 'sdss', 'SDSS-I, -II; ctile=v1_0; v2_2', 'good', 'standard Legacy criteria', 19.5308 , -9999.    , 16, 4, 4, 4, 4, 20.5176, 21.5656, 19.5308, 19.7984, 20.7815, 20.5264 , -9999.    , -9999.    , -9999.    , -9999.    , -9999.    , -9999.    , -9999., -1,  7.1039743, -0.0328197 , 0.0498434, -0.0396023 , 0.0301686, -0.0526676, 0.0417604,  0.00639534, 0.0411567,  0.00484657, 0.028593 , 0.00073814, 0.0378537,  0.00255203, 0.0375458, 0.0037384 , 0.0380343, 0.00181961, 0.0364628, -0.00057316, 0.02525  , 29, 1.735  , 1.8575 , 1.98   , 0.26372126, 0.39539126, 0.5185425 ,  5.25  , 0, 0.99934226, 0.968727, 1.03493, 0.93711424, 0.873394, 0.988746, 1.23306   , 1.15356 , 1.36464, 1.097418 , 1.0347407, 1.1477697, 0.0138935, 0.0154335, 0.0123488 , 'Done', 'Done', 'Done',  640, 527, 30, 37,  32,  14, 1, 1, 1, -12., 51604, 0., '', 'v4_2_0', 'extreme', 500),\n",
       "          ...,\n",
       "          ('8515181109704192000', 'dr12', 'v5_7_2', 'v5_7_2', '', 7563, 16076, 7940, -1, 56810, '56810', 244.6000061,  5.45000000e+01, '', '', '', '2014-06-02T05:36:05', '', -0.24908384, -0.5245695 ,  8.14115518e-01, 14, 0.00000000e+00, 4.90840416e+09, 4.90840703e+09, 1.09324, 5681001, '7563-56810-01', 'plPlugMapM-7563-56810-01.par', 2700.3 , 2700.3 , 2700.39, 2700.3 , 2700.39, 'v5_7_2', 'v5_7_2', 'v5_7_2', 'boss', 'boss220', 'BOSS', 'boss_lofar', '2014.04.d.boss', 'boss', 'BOSS 220 CHUNK ; tiled by bosstile v0_52', 'good', 'Standard BOSS criteria', 14.4754 ,    14.4655, 12, 3, 3, 3, 3, 14.4754, 50.007 , 42.2003, 16.383 , 51.4465, 42.1392 ,    14.4655,    49.9998,    42.1949,    16.3732,    51.4394,    42.1338, -9999., -1,  5.372138 ,  0.0105114 , 0.105419 , -0.0171928 , 0.0696325,  0.0145664, 0.0990055,  0.0206051 , 0.114447 , -0.0241957 , 0.0622213, 0.        , 0.       ,  0.        , 0.       , 0.        , 0.       , 0.        , 0.       ,  0.        , 0.       , 32, 1.44143, 1.5284 , 1.60717, 0.01227437, 0.01872953, 0.02635263, 18.2   , 0, 1.06907   , 1.00481 , 1.16206, 1.08283   , 1.05044 , 1.12422 , 0.89069486, 0.692678, 1.14193, 0.5723287, 1.0886809, 1.2020626, 0.0103913, 0.0168193, 0.00395033, 'Done', 'Done', 'Done', 1000, 471, 48, 51, 274, 156, 0, 1, 1, -15.,     0, 0., '', '', '',   0),\n",
       "          ('8516307009510371328', 'dr12', 'v5_7_2', 'v5_7_2', '', 7564, 16077, 7941, -1, 56804, '56804', 242.5      ,  5.37999992e+01, '', '', '', '2014-05-27T07:02:38', '', -0.27271135, -0.52387363,  8.06960304e-01, 11, 0.00000000e+00, 4.90789096e+09, 4.90789579e+09, 1.07266, 5680401, '7564-56803-01', 'plPlugMapM-7564-56803-01.par', 4500.51, 4500.51, 4500.78, 4500.51, 4500.78, 'v5_7_2', 'v5_7_2', 'v5_7_2', 'boss', 'boss220', 'BOSS', 'boss_lofar', '2014.04.d.boss', 'boss', 'BOSS 220 CHUNK ; tiled by bosstile v0_52', 'good', 'Standard BOSS criteria', 18.9617 ,    18.951 , 20, 5, 5, 5, 5, 18.9617, 64.6002, 46.6894, 20.6699, 69.872 , 64.1741 ,    18.951 ,    64.5925,    46.6835,    20.6592,    69.8642,    64.1682, -9999., -1,  5.356805 ,  0.00012207, 0.138799 ,  0.00236893, 0.113272 ,  0.0126724, 0.110119 ,  0.00790405, 0.0727123, -0.0160599 , 0.0315095, 0.        , 0.       ,  0.        , 0.       , 0.        , 0.       , 0.        , 0.       ,  0.        , 0.       , 33, 1.63976, 1.77196, 1.91232, 0.01237082, 0.02055898, 0.02876346, 10.68  , 0, 1.0841    , 1.02405 , 1.18196, 1.08803   , 1.04711 , 1.14369 , 0.8768502 , 0.683004, 1.13832, 0.5856908, 1.1098046, 1.2319388, 0.0132355, 0.0236617, 0.00272447, 'Done', 'Done', 'Done', 1000, 432, 56, 48, 347, 117, 0, 1, 1, -15.,     0, 0., '', '', '',   0),\n",
       "          ('8517432909501100032', 'dr12', 'v5_7_2', 'v5_7_2', '', 7565, 16078, 7942, -1, 56809, '56809', 242.5      ,  5.52000008e+01, '', '', '', '2014-06-01T05:42:59', '', -0.26352619, -0.50622911,  8.21149217e-01, 14, 0.00000000e+00, 4.90831818e+09, 4.90832104e+09, 1.09222, 5680901, '7565-56805-01', 'plPlugMapM-7565-56805-01.par', 2700.27, 2700.27, 2700.44, 2700.27, 2700.44, 'v5_7_2', 'v5_7_2', 'v5_7_2', 'boss', 'boss220', 'BOSS', 'boss_lofar', '2014.04.d.boss', 'boss', 'BOSS 220 CHUNK ; tiled by bosstile v0_52', 'good', 'Standard BOSS criteria', 16.6034 ,    16.594 , 12, 3, 3, 3, 3, 16.6034, 57.5936, 48.1457, 19.3555, 57.7804, 52.2936 ,    16.594 ,    57.5867,    48.1405,    19.3461,    57.7736,    52.2884, -9999., -1,  5.8674088,  0.0264091 , 0.110095 ,  0.0134497 , 0.0732534,  0.0252867, 0.0939208,  0.00794315, 0.0883034, -0.0140848 , 0.0506617, 0.        , 0.       ,  0.        , 0.       , 0.        , 0.       , 0.        , 0.       ,  0.        , 0.       , 34, 1.36077, 1.39787, 1.43627, 0.01069103, 0.0189739 , 0.02793233, 18.6333, 0, 1.06693   , 1.00053 , 1.16589, 1.06983   , 1.02083 , 1.11587 , 0.8776112 , 0.683699, 1.11558, 1.1581256, 1.1172038, 1.2253603, 0.0227324, 0.03401  , 0.0115226 , 'Done', 'Done', 'Done', 1000, 392, 42, 44, 450,  72, 0, 1, 1, -15.,     0, 0., '', '', '',   0)],\n",
       "         dtype=(numpy.record, [('PLATEID', 'S19'), ('FIRSTRELEASE', 'S4'), ('RUN2D', 'S6'), ('RUN1D', 'S6'), ('RUNSSPP', 'S3'), ('PLATE', '>i4'), ('TILE', '>i4'), ('DESIGNID', '>i4'), ('LOCATIONID', '>i4'), ('MJD', '>i4'), ('MJDLIST', 'S53'), ('RACEN', '>f8'), ('DECCEN', '>f8'), ('IOPVERSION', 'S37'), ('CAMVERSION', 'S10'), ('TAIHMS', 'S11'), ('DATEOBS', 'S19'), ('TIMESYS', 'S8'), ('CX', '>f8'), ('CY', '>f8'), ('CZ', '>f8'), ('CARTID', '>i4'), ('TAI', '>f8'), ('TAI_BEG', '>f8'), ('TAI_END', '>f8'), ('AIRMASS', '>f4'), ('MAPMJD', '>i4'), ('MAPNAME', 'S13'), ('PLUGFILE', 'S28'), ('EXPTIME', '>f4'), ('EXPT_B1', '>f4'), ('EXPT_B2', '>f4'), ('EXPT_R1', '>f4'), ('EXPT_R2', '>f4'), ('VERS2D', 'S15'), ('VERSCOMB', 'S16'), ('VERS1D', 'S16'), ('SURVEY', 'S6'), ('CHUNK', 'S16'), ('INSTRUMENT', 'S4'), ('PROGRAMNAME', 'S27'), ('PLATERUN', 'S16'), ('DRILLSTYLE', 'S4'), ('DESIGN_COMMENTS', 'S121'), ('PLATEQUALITY', 'S8'), ('QUALITY_COMMENTS', 'S77'), ('PLATESN2', '>f4'), ('DEREDSN2', '>f4'), ('NEXP', '>i4'), ('NEXP_B1', '>i4'), ('NEXP_B2', '>i4'), ('NEXP_R1', '>i4'), ('NEXP_R2', '>i4'), ('SN2_G1', '>f4'), ('SN2_R1', '>f4'), ('SN2_I1', '>f4'), ('SN2_G2', '>f4'), ('SN2_R2', '>f4'), ('SN2_I2', '>f4'), ('DERED_SN2_G1', '>f4'), ('DERED_SN2_R1', '>f4'), ('DERED_SN2_I1', '>f4'), ('DERED_SN2_G2', '>f4'), ('DERED_SN2_R2', '>f4'), ('DERED_SN2_I2', '>f4'), ('SNTURNOFF', '>f4'), ('NTURNOFF', '>i4'), ('HELIO_RV', '>f4'), ('GOFFSTD', '>f4'), ('GRMSSTD', '>f4'), ('ROFFSTD', '>f4'), ('RRMSSTD', '>f4'), ('IOFFSTD', '>f4'), ('IRMSSTD', '>f4'), ('GROFFSTD', '>f4'), ('GRRMSSTD', '>f4'), ('RIOFFSTD', '>f4'), ('RIRMSSTD', '>f4'), ('GOFFGAL', '>f4'), ('GRMSGAL', '>f4'), ('ROFFGAL', '>f4'), ('RRMSGAL', '>f4'), ('IOFFGAL', '>f4'), ('IRMSGAL', '>f4'), ('GROFFGAL', '>f4'), ('GRRMSGAL', '>f4'), ('RIOFFGAL', '>f4'), ('RIRMSGAL', '>f4'), ('NGUIDE', '>i4'), ('SEEING20', '>f4'), ('SEEING50', '>f4'), ('SEEING80', '>f4'), ('RMSOFF20', '>f4'), ('RMSOFF50', '>f4'), ('RMSOFF80', '>f4'), ('AIRTEMP', '>f4'), ('SFD_USED', '>i2'), ('XSIGMA', '>f4'), ('XSIGMIN', '>f4'), ('XSIGMAX', '>f4'), ('WSIGMA', '>f4'), ('WSIGMIN', '>f4'), ('WSIGMAX', '>f4'), ('XCHI2', '>f4'), ('XCHI2MIN', '>f4'), ('XCHI2MAX', '>f4'), ('SKYCHI2', '>f4'), ('SCHI2MIN', '>f4'), ('SCHI2MAX', '>f4'), ('FBADPIX', '>f4'), ('FBADPIX1', '>f4'), ('FBADPIX2', '>f4'), ('STATUS2D', 'S4'), ('STATUSCOMBINE', 'S6'), ('STATUS1D', 'S7'), ('N_TOTAL', '>i4'), ('N_GALAXY', '>i4'), ('N_QSO', '>i4'), ('N_STAR', '>i4'), ('N_SKY', '>i4'), ('N_UNKNOWN', '>i4'), ('IS_TILE', '>i4'), ('IS_PRIMARY', '>i4'), ('IS_BEST', '>i4'), ('HA', '>f4'), ('MJDDESIGN', '>i4'), ('THETA', '>f4'), ('FSCAN_VERSION', 'S6'), ('FMAP_VERSION', 'S6'), ('FSCAN_MODE', 'S7'), ('FSCAN_SPEED', '>i4')]))"
      ]
     },
     "execution_count": 13,
     "metadata": {},
     "output_type": "execute_result"
    }
   ],
   "source": [
    "platex"
   ]
  },
  {
   "cell_type": "markdown",
   "metadata": {},
   "source": [
    "## specObjID"
   ]
  },
  {
   "cell_type": "code",
   "execution_count": 28,
   "metadata": {},
   "outputs": [],
   "source": [
    "run2d = np.array([boss_run2d.encode('utf-8')]*len(dr12q))\n",
    "run2d_lookup = dict()\n",
    "for k, row in enumerate(dr12q):\n",
    "    pmjd = \"{0}-{1}\".format(row['PLATE'], row['MJD'])\n",
    "    if pmjd in run2d_lookup:\n",
    "        run2d[k] = run2d_lookup[pmjd]\n",
    "        continue\n",
    "    # q = \"SELECT run2d FROM sdss_dr{0:d}_new.platex WHERE plate = {1:d};\".format(release, p)\n",
    "    # vot = qc.query(sql=q, fmt='votable', async=False)\n",
    "    # result = parse_single_table(BytesIO(vot.encode('utf-8')))\n",
    "    # print(result.array['run2d'][0])\n",
    "    r = np.unique(platex[(platex['PLATE'] == row['PLATE']) & (platex['MJD'] == row['MJD'])]['RUN2D'])\n",
    "    # print(pmjd, r)\n",
    "    run2d[k] = run2d_lookup[pmjd] = r[0]\n"
   ]
  },
  {
   "cell_type": "code",
   "execution_count": 51,
   "metadata": {},
   "outputs": [],
   "source": [
    "irun2d = np.zeros(dr12q.shape, dtype=np.uint64)\n",
    "for r in ('v5_7_0', 'v5_7_2'):\n",
    "    w = run2d == r.encode('utf-8')\n",
    "    assert w.sum() > 0\n",
    "    m = re.match(r'v(\\d+)_(\\d+)_(\\d+)', r)\n",
    "    N, M, P = m.groups()\n",
    "    irun2d[w] = (int(N) - 5)*10000 + int(M) * 100 + int(P)\n",
    "specobjid = sdss_specobjid(dr12q['PLATE'].astype(np.uint64),\n",
    "                           dr12q['FIBERID'].astype(np.uint64),\n",
    "                           dr12q['MJD'].astype(np.uint64) - 50000,\n",
    "                           irun2d)\n",
    "sdss_joinid = sdss_specobjid(dr12q['PLATE'].astype(np.uint64),\n",
    "                             dr12q['FIBERID'].astype(np.uint64),\n",
    "                             dr12q['MJD'].astype(np.uint64) - 50000,\n",
    "                             np.zeros(irun2d.shape, dtype=np.uint64))\n"
   ]
  },
  {
   "cell_type": "code",
   "execution_count": 59,
   "metadata": {},
   "outputs": [
    {
     "data": {
      "text/plain": [
       "1089"
      ]
     },
     "execution_count": 59,
     "metadata": {},
     "output_type": "execute_result"
    }
   ],
   "source": [
    "(dr12q['NSPEC_BOSS'] == 3).sum()"
   ]
  },
  {
   "cell_type": "markdown",
   "metadata": {},
   "source": [
    "## Handle duplicates"
   ]
  },
  {
   "cell_type": "code",
   "execution_count": 61,
   "metadata": {},
   "outputs": [],
   "source": [
    "with open(os.path.join(os.environ['HOME'], 'Downloads', 'dr12q_duplicates.csv'), 'w', newline='') as csvfile:\n",
    "    dw = csv.writer(csvfile)\n",
    "    dw.writerow(['specobjid', 'dupspecobjid', 'run2d', 'plate', 'mjd', 'fiberid', 'snr'])\n",
    "    for k in range(len(dr12q)):\n",
    "        if dr12q[k]['NSPEC_BOSS'] > 0:\n",
    "            w = dr12q['PLATE_DUPLICATE'][k, :] > 0\n",
    "            Nd = w.sum()\n",
    "            irun2d = np.zeros((Nd,), dtype=np.uint64)\n",
    "            plates = dr12q['PLATE_DUPLICATE'][k, w]\n",
    "            mjds = dr12q['MJD_DUPLICATE'][k, w]\n",
    "            fibers = dr12q['FIBERID_DUPLICATE'][k, w]\n",
    "            snrs = dr12q['SNR_DUPLICATE'][k, w]\n",
    "            pmjds = ['{0:d}-{1:d}'.format(plates[j], mjds[j]) for j in range(Nd)]\n",
    "            for i, p in enumerate(plates):\n",
    "                try:\n",
    "                    foo = run2d_lookup[pmjds[i]]\n",
    "                except KeyError:\n",
    "                    # q = \"SELECT run2d FROM sdss_dr{0:d}_new.platex WHERE plate = {1:d} AND mjd = {2:d};\".format(release, p, mjds[i])\n",
    "                    # try:\n",
    "                    #     vot = qc.query(sql=q, fmt='votable', async=False)\n",
    "                    # except qc.queryClientError as e:\n",
    "                    #     if str(e) == 'Error: SQL query did not return any records':\n",
    "                    #         q = \"SELECT run2d FROM sdss_dr{0:d}_new.platex WHERE plate = {1:d};\".format(release, p)\n",
    "                    #         vot = qc.query(sql=q, fmt='votable', async=False)\n",
    "                    #     else:\n",
    "                    #         raise\n",
    "                    # result = parse_single_table(BytesIO(vot.encode('utf-8')))\n",
    "                    # foo = run2d_lookup[p] = result.array['run2d'][0]\n",
    "                    foo = run2d_lookup[pmjds[i]] = np.unique(platex[(platex['PLATE'] == plates[i]) & (platex['MJD'] == mjds[i])]['RUN2D'])[0]\n",
    "                # if foo == boss_run2d.encode('utf-8'):\n",
    "                #     irun2d[i] = br\n",
    "                # else:\n",
    "                #     irun2d[i] = int(foo)\n",
    "                m = re.match(r'v(\\d+)_(\\d+)_(\\d+)', foo)\n",
    "                N, M, P = m.groups()\n",
    "                br = (int(N) - 5)*10000 + int(M) * 100 + int(P)\n",
    "                irun2d[i] = br\n",
    "            dupspecobjid = sdss_specobjid(plates.astype(np.uint64),\n",
    "                                          fibers.astype(np.uint64),\n",
    "                                          mjds.astype(np.uint64) - 50000,\n",
    "                                          irun2d)\n",
    "            for l in range(Nd):\n",
    "                dw.writerow([specobjid[k].astype(np.int64),\n",
    "                             dupspecobjid[l].astype(np.int64),\n",
    "                             run2d_lookup[pmjds[l]],\n",
    "                             plates[l],\n",
    "                             mjds[l],\n",
    "                             fibers[l],\n",
    "                             snrs[l]])"
   ]
  },
  {
   "cell_type": "markdown",
   "metadata": {},
   "source": [
    "## Preprocess main table"
   ]
  },
  {
   "cell_type": "code",
   "execution_count": 65,
   "metadata": {},
   "outputs": [],
   "source": [
    "t = Table(dr12q)\n",
    "for c in dr12q.columns.names:\n",
    "    if dr12q[c].dtype.type is np.float64 and c != 'RA' and c != 'DEC':\n",
    "        t[c] = dr12q[c].astype(np.float32)\n",
    "# t['GALEX_MATCHED'] = galex_matched\n",
    "# t['UKIDSS_MATCHED'] = ukidss_matched\n",
    "t.remove_columns(['PLATE_DUPLICATE', 'MJD_DUPLICATE', 'FIBERID_DUPLICATE', 'SNR_DUPLICATE',\n",
    "                  'PHOTO_MJD', 'RUN_NUMBER', 'RERUN_NUMBER', 'COL_NUMBER', 'FIELD_NUMBER', 'OBJ_ID'])\n",
    "t.add_column(Column(name='SPECOBJID', data=specobjid.astype(np.character)), index=0)\n",
    "t.add_column(Column(name='SDSS_JOINID', data=sdss_joinid.astype(np.character)), index=1)\n",
    "t.add_column(Column(name='RUN2D', data=run2d), index=6)\n"
   ]
  },
  {
   "cell_type": "code",
   "execution_count": 66,
   "metadata": {},
   "outputs": [
    {
     "data": {
      "text/html": [
       "<i>Table length=297301</i>\n",
       "<table id=\"table5860147152\" class=\"table-striped table-bordered table-condensed\">\n",
       "<thead><tr><th>SPECOBJID</th><th>SDSS_JOINID</th><th>SDSS_NAME</th><th>RA</th><th>DEC</th><th>THING_ID</th><th>RUN2D</th><th>PLATE</th><th>MJD</th><th>FIBERID</th><th>Z_VI</th><th>Z_PIPE</th><th>ERR_ZPIPE</th><th>ZWARNING</th><th>Z_PCA</th><th>ERR_ZPCA</th><th>PCA_QUAL</th><th>Z_CIV</th><th>Z_CIII</th><th>Z_MGII</th><th>SDSS_MORPHO</th><th>BOSS_TARGET1</th><th>ANCILLARY_TARGET1</th><th>ANCILLARY_TARGET2</th><th>EBOSS_TARGET0</th><th>NSPEC_BOSS</th><th>SDSS_DR7</th><th>PLATE_DR7</th><th>MJD_DR7</th><th>FIBERID_DR7</th><th>UNIFORM</th><th>ALPHA_NU</th><th>SNR_SPEC</th><th>SNR_1700</th><th>SNR_3000</th><th>SNR_5150</th><th>FWHM_CIV</th><th>BHWHM_CIV</th><th>RHWHM_CIV</th><th>AMP_CIV</th><th>REWE_CIV</th><th>ERR_REWE_CIV</th><th>FWHM_CIII</th><th>BHWHM_CIII</th><th>RHWHM_CIII</th><th>AMP_CIII</th><th>REWE_CIII</th><th>ERR_REWE_CIII</th><th>FWHM_MGII</th><th>BHWHM_MGII</th><th>RHWHM_MGII</th><th>AMP_MGII</th><th>REWE_MGII</th><th>ERR_REWE_MGII</th><th>BAL_FLAG_VI</th><th>BI_CIV</th><th>ERR_BI_CIV</th><th>AI_CIV</th><th>ERR_AI_CIV</th><th>CHI2TROUGH</th><th>NCIV_2000</th><th>VMIN_CIV_2000</th><th>VMAX_CIV_2000</th><th>NCIV_450</th><th>VMIN_CIV_450</th><th>VMAX_CIV_450</th><th>REW_SIIV</th><th>REW_CIV</th><th>REW_ALIII</th><th>PSFFLUX [5]</th><th>IVAR_PSFFLUX [5]</th><th>PSFMAG [5]</th><th>ERR_PSFMAG [5]</th><th>TARGET_FLUX [5]</th><th>MI</th><th>DGMI</th><th>EXTINCTION [5]</th><th>EXTINCTION_RECAL [5]</th><th>HI_GAL</th><th>VAR_MATCHED</th><th>VAR_CHI2</th><th>VAR_A</th><th>VAR_GAMMA</th><th>RASS_COUNTS</th><th>RASS_COUNTS_SNR</th><th>SDSS2ROSAT_SEP</th><th>N_DETECTION_XMM</th><th>FLUX02_12KEV_SGL</th><th>ERR_FLUX02_12KEV_SGL</th><th>FLUX02_2KEV</th><th>ERR_FLUX02_2KEV</th><th>FLUX2_12KEV</th><th>ERR_FLUX2_12KEV</th><th>FLUX02_12KEV</th><th>ERR_FLUX02_12KEV</th><th>LUM02_2KEV_SGL</th><th>LUM05_2KEV</th><th>LUM2_12KEV</th><th>LUM02_2KEV</th><th>LUMX2_10_UPPER</th><th>SDSS2XMM_SEP</th><th>GALEX_MATCHED</th><th>FUV</th><th>FUV_IVAR</th><th>NUV</th><th>NUV_IVAR</th><th>JMAG</th><th>ERR_JMAG</th><th>JSNR</th><th>JRDFLAG</th><th>HMAG</th><th>ERR_HMAG</th><th>HSNR</th><th>HRDFLAG</th><th>KMAG</th><th>ERR_KMAG</th><th>KSNR</th><th>KRDFLAG</th><th>SDSS2MASS_SEP</th><th>W1MAG</th><th>ERR_W1MAG</th><th>W1SNR</th><th>W1CHI2</th><th>W2MAG</th><th>ERR_W2MAG</th><th>W2SNR</th><th>W2CHI2</th><th>W3MAG</th><th>ERR_W3MAG</th><th>W3SNR</th><th>W3CHI2</th><th>W4MAG</th><th>ERR_W4MAG</th><th>W4SNR</th><th>W4CHI2</th><th>CC_FLAGS</th><th>PH_FLAG</th><th>SDSS2WISE_SEP</th><th>UKIDSS_MATCHED</th><th>YFLUX</th><th>YFLUX_ERR</th><th>JFLUX</th><th>JFLUX_ERR</th><th>HFLUX</th><th>HFLUX_ERR</th><th>KFLUX</th><th>KFLUX_ERR</th><th>FIRST_MATCHED</th><th>FIRST_FLUX</th><th>FIRST_SNR</th><th>SDSS2FIRST_SEP</th></tr></thead>\n",
       "<thead><tr><th>bytes20</th><th>bytes20</th><th>str18</th><th>float64</th><th>float64</th><th>int32</th><th>bytes6</th><th>int32</th><th>int32</th><th>int32</th><th>float32</th><th>float32</th><th>float32</th><th>int32</th><th>float32</th><th>float32</th><th>float32</th><th>float32</th><th>float32</th><th>float32</th><th>int16</th><th>int64</th><th>int64</th><th>int64</th><th>int64</th><th>int32</th><th>int32</th><th>int32</th><th>int32</th><th>int32</th><th>int16</th><th>float32</th><th>float32</th><th>float32</th><th>float32</th><th>float32</th><th>float32</th><th>float32</th><th>float32</th><th>float32</th><th>float32</th><th>float32</th><th>float32</th><th>float32</th><th>float32</th><th>float32</th><th>float32</th><th>float32</th><th>float32</th><th>float32</th><th>float32</th><th>float32</th><th>float32</th><th>float32</th><th>int16</th><th>float32</th><th>float32</th><th>float32</th><th>float32</th><th>float32</th><th>int32</th><th>float32</th><th>float32</th><th>int32</th><th>float32</th><th>float32</th><th>float32</th><th>float32</th><th>float32</th><th>float32</th><th>float32</th><th>float32</th><th>float32</th><th>float32</th><th>float32</th><th>float32</th><th>float32</th><th>float32</th><th>float32</th><th>int16</th><th>float32</th><th>float32</th><th>float32</th><th>float32</th><th>float32</th><th>float32</th><th>int16</th><th>float32</th><th>float32</th><th>float32</th><th>float32</th><th>float32</th><th>float32</th><th>float32</th><th>float32</th><th>float32</th><th>float32</th><th>float32</th><th>float32</th><th>int16</th><th>float32</th><th>int16</th><th>float32</th><th>float32</th><th>float32</th><th>float32</th><th>float32</th><th>float32</th><th>float32</th><th>int32</th><th>float32</th><th>float32</th><th>float32</th><th>int32</th><th>float32</th><th>float32</th><th>float32</th><th>int32</th><th>float32</th><th>float32</th><th>float32</th><th>float32</th><th>float32</th><th>float32</th><th>float32</th><th>float32</th><th>float32</th><th>float32</th><th>float32</th><th>float32</th><th>float32</th><th>float32</th><th>float32</th><th>float32</th><th>float32</th><th>str4</th><th>str4</th><th>float32</th><th>int16</th><th>float32</th><th>float32</th><th>float32</th><th>float32</th><th>float32</th><th>float32</th><th>float32</th><th>float32</th><th>int16</th><th>float32</th><th>float32</th><th>float32</th></tr></thead>\n",
       "<tr><td>6950325365131374592</td><td>6950325365130657792</td><td>000000.45+174625.4</td><td>0.001898285183756343</td><td>17.773739129913793</td><td>268514930</td><td>v5_7_0</td><td>6173</td><td>56238</td><td>528</td><td>2.3090973</td><td>2.3090973</td><td>0.000943339</td><td>0</td><td>2.3076386</td><td>-1.0</td><td>0.3461823</td><td>2.3123078</td><td>2.306385</td><td>2.3046865</td><td>0</td><td>2199023796224</td><td>0</td><td>0</td><td>0</td><td>0</td><td>0</td><td>-1</td><td>-1</td><td>-1</td><td>0</td><td>0.53733623</td><td>0.7794849</td><td>0.5856829</td><td>0.9155019</td><td>-1.0</td><td>4278.79</td><td>1595.2887</td><td>2683.5015</td><td>2.1532874</td><td>44.002865</td><td>1.4009717</td><td>3575.001</td><td>1554.1217</td><td>2020.8794</td><td>0.70666695</td><td>38.428566</td><td>15.851724</td><td>7996.404</td><td>4579.19</td><td>3417.2139</td><td>0.22327954</td><td>69.386</td><td>17.880812</td><td>0</td><td>0.0</td><td>0.0</td><td>0.0</td><td>0.0</td><td>0.0</td><td>0</td><td>0.0</td><td>0.0</td><td>0</td><td>0.0</td><td>0.0</td><td>0.0</td><td>0.0</td><td>0.0</td><td>1.038477 .. 2.6584318</td><td>12.359663 .. 0.8528282</td><td>22.439793 .. 21.362684</td><td>0.28713453 .. 0.38640517</td><td>1.038477 .. 2.6584318</td><td>-23.88293</td><td>-0.08209104</td><td>0.14619489 .. 0.041944176</td><td>0.113614365 .. 0.03385113</td><td>21.929712</td><td>0</td><td>0.0</td><td>0.0</td><td>0.0</td><td>0.0</td><td>0.0</td><td>0.0</td><td>0</td><td>0.0</td><td>0.0</td><td>0.0</td><td>0.0</td><td>0.0</td><td>0.0</td><td>0.0</td><td>0.0</td><td>0.0</td><td>0.0</td><td>0.0</td><td>0.0</td><td>0</td><td>0.0</td><td>1</td><td>0.30231887</td><td>8.785573</td><td>0.7275649</td><td>4.5373588</td><td>0.0</td><td>0.0</td><td>0.0</td><td>0</td><td>0.0</td><td>0.0</td><td>0.0</td><td>0</td><td>0.0</td><td>0.0</td><td>0.0</td><td>0</td><td>0.0</td><td>0.0</td><td>0.0</td><td>0.0</td><td>0.0</td><td>0.0</td><td>0.0</td><td>0.0</td><td>0.0</td><td>0.0</td><td>0.0</td><td>0.0</td><td>0.0</td><td>0.0</td><td>0.0</td><td>0.0</td><td>0.0</td><td></td><td></td><td>0.0</td><td>0</td><td>0.0</td><td>0.0</td><td>0.0</td><td>0.0</td><td>0.0</td><td>0.0</td><td>0.0</td><td>0.0</td><td>-1</td><td>0.0</td><td>0.0</td><td>0.0</td></tr>\n",
       "<tr><td>6954847382081826816</td><td>6954847382081110016</td><td>000000.66+145828.8</td><td>0.0027564300929725505</td><td>14.974675493723005</td><td>245101352</td><td>v5_7_0</td><td>6177</td><td>56268</td><td>595</td><td>2.4979408</td><td>2.4979408</td><td>0.0008752802</td><td>0</td><td>2.5158746</td><td>0.0015261462</td><td>0.06378377</td><td>2.4965057</td><td>2.489434</td><td>-1.0</td><td>0</td><td>2199023255552</td><td>0</td><td>0</td><td>0</td><td>1</td><td>0</td><td>-1</td><td>-1</td><td>-1</td><td>0</td><td>-1.0268776</td><td>3.5009146</td><td>2.8351843</td><td>1.0002095</td><td>-1.0</td><td>5336.114</td><td>2014.5121</td><td>3321.6018</td><td>3.3597353</td><td>23.514631</td><td>0.6103525</td><td>9292.63</td><td>4320.1743</td><td>4972.4556</td><td>1.9408957</td><td>24.292723</td><td>1.9312373</td><td>-1.0</td><td>-1.0</td><td>-1.0</td><td>-1.0</td><td>-1.0</td><td>-1.0</td><td>0</td><td>0.0</td><td>0.0</td><td>0.0</td><td>0.0</td><td>0.0</td><td>0</td><td>0.0</td><td>0.0</td><td>0</td><td>0.0</td><td>0.0</td><td>0.0</td><td>0.0</td><td>0.0</td><td>1.6516559 .. 5.4298477</td><td>15.646288 .. 0.8361708</td><td>21.947483 .. 20.643404</td><td>0.16384998 .. 0.21097344</td><td>-1.0 .. -1.0</td><td>-25.23069</td><td>0.3481581</td><td>0.19872715 .. 0.05701599</td><td>0.11305906 .. 0.033685677</td><td>21.9413</td><td>3</td><td>3.3871737</td><td>0.08595312</td><td>0.1177346</td><td>0.0</td><td>0.0</td><td>0.0</td><td>0</td><td>0.0</td><td>0.0</td><td>0.0</td><td>0.0</td><td>0.0</td><td>0.0</td><td>0.0</td><td>0.0</td><td>0.0</td><td>0.0</td><td>0.0</td><td>0.0</td><td>0</td><td>0.0</td><td>1</td><td>0.046318613</td><td>701.1043</td><td>0.052529763</td><td>384.75098</td><td>0.0</td><td>0.0</td><td>0.0</td><td>0</td><td>0.0</td><td>0.0</td><td>0.0</td><td>0</td><td>0.0</td><td>0.0</td><td>0.0</td><td>0</td><td>0.0</td><td>0.0</td><td>0.0</td><td>0.0</td><td>0.0</td><td>0.0</td><td>0.0</td><td>0.0</td><td>0.0</td><td>0.0</td><td>0.0</td><td>0.0</td><td>0.0</td><td>0.0</td><td>0.0</td><td>0.0</td><td>0.0</td><td></td><td></td><td>0.0</td><td>1</td><td>1.860383e-31</td><td>3.1476844e-32</td><td>2.3109478e-31</td><td>4.5653324e-32</td><td>2.3553143e-31</td><td>5.9704804e-32</td><td>2.4271492e-31</td><td>6.5217244e-32</td><td>0</td><td>0.0</td><td>0.0</td><td>0.0</td></tr>\n",
       "<tr><td>4970975729887670272</td><td>4970975729886953472</td><td>000000.97+044947.2</td><td>0.004052388539889762</td><td>4.829780574673504</td><td>154279486</td><td>v5_7_0</td><td>4415</td><td>55831</td><td>464</td><td>1.618846</td><td>1.618846</td><td>0.000585458</td><td>0</td><td>1.6286104</td><td>0.0005182338</td><td>0.051578235</td><td>-1.0</td><td>1.6239294</td><td>1.6298639</td><td>0</td><td>2199023910912</td><td>0</td><td>0</td><td>0</td><td>0</td><td>0</td><td>-1</td><td>-1</td><td>-1</td><td>0</td><td>-0.28124973</td><td>7.1101837</td><td>1.2681497</td><td>13.807914</td><td>-1.0</td><td>-1.0</td><td>-1.0</td><td>-1.0</td><td>-1.0</td><td>-1.0</td><td>-1.0</td><td>5863.205</td><td>1992.1467</td><td>3871.0586</td><td>4.3919525</td><td>26.808744</td><td>1.0874897</td><td>2443.6006</td><td>1249.4578</td><td>1194.1428</td><td>5.2894793</td><td>34.79888</td><td>1.1283836</td><td>0</td><td>0.0</td><td>0.0</td><td>0.0</td><td>0.0</td><td>0.0</td><td>0</td><td>0.0</td><td>0.0</td><td>0</td><td>0.0</td><td>0.0</td><td>0.0</td><td>0.0</td><td>0.0</td><td>6.645734 .. 19.90434</td><td>7.1566243 .. 0.5248557</td><td>20.443161 .. 19.251133</td><td>0.061015777 .. 0.07508606</td><td>-1.0 .. -1.0</td><td>-25.600262</td><td>0.25962853</td><td>0.16928862 .. 0.048569907</td><td>0.070629664 .. 0.021043938</td><td>21.9841</td><td>3</td><td>3.0460691</td><td>0.008745284</td><td>1.385865</td><td>0.0</td><td>0.0</td><td>0.0</td><td>0</td><td>0.0</td><td>0.0</td><td>0.0</td><td>0.0</td><td>0.0</td><td>0.0</td><td>0.0</td><td>0.0</td><td>0.0</td><td>0.0</td><td>0.0</td><td>0.0</td><td>0</td><td>0.0</td><td>1</td><td>0.34930804</td><td>22.587234</td><td>1.5732929</td><td>13.871135</td><td>0.0</td><td>0.0</td><td>0.0</td><td>0</td><td>0.0</td><td>0.0</td><td>0.0</td><td>0</td><td>0.0</td><td>0.0</td><td>0.0</td><td>0</td><td>0.0</td><td>15.503</td><td>0.044</td><td>24.5</td><td>0.9052</td><td>13.987</td><td>0.044</td><td>24.5</td><td>0.913</td><td>10.764</td><td>0.112</td><td>9.7</td><td>0.9418</td><td>8.056</td><td>0.205</td><td>5.3</td><td>0.0</td><td>0000</td><td>AABB</td><td>0.26851246</td><td>1</td><td>5.525437e-31</td><td>3.5955865e-32</td><td>6.5974997e-31</td><td>4.1546517e-32</td><td>9.03816e-31</td><td>4.4203325e-32</td><td>8.567425e-31</td><td>5.1787685e-32</td><td>0</td><td>0.0</td><td>0.0</td><td>0.0</td></tr>\n",
       "<tr><td>4902354659090034688</td><td>4902354659089317888</td><td>000001.27-020159.7</td><td>0.005316973864466945</td><td>-2.033273288571811</td><td>62145359</td><td>v5_7_0</td><td>4354</td><td>55810</td><td>678</td><td>1.3603575</td><td>1.3603575</td><td>0.00044679813</td><td>0</td><td>1.3620118</td><td>0.0003876997</td><td>0.067487225</td><td>-1.0</td><td>1.3694791</td><td>1.3622836</td><td>0</td><td>262144</td><td>0</td><td>0</td><td>0</td><td>0</td><td>0</td><td>-1</td><td>-1</td><td>-1</td><td>0</td><td>-1.3932616</td><td>6.19812</td><td>4.666972</td><td>8.585757</td><td>-1.0</td><td>-1.0</td><td>-1.0</td><td>-1.0</td><td>-1.0</td><td>-1.0</td><td>-1.0</td><td>4531.637</td><td>1976.8667</td><td>2554.7703</td><td>3.8921704</td><td>17.457369</td><td>0.60735434</td><td>3824.899</td><td>1722.624</td><td>2102.275</td><td>7.309681</td><td>46.75869</td><td>0.68939894</td><td>0</td><td>0.0</td><td>0.0</td><td>0.0</td><td>0.0</td><td>0.0</td><td>0</td><td>0.0</td><td>0.0</td><td>0</td><td>0.0</td><td>0.0</td><td>0.0</td><td>0.0</td><td>0.0</td><td>5.7668467 .. 29.057867</td><td>10.687714 .. 1.0045693</td><td>20.597015 .. 18.841137</td><td>0.057521764 .. 0.037231285</td><td>5.326442 .. 29.269331</td><td>-25.652609</td><td>0.69809705</td><td>0.19697677 .. 0.056513797</td><td>0.07715573 .. 0.022988368</td><td>22.069714</td><td>0</td><td>0.0</td><td>0.0</td><td>0.0</td><td>0.0</td><td>0.0</td><td>0.0</td><td>0</td><td>0.0</td><td>0.0</td><td>0.0</td><td>0.0</td><td>0.0</td><td>0.0</td><td>0.0</td><td>0.0</td><td>0.0</td><td>0.0</td><td>0.0</td><td>0.0</td><td>0</td><td>0.0</td><td>1</td><td>0.0</td><td>0.0</td><td>0.0</td><td>0.0</td><td>0.0</td><td>0.0</td><td>0.0</td><td>0</td><td>0.0</td><td>0.0</td><td>0.0</td><td>0</td><td>0.0</td><td>0.0</td><td>0.0</td><td>0</td><td>0.0</td><td>14.888</td><td>0.034</td><td>32.0</td><td>1.105</td><td>13.519</td><td>0.035</td><td>31.3</td><td>0.9211</td><td>10.444</td><td>0.088</td><td>12.3</td><td>0.9571</td><td>8.145</td><td>0.259</td><td>4.2</td><td>0.0</td><td>0000</td><td>AAAB</td><td>0.09215631</td><td>0</td><td>0.0</td><td>0.0</td><td>0.0</td><td>0.0</td><td>0.0</td><td>0.0</td><td>0.0</td><td>0.0</td><td>1</td><td>1.26</td><td>7.048389</td><td>0.5710586</td></tr>\n",
       "<tr><td>4902345862997012480</td><td>4902345862996295680</td><td>000001.37-011930.0</td><td>0.0057462149949571995</td><td>-1.3250087918745506</td><td>66692618</td><td>v5_7_0</td><td>4354</td><td>55810</td><td>646</td><td>2.328</td><td>2.3326547</td><td>0.00019591869</td><td>0</td><td>2.3345647</td><td>0.00078353245</td><td>0.05820119</td><td>2.3322296</td><td>2.3354352</td><td>2.3230107</td><td>0</td><td>16492675088384</td><td>0</td><td>0</td><td>0</td><td>0</td><td>0</td><td>-1</td><td>-1</td><td>-1</td><td>1</td><td>-0.8027737</td><td>8.25766</td><td>9.812376</td><td>1.8602409</td><td>-1.0</td><td>3370.4165</td><td>1261.0969</td><td>2109.3196</td><td>13.369989</td><td>38.269535</td><td>1.4695271</td><td>2542.764</td><td>1280.2188</td><td>1262.5452</td><td>4.7163763</td><td>24.20951</td><td>1.6183325</td><td>4449.89</td><td>2659.6023</td><td>1790.2876</td><td>0.8213967</td><td>15.358399</td><td>1.5506667</td><td>0</td><td>0.0</td><td>0.0</td><td>0.0</td><td>0.0</td><td>0.0</td><td>0</td><td>0.0</td><td>0.0</td><td>0</td><td>0.0</td><td>0.0</td><td>0.0</td><td>0.0</td><td>0.0</td><td>5.311674 .. 11.0535</td><td>7.514207 .. 0.887166</td><td>20.686169 .. 19.886417</td><td>0.07446441 .. 0.103362635</td><td>5.2155437 .. 11.9897375</td><td>-25.7973</td><td>-0.012670249</td><td>0.22672829 .. 0.065049686</td><td>0.08058063 .. 0.024008807</td><td>22.069714</td><td>0</td><td>0.0</td><td>0.0</td><td>0.0</td><td>0.0</td><td>0.0</td><td>0.0</td><td>0</td><td>0.0</td><td>0.0</td><td>0.0</td><td>0.0</td><td>0.0</td><td>0.0</td><td>0.0</td><td>0.0</td><td>0.0</td><td>0.0</td><td>0.0</td><td>0.0</td><td>0</td><td>0.0</td><td>1</td><td>0.09291329</td><td>44.988087</td><td>0.22756948</td><td>2.5174224</td><td>0.0</td><td>0.0</td><td>0.0</td><td>0</td><td>0.0</td><td>0.0</td><td>0.0</td><td>0</td><td>0.0</td><td>0.0</td><td>0.0</td><td>0</td><td>0.0</td><td>16.72</td><td>0.103</td><td>10.6</td><td>1.038</td><td>15.929</td><td>0.167</td><td>6.5</td><td>0.9004</td><td>11.903</td><td>0.285</td><td>3.8</td><td>0.9703</td><td>8.981</td><td>-999.999</td><td>-0.8</td><td>0.0</td><td>0000</td><td>ABBU</td><td>0.450938</td><td>0</td><td>0.0</td><td>0.0</td><td>0.0</td><td>0.0</td><td>0.0</td><td>0.0</td><td>0.0</td><td>0.0</td><td>0</td><td>0.0</td><td>0.0</td><td>0.0</td></tr>\n",
       "<tr><td>6879272175653285888</td><td>6879272175652569088</td><td>000001.41+200044.1</td><td>0.005912115081173397</td><td>20.012258463126393</td><td>287352722</td><td>v5_7_0</td><td>6110</td><td>56279</td><td>86</td><td>3.09</td><td>3.0888388</td><td>-1.0</td><td>0</td><td>3.072494</td><td>-1.0</td><td>0.100483984</td><td>3.0665898</td><td>-1.0</td><td>-1.0</td><td>0</td><td>3298534883328</td><td>0</td><td>1024</td><td>0</td><td>1</td><td>0</td><td>-1</td><td>-1</td><td>-1</td><td>1</td><td>500.0</td><td>3.722384</td><td>5.964917</td><td>-1.0</td><td>-1.0</td><td>5024.7524</td><td>2838.2249</td><td>2186.5276</td><td>4.419541</td><td>25.699087</td><td>1.8122085</td><td>-1.0</td><td>-1.0</td><td>-1.0</td><td>-1.0</td><td>-1.0</td><td>-1.0</td><td>-1.0</td><td>-1.0</td><td>-1.0</td><td>-1.0</td><td>-1.0</td><td>-1.0</td><td>1</td><td>2877.1794</td><td>164.66959</td><td>4974.411</td><td>378.66803</td><td>16.080336</td><td>1</td><td>7008.341</td><td>13239.11</td><td>5</td><td>4780.6504</td><td>15239.366</td><td>9.155204</td><td>26.989012</td><td>0.0</td><td>-0.42717537 .. 8.865367</td><td>3.9326744 .. 0.4306427</td><td>25.94722 .. 20.123272</td><td>1.0719165 .. 0.18407722</td><td>-0.42717537 .. 8.865367</td><td>-26.110437</td><td>0.38694257</td><td>0.2722282 .. 0.07810388</td><td>0.06586839 .. 0.01962533</td><td>21.928755</td><td>0</td><td>0.0</td><td>0.0</td><td>0.0</td><td>0.0</td><td>0.0</td><td>0.0</td><td>0</td><td>0.0</td><td>0.0</td><td>0.0</td><td>0.0</td><td>0.0</td><td>0.0</td><td>0.0</td><td>0.0</td><td>0.0</td><td>0.0</td><td>0.0</td><td>0.0</td><td>0</td><td>0.0</td><td>1</td><td>-0.36382088</td><td>0.73965377</td><td>-0.16924284</td><td>30.937609</td><td>0.0</td><td>0.0</td><td>0.0</td><td>0</td><td>0.0</td><td>0.0</td><td>0.0</td><td>0</td><td>0.0</td><td>0.0</td><td>0.0</td><td>0</td><td>0.0</td><td>0.0</td><td>0.0</td><td>0.0</td><td>0.0</td><td>0.0</td><td>0.0</td><td>0.0</td><td>0.0</td><td>0.0</td><td>0.0</td><td>0.0</td><td>0.0</td><td>0.0</td><td>0.0</td><td>0.0</td><td>0.0</td><td></td><td></td><td>0.0</td><td>0</td><td>0.0</td><td>0.0</td><td>0.0</td><td>0.0</td><td>0.0</td><td>0.0</td><td>0.0</td><td>0.0</td><td>-1</td><td>0.0</td><td>0.0</td><td>0.0</td></tr>\n",
       "<tr><td>7316146358196039680</td><td>7316146358195322880</td><td>000001.63+303109.6</td><td>0.006818798938297732</td><td>30.519356121161877</td><td>374107623</td><td>v5_7_0</td><td>6498</td><td>56565</td><td>177</td><td>2.377</td><td>2.373299</td><td>0.00056649244</td><td>0</td><td>2.385571</td><td>0.0011601358</td><td>0.1532846</td><td>2.3700042</td><td>2.3725111</td><td>2.384006</td><td>0</td><td>3298535407616</td><td>0</td><td>0</td><td>0</td><td>1</td><td>0</td><td>-1</td><td>-1</td><td>-1</td><td>1</td><td>-0.9360799</td><td>1.0996199</td><td>0.97923225</td><td>0.82090354</td><td>-1.0</td><td>3209.2349</td><td>1427.3203</td><td>1781.9146</td><td>4.199271</td><td>46.13801</td><td>1.2770646</td><td>4324.9336</td><td>1458.6078</td><td>2866.3257</td><td>2.3708158</td><td>54.68725</td><td>6.3462367</td><td>3909.4023</td><td>1450.4486</td><td>2458.9536</td><td>1.327836</td><td>87.93787</td><td>7.190499</td><td>0</td><td>0.0</td><td>0.0</td><td>0.0</td><td>0.0</td><td>0.0</td><td>0</td><td>0.0</td><td>0.0</td><td>0</td><td>0.0</td><td>0.0</td><td>0.0</td><td>0.0</td><td>0.0</td><td>0.872644 .. 3.2801216</td><td>31.550634 .. 1.7705965</td><td>22.620983 .. 21.158813</td><td>0.21091357 .. 0.2267443</td><td>0.93248904 .. 2.5575497</td><td>-24.152891</td><td>0.06453294</td><td>0.24907945 .. 0.07146236</td><td>0.18840624 .. 0.056135193</td><td>21.945555</td><td>6</td><td>10.813827</td><td>0.2774983</td><td>0.08607169</td><td>0.0</td><td>0.0</td><td>0.0</td><td>0</td><td>0.0</td><td>0.0</td><td>0.0</td><td>0.0</td><td>0.0</td><td>0.0</td><td>0.0</td><td>0.0</td><td>0.0</td><td>0.0</td><td>0.0</td><td>0.0</td><td>0</td><td>0.0</td><td>1</td><td>0.047141243</td><td>29.392267</td><td>0.37648565</td><td>8.347144</td><td>0.0</td><td>0.0</td><td>0.0</td><td>0</td><td>0.0</td><td>0.0</td><td>0.0</td><td>0</td><td>0.0</td><td>0.0</td><td>0.0</td><td>0</td><td>0.0</td><td>0.0</td><td>0.0</td><td>0.0</td><td>0.0</td><td>0.0</td><td>0.0</td><td>0.0</td><td>0.0</td><td>0.0</td><td>0.0</td><td>0.0</td><td>0.0</td><td>0.0</td><td>0.0</td><td>0.0</td><td>0.0</td><td></td><td></td><td>0.0</td><td>0</td><td>0.0</td><td>0.0</td><td>0.0</td><td>0.0</td><td>0.0</td><td>0.0</td><td>0.0</td><td>0.0</td><td>-1</td><td>0.0</td><td>0.0</td><td>0.0</td></tr>\n",
       "<tr><td>8046850175207665664</td><td>8046850175206948864</td><td>000001.76-072909.3</td><td>0.0073593866211467684</td><td>-7.485926630469586</td><td>33180816</td><td>v5_7_0</td><td>7147</td><td>56574</td><td>158</td><td>2.538</td><td>2.5423026</td><td>0.00022588218</td><td>0</td><td>2.5535479</td><td>0.0011723721</td><td>0.0960543</td><td>2.543475</td><td>2.5298383</td><td>-1.0</td><td>0</td><td>2199023796224</td><td>0</td><td>1024</td><td>0</td><td>0</td><td>0</td><td>-1</td><td>-1</td><td>-1</td><td>0</td><td>-1.9655496</td><td>3.4405885</td><td>3.099853</td><td>-1.0</td><td>-1.0</td><td>3423.6384</td><td>1541.9193</td><td>1881.7191</td><td>6.5071025</td><td>36.294834</td><td>1.0532035</td><td>4934.142</td><td>2488.2976</td><td>2445.8445</td><td>3.3774157</td><td>34.75467</td><td>2.126247</td><td>-1.0</td><td>-1.0</td><td>-1.0</td><td>-1.0</td><td>-1.0</td><td>-1.0</td><td>1</td><td>1638.1326</td><td>33.197926</td><td>3505.5618</td><td>110.82232</td><td>34.869972</td><td>1</td><td>3004.634</td><td>6908.2485</td><td>1</td><td>1177.6481</td><td>6907.423</td><td>0.0</td><td>0.0</td><td>0.0</td><td>2.1319141 .. 18.52282</td><td>5.4700546 .. 0.79892135</td><td>21.673424 .. 19.329004</td><td>0.21589622 .. 0.06537072</td><td>2.1319141 .. 18.52282</td><td>-26.153696</td><td>0.8639039</td><td>0.18539318 .. 0.0531904</td><td>0.15708686 .. 0.046803653</td><td>21.978853</td><td>0</td><td>0.0</td><td>0.0</td><td>0.0</td><td>0.0</td><td>0.0</td><td>0.0</td><td>0</td><td>0.0</td><td>0.0</td><td>0.0</td><td>0.0</td><td>0.0</td><td>0.0</td><td>0.0</td><td>0.0</td><td>0.0</td><td>0.0</td><td>0.0</td><td>0.0</td><td>0</td><td>0.0</td><td>1</td><td>0.09040923</td><td>3.403411</td><td>-0.18531063</td><td>2.5071576</td><td>0.0</td><td>0.0</td><td>0.0</td><td>0</td><td>0.0</td><td>0.0</td><td>0.0</td><td>0</td><td>0.0</td><td>0.0</td><td>0.0</td><td>0</td><td>0.0</td><td>15.726</td><td>0.048</td><td>22.4</td><td>0.954</td><td>14.823</td><td>0.086</td><td>12.6</td><td>1.06</td><td>11.057</td><td>0.134</td><td>8.1</td><td>0.9229</td><td>8.783</td><td>0.516</td><td>2.1</td><td>0.0</td><td>0000</td><td>AABC</td><td>0.050410543</td><td>0</td><td>0.0</td><td>0.0</td><td>0.0</td><td>0.0</td><td>0.0</td><td>0.0</td><td>0.0</td><td>0.0</td><td>0</td><td>0.0</td><td>0.0</td><td>0.0</td></tr>\n",
       "<tr><td>6954850955494617088</td><td>6954850955493900288</td><td>000001.81+141150.5</td><td>0.007578547262596658</td><td>14.197385446197769</td><td>237410936</td><td>v5_7_0</td><td>6177</td><td>56268</td><td>608</td><td>3.7119935</td><td>3.7119935</td><td>0.0006891444</td><td>0</td><td>3.7252183</td><td>0.002324708</td><td>0.09852084</td><td>3.7003765</td><td>3.7103612</td><td>-1.0</td><td>0</td><td>2199023255552</td><td>0</td><td>0</td><td>0</td><td>0</td><td>0</td><td>-1</td><td>-1</td><td>-1</td><td>0</td><td>0.07373421</td><td>2.393963</td><td>2.474707</td><td>-1.0</td><td>-1.0</td><td>4973.0483</td><td>2150.5205</td><td>2822.5276</td><td>5.340235</td><td>40.65755</td><td>1.0966027</td><td>6376.7495</td><td>2403.7524</td><td>3972.997</td><td>2.1239312</td><td>44.378483</td><td>31.612371</td><td>-1.0</td><td>-1.0</td><td>-1.0</td><td>-1.0</td><td>-1.0</td><td>-1.0</td><td>0</td><td>0.0</td><td>0.0</td><td>0.0</td><td>0.0</td><td>0.0</td><td>0</td><td>0.0</td><td>0.0</td><td>0</td><td>0.0</td><td>0.0</td><td>0.0</td><td>0.0</td><td>0.0</td><td>-0.25245732 .. 4.5755925</td><td>16.27347 .. 1.0455333</td><td>25.514214 .. 20.821537</td><td>0.7138947 .. 0.22080094</td><td>-0.25245732 .. 4.5755925</td><td>-26.282536</td><td>-0.04615712</td><td>0.29284865 .. 0.08402</td><td>0.121001944 .. 0.03605224</td><td>21.9413</td><td>3</td><td>3.5059328</td><td>0.102637395</td><td>-0.09999997</td><td>0.0</td><td>0.0</td><td>0.0</td><td>0</td><td>0.0</td><td>0.0</td><td>0.0</td><td>0.0</td><td>0.0</td><td>0.0</td><td>0.0</td><td>0.0</td><td>0.0</td><td>0.0</td><td>0.0</td><td>0.0</td><td>0</td><td>0.0</td><td>1</td><td>-0.105919115</td><td>294.57755</td><td>-0.06454353</td><td>246.27792</td><td>0.0</td><td>0.0</td><td>0.0</td><td>0</td><td>0.0</td><td>0.0</td><td>0.0</td><td>0</td><td>0.0</td><td>0.0</td><td>0.0</td><td>0</td><td>0.0</td><td>17.221</td><td>0.148</td><td>7.3</td><td>0.9375</td><td>17.116</td><td>0.492</td><td>2.2</td><td>0.8113</td><td>12.361</td><td>-999.999</td><td>0.1</td><td>0.8645</td><td>8.701</td><td>-999.999</td><td>-0.2</td><td>0.0</td><td>0000</td><td>BCUU</td><td>0.72434956</td><td>1</td><td>2.245336e-31</td><td>5.508096e-32</td><td>2.217152e-31</td><td>3.747892e-32</td><td>1.7926858e-31</td><td>6.573568e-32</td><td>2.694243e-31</td><td>6.276591e-32</td><td>0</td><td>0.0</td><td>0.0</td><td>0.0</td></tr>\n",
       "<tr><td>4746879861044998144</td><td>4746879861044281344</td><td>000001.93-001427.4</td><td>0.008066691350313349</td><td>-0.24097078525990853</td><td>87837348</td><td>v5_7_0</td><td>4216</td><td>55477</td><td>312</td><td>2.163</td><td>2.1645594</td><td>0.0003095601</td><td>0</td><td>2.1600122</td><td>-1.0</td><td>0.06194568</td><td>2.1515985</td><td>2.154656</td><td>2.1683376</td><td>0</td><td>2199023255552</td><td>0</td><td>8</td><td>0</td><td>0</td><td>0</td><td>-1</td><td>-1</td><td>-1</td><td>0</td><td>0.014865044</td><td>10.803092</td><td>12.858087</td><td>6.645486</td><td>-1.0</td><td>6433.683</td><td>3001.1858</td><td>3432.4976</td><td>7.5114465</td><td>28.555908</td><td>0.8684001</td><td>7886.0103</td><td>3745.3247</td><td>4140.6855</td><td>3.0209122</td><td>28.341867</td><td>1.3566623</td><td>5252.2656</td><td>2414.4485</td><td>2837.8171</td><td>2.6054142</td><td>36.522404</td><td>1.4023877</td><td>0</td><td>15.265387</td><td>1.914233</td><td>617.2072</td><td>36.511856</td><td>74.60128</td><td>1</td><td>11037.071</td><td>13189.063</td><td>4</td><td>1577.9817</td><td>13963.303</td><td>0.0</td><td>0.0</td><td>0.0</td><td>6.7710366 .. 13.379959</td><td>12.242183 .. 1.7386752</td><td>20.422897 .. 19.680557</td><td>0.045789797 .. 0.061167333</td><td>5.6687083 .. 12.292459</td><td>-25.792332</td><td>0.08341499</td><td>0.17526779 .. 0.05028536</td><td>0.22322248 .. 0.0665086</td><td>22.066782</td><td>53</td><td>13.104626</td><td>0.15045111</td><td>0.31968334</td><td>0.0</td><td>0.0</td><td>0.0</td><td>0</td><td>0.0</td><td>0.0</td><td>0.0</td><td>0.0</td><td>0.0</td><td>0.0</td><td>0.0</td><td>0.0</td><td>0.0</td><td>0.0</td><td>0.0</td><td>0.0</td><td>0</td><td>0.0</td><td>1</td><td>-0.031143887</td><td>774.75574</td><td>0.8409731</td><td>218.72849</td><td>0.0</td><td>0.0</td><td>0.0</td><td>0</td><td>0.0</td><td>0.0</td><td>0.0</td><td>0</td><td>0.0</td><td>0.0</td><td>0.0</td><td>0</td><td>0.0</td><td>0.0</td><td>0.0</td><td>0.0</td><td>0.0</td><td>0.0</td><td>0.0</td><td>0.0</td><td>0.0</td><td>0.0</td><td>0.0</td><td>0.0</td><td>0.0</td><td>0.0</td><td>0.0</td><td>0.0</td><td>0.0</td><td></td><td></td><td>0.0</td><td>1</td><td>3.3381296e-31</td><td>3.111691e-32</td><td>3.3337702e-31</td><td>3.7478266e-32</td><td>3.4293792e-31</td><td>7.67089e-32</td><td>4.9168117e-31</td><td>6.641088e-32</td><td>0</td><td>0.0</td><td>0.0</td><td>0.0</td></tr>\n",
       "<tr><td>...</td><td>...</td><td>...</td><td>...</td><td>...</td><td>...</td><td>...</td><td>...</td><td>...</td><td>...</td><td>...</td><td>...</td><td>...</td><td>...</td><td>...</td><td>...</td><td>...</td><td>...</td><td>...</td><td>...</td><td>...</td><td>...</td><td>...</td><td>...</td><td>...</td><td>...</td><td>...</td><td>...</td><td>...</td><td>...</td><td>...</td><td>...</td><td>...</td><td>...</td><td>...</td><td>...</td><td>...</td><td>...</td><td>...</td><td>...</td><td>...</td><td>...</td><td>...</td><td>...</td><td>...</td><td>...</td><td>...</td><td>...</td><td>...</td><td>...</td><td>...</td><td>...</td><td>...</td><td>...</td><td>...</td><td>...</td><td>...</td><td>...</td><td>...</td><td>...</td><td>...</td><td>...</td><td>...</td><td>...</td><td>...</td><td>...</td><td>...</td><td>...</td><td>...</td><td>...</td><td>...</td><td>...</td><td>...</td><td>...</td><td>...</td><td>...</td><td>...</td><td>...</td><td>...</td><td>...</td><td>...</td><td>...</td><td>...</td><td>...</td><td>...</td><td>...</td><td>...</td><td>...</td><td>...</td><td>...</td><td>...</td><td>...</td><td>...</td><td>...</td><td>...</td><td>...</td><td>...</td><td>...</td><td>...</td><td>...</td><td>...</td><td>...</td><td>...</td><td>...</td><td>...</td><td>...</td><td>...</td><td>...</td><td>...</td><td>...</td><td>...</td><td>...</td><td>...</td><td>...</td><td>...</td><td>...</td><td>...</td><td>...</td><td>...</td><td>...</td><td>...</td><td>...</td><td>...</td><td>...</td><td>...</td><td>...</td><td>...</td><td>...</td><td>...</td><td>...</td><td>...</td><td>...</td><td>...</td><td>...</td><td>...</td><td>...</td><td>...</td><td>...</td><td>...</td><td>...</td><td>...</td><td>...</td><td>...</td><td>...</td><td>...</td><td>...</td><td>...</td><td>...</td><td>...</td><td>...</td><td>...</td></tr>\n",
       "<tr><td>4746995859521728512</td><td>4746995859521011712</td><td>235958.62+002551.4</td><td>359.99427316427636</td><td>0.43094774656769796</td><td>107732352</td><td>v5_7_0</td><td>4216</td><td>55477</td><td>734</td><td>3.066</td><td>3.0647495</td><td>0.00021468637</td><td>0</td><td>3.0627525</td><td>0.0020027277</td><td>0.21879755</td><td>3.0637858</td><td>3.072437</td><td>-1.0</td><td>0</td><td>2199023259648</td><td>0</td><td>0</td><td>0</td><td>0</td><td>0</td><td>-1</td><td>-1</td><td>-1</td><td>0</td><td>-0.19799404</td><td>2.420038</td><td>3.8358169</td><td>-1.0</td><td>-1.0</td><td>2780.1733</td><td>1245.1671</td><td>1535.0061</td><td>5.8237824</td><td>53.87168</td><td>4.0309834</td><td>11843.126</td><td>9059.951</td><td>2783.1746</td><td>1.0105689</td><td>24.116402</td><td>17.959196</td><td>-1.0</td><td>-1.0</td><td>-1.0</td><td>-1.0</td><td>-1.0</td><td>-1.0</td><td>0</td><td>0.0</td><td>0.0</td><td>0.0</td><td>0.0</td><td>0.0</td><td>0</td><td>0.0</td><td>0.0</td><td>0</td><td>0.0</td><td>0.0</td><td>0.0</td><td>0.0</td><td>0.0</td><td>0.893194 .. 2.840156</td><td>26.51247 .. 1.7297761</td><td>22.596893 .. 21.29948</td><td>0.22526757 .. 0.2577636</td><td>0.83901453 .. 4.0067444</td><td>-25.394716</td><td>-0.25146368</td><td>0.1399099 .. 0.04014097</td><td>0.1731774 .. 0.05159779</td><td>22.034288</td><td>57</td><td>2.0858386</td><td>0.04911478</td><td>0.34988222</td><td>0.0</td><td>0.0</td><td>0.0</td><td>0</td><td>0.0</td><td>0.0</td><td>0.0</td><td>0.0</td><td>0.0</td><td>0.0</td><td>0.0</td><td>0.0</td><td>0.0</td><td>0.0</td><td>0.0</td><td>0.0</td><td>0</td><td>0.0</td><td>1</td><td>-0.012543184</td><td>1066.803</td><td>-0.08062126</td><td>969.1113</td><td>0.0</td><td>0.0</td><td>0.0</td><td>0</td><td>0.0</td><td>0.0</td><td>0.0</td><td>0</td><td>0.0</td><td>0.0</td><td>0.0</td><td>0</td><td>0.0</td><td>0.0</td><td>0.0</td><td>0.0</td><td>0.0</td><td>0.0</td><td>0.0</td><td>0.0</td><td>0.0</td><td>0.0</td><td>0.0</td><td>0.0</td><td>0.0</td><td>0.0</td><td>0.0</td><td>0.0</td><td>0.0</td><td></td><td></td><td>0.0</td><td>0</td><td>0.0</td><td>0.0</td><td>0.0</td><td>0.0</td><td>0.0</td><td>0.0</td><td>0.0</td><td>0.0</td><td>0</td><td>0.0</td><td>0.0</td><td>0.0</td></tr>\n",
       "<tr><td>8046851824475107328</td><td>8046851824474390528</td><td>235959.01-082621.4</td><td>359.9959041842165</td><td>-8.439287114944864</td><td>29732290</td><td>v5_7_0</td><td>7147</td><td>56574</td><td>164</td><td>2.5520773</td><td>2.5520773</td><td>0.00069810916</td><td>0</td><td>2.549979</td><td>0.0012686187</td><td>0.040146194</td><td>2.5451312</td><td>2.5502112</td><td>-1.0</td><td>0</td><td>3298535424000</td><td>0</td><td>1024</td><td>0</td><td>0</td><td>0</td><td>-1</td><td>-1</td><td>-1</td><td>1</td><td>-1.029675</td><td>8.14126</td><td>7.5463657</td><td>-1.0</td><td>-1.0</td><td>5579.7207</td><td>2310.5435</td><td>3269.1772</td><td>7.3331695</td><td>25.746609</td><td>0.57190675</td><td>5459.4688</td><td>1734.4916</td><td>3724.9773</td><td>4.282848</td><td>22.683403</td><td>1.4273764</td><td>-1.0</td><td>-1.0</td><td>-1.0</td><td>-1.0</td><td>-1.0</td><td>-1.0</td><td>0</td><td>0.0</td><td>0.0</td><td>386.49643</td><td>8.5079365</td><td>31.049923</td><td>0</td><td>0.0</td><td>0.0</td><td>1</td><td>4330.2754</td><td>6982.4854</td><td>0.0</td><td>0.0</td><td>0.0</td><td>9.851749 .. 26.734632</td><td>2.651039 .. 0.7319061</td><td>20.015997 .. 18.931484</td><td>0.06765931 .. 0.047397774</td><td>9.851749 .. 26.734632</td><td>-26.906063</td><td>0.20534283</td><td>0.18701676 .. 0.05365621</td><td>0.14478597 .. 0.043138634</td><td>22.029688</td><td>0</td><td>0.0</td><td>0.0</td><td>0.0</td><td>0.0</td><td>0.0</td><td>0.0</td><td>0</td><td>0.0</td><td>0.0</td><td>0.0</td><td>0.0</td><td>0.0</td><td>0.0</td><td>0.0</td><td>0.0</td><td>0.0</td><td>0.0</td><td>0.0</td><td>0.0</td><td>0</td><td>0.0</td><td>1</td><td>0.038784888</td><td>341.742</td><td>-0.027803415</td><td>273.5274</td><td>0.0</td><td>0.0</td><td>0.0</td><td>0</td><td>0.0</td><td>0.0</td><td>0.0</td><td>0</td><td>0.0</td><td>0.0</td><td>0.0</td><td>0</td><td>0.0</td><td>16.061</td><td>0.059</td><td>18.3</td><td>0.9984</td><td>15.061</td><td>0.12</td><td>9.1</td><td>0.9303</td><td>12.035</td><td>0.414</td><td>2.6</td><td>0.9969</td><td>8.88</td><td>-999.999</td><td>-0.1</td><td>0.0</td><td>0000</td><td>ABCU</td><td>0.31046253</td><td>0</td><td>0.0</td><td>0.0</td><td>0.0</td><td>0.0</td><td>0.0</td><td>0.0</td><td>0.0</td><td>0.0</td><td>0</td><td>0.0</td><td>0.0</td><td>0.0</td></tr>\n",
       "<tr><td>4815511927093129216</td><td>4815511927092412416</td><td>235959.10+024906.7</td><td>359.9962697731987</td><td>2.818551913436165</td><td>136595331</td><td>v5_7_0</td><td>4277</td><td>55506</td><td>138</td><td>2.3983037</td><td>2.3983037</td><td>0.00022594458</td><td>0</td><td>2.374341</td><td>-1.0</td><td>0.20035326</td><td>2.3855553</td><td>-1.0</td><td>-1.0</td><td>0</td><td>16492675088384</td><td>0</td><td>0</td><td>0</td><td>0</td><td>0</td><td>-1</td><td>-1</td><td>-1</td><td>1</td><td>500.0</td><td>3.3895776</td><td>3.5978725</td><td>0.90957654</td><td>-1.0</td><td>5280.658</td><td>2218.4316</td><td>3062.2263</td><td>2.8590522</td><td>33.693512</td><td>0.82604223</td><td>-1.0</td><td>-1.0</td><td>-1.0</td><td>-1.0</td><td>-1.0</td><td>-1.0</td><td>-1.0</td><td>-1.0</td><td>-1.0</td><td>-1.0</td><td>-1.0</td><td>-1.0</td><td>0</td><td>0.0</td><td>0.0</td><td>0.0</td><td>0.0</td><td>0.0</td><td>0</td><td>0.0</td><td>0.0</td><td>0</td><td>0.0</td><td>0.0</td><td>0.0</td><td>0.0</td><td>0.0</td><td>2.6909816 .. 5.8029</td><td>9.274659 .. 0.9284784</td><td>21.422297 .. 20.573647</td><td>0.13177295 .. 0.18815197</td><td>2.6909816 .. 5.8029</td><td>-25.02217</td><td>-0.01462502</td><td>0.10938827 .. 0.03138414</td><td>0.088532746 .. 0.026378121</td><td>22.001463</td><td>3</td><td>13.107218</td><td>0.22967133</td><td>-0.09999941</td><td>0.0</td><td>0.0</td><td>0.0</td><td>0</td><td>0.0</td><td>0.0</td><td>0.0</td><td>0.0</td><td>0.0</td><td>0.0</td><td>0.0</td><td>0.0</td><td>0.0</td><td>0.0</td><td>0.0</td><td>0.0</td><td>0</td><td>0.0</td><td>1</td><td>-0.22469191</td><td>7.7458577</td><td>-0.25239533</td><td>2.822594</td><td>0.0</td><td>0.0</td><td>0.0</td><td>0</td><td>0.0</td><td>0.0</td><td>0.0</td><td>0</td><td>0.0</td><td>0.0</td><td>0.0</td><td>0</td><td>0.0</td><td>17.131</td><td>0.132</td><td>8.2</td><td>1.031</td><td>15.982</td><td>0.177</td><td>6.1</td><td>0.926</td><td>12.173</td><td>-999.999</td><td>0.9</td><td>0.8382</td><td>9.13</td><td>-999.999</td><td>-0.5</td><td>0.0</td><td>0000</td><td>BBUU</td><td>1.7802877</td><td>1</td><td>3.0034942e-32</td><td>2.8986136e-32</td><td>3.0028597e-32</td><td>3.4138052e-32</td><td>1.3188882e-31</td><td>5.2536387e-32</td><td>3.051563e-31</td><td>6.0393985e-32</td><td>0</td><td>0.0</td><td>0.0</td><td>0.0</td></tr>\n",
       "<tr><td>8032289892342624256</td><td>8032289892341907456</td><td>235959.37+294704.4</td><td>359.99739025005834</td><td>29.784564390083816</td><td>368530335</td><td>v5_7_0</td><td>7134</td><td>56566</td><td>436</td><td>2.199</td><td>2.181301</td><td>0.00055742986</td><td>0</td><td>2.1904247</td><td>0.0007834619</td><td>0.22930028</td><td>2.1829379</td><td>2.1838706</td><td>2.177097</td><td>0</td><td>2199023796224</td><td>0</td><td>0</td><td>0</td><td>0</td><td>0</td><td>-1</td><td>-1</td><td>-1</td><td>0</td><td>-1.7375176</td><td>0.80223083</td><td>0.62280333</td><td>0.6650333</td><td>-1.0</td><td>4209.557</td><td>1305.9998</td><td>2903.5571</td><td>2.7045803</td><td>85.25222</td><td>4.8445663</td><td>6398.0854</td><td>3998.0933</td><td>2399.992</td><td>0.9508028</td><td>67.39311</td><td>7.467595</td><td>6729.2446</td><td>4480.487</td><td>2248.7576</td><td>0.98087054</td><td>55.177334</td><td>7.1256547</td><td>0</td><td>0.0</td><td>0.0</td><td>0.0</td><td>0.0</td><td>0.0</td><td>0</td><td>0.0</td><td>0.0</td><td>0</td><td>0.0</td><td>0.0</td><td>0.0</td><td>0.0</td><td>0.0</td><td>1.0638323 .. 6.5398774</td><td>14.964628 .. 1.0767925</td><td>22.414484 .. 20.447435</td><td>0.25513715 .. 0.15604262</td><td>1.2189379 .. 6.9624233</td><td>-24.615845</td><td>0.19103052</td><td>0.2648248 .. 0.0759798</td><td>0.20336388 .. 0.06059178</td><td>21.945555</td><td>6</td><td>18.57096</td><td>0.35425562</td><td>0.08176435</td><td>0.0</td><td>0.0</td><td>0.0</td><td>0</td><td>0.0</td><td>0.0</td><td>0.0</td><td>0.0</td><td>0.0</td><td>0.0</td><td>0.0</td><td>0.0</td><td>0.0</td><td>0.0</td><td>0.0</td><td>0.0</td><td>0</td><td>0.0</td><td>1</td><td>0.0</td><td>0.0</td><td>0.0</td><td>0.0</td><td>0.0</td><td>0.0</td><td>0.0</td><td>0</td><td>0.0</td><td>0.0</td><td>0.0</td><td>0</td><td>0.0</td><td>0.0</td><td>0.0</td><td>0</td><td>0.0</td><td>17.34</td><td>0.122</td><td>8.9</td><td>0.945</td><td>16.778</td><td>-999.999</td><td>1.3</td><td>0.8594</td><td>11.872</td><td>-999.999</td><td>1.7</td><td>1.02</td><td>9.207</td><td>-999.999</td><td>-1.2</td><td>0.0</td><td>0000</td><td>BUUU</td><td>0.29756686</td><td>0</td><td>0.0</td><td>0.0</td><td>0.0</td><td>0.0</td><td>0.0</td><td>0.0</td><td>0.0</td><td>0.0</td><td>-1</td><td>0.0</td><td>0.0</td><td>0.0</td></tr>\n",
       "<tr><td>8069400609440854016</td><td>8069400609440137216</td><td>235959.41-094933.8</td><td>359.9975690725233</td><td>-9.826066017153437</td><td>24419856</td><td>v5_7_0</td><td>7167</td><td>56604</td><td>276</td><td>2.4391794</td><td>2.4391794</td><td>0.00060640316</td><td>0</td><td>2.434335</td><td>0.0016238953</td><td>0.31390718</td><td>2.4302845</td><td>2.423388</td><td>-1.0</td><td>0</td><td>3298534899712</td><td>0</td><td>0</td><td>0</td><td>0</td><td>0</td><td>-1</td><td>-1</td><td>-1</td><td>1</td><td>-2.0993943</td><td>0.90246046</td><td>0.6173257</td><td>0.99825525</td><td>-1.0</td><td>6999.9717</td><td>3309.434</td><td>3690.5378</td><td>5.389515</td><td>141.12697</td><td>6.8364997</td><td>7084.219</td><td>3021.225</td><td>4062.9944</td><td>1.6219476</td><td>99.46537</td><td>14.424956</td><td>-1.0</td><td>-1.0</td><td>-1.0</td><td>-1.0</td><td>-1.0</td><td>-1.0</td><td>0</td><td>0.0</td><td>0.0</td><td>833.9784</td><td>413.868</td><td>24.020212</td><td>0</td><td>0.0</td><td>0.0</td><td>4</td><td>502.08508</td><td>23921.602</td><td>0.0</td><td>0.0</td><td>0.0</td><td>0.9109609 .. 6.6374693</td><td>9.983542 .. 0.55891407</td><td>22.576471 .. 20.431744</td><td>0.3605615 .. 0.21355651</td><td>0.94862336 .. 8.31459</td><td>-24.874119</td><td>-0.12544417</td><td>0.17545898 .. 0.050340217</td><td>0.2975039 .. 0.08864057</td><td>22.078955</td><td>0</td><td>0.0</td><td>0.0</td><td>0.0</td><td>0.0</td><td>0.0</td><td>0.0</td><td>0</td><td>0.0</td><td>0.0</td><td>0.0</td><td>0.0</td><td>0.0</td><td>0.0</td><td>0.0</td><td>0.0</td><td>0.0</td><td>0.0</td><td>0.0</td><td>0.0</td><td>0</td><td>0.0</td><td>1</td><td>-0.007836785</td><td>956.53253</td><td>0.039739404</td><td>680.3626</td><td>0.0</td><td>0.0</td><td>0.0</td><td>0</td><td>0.0</td><td>0.0</td><td>0.0</td><td>0</td><td>0.0</td><td>0.0</td><td>0.0</td><td>0</td><td>0.0</td><td>17.494</td><td>0.186</td><td>5.8</td><td>0.9342</td><td>16.508</td><td>-999.999</td><td>1.5</td><td>0.893</td><td>12.249</td><td>-999.999</td><td>0.6</td><td>0.9806</td><td>9.015</td><td>-999.999</td><td>-0.3</td><td>0.0</td><td>0000</td><td>BUUU</td><td>0.76188344</td><td>0</td><td>0.0</td><td>0.0</td><td>0.0</td><td>0.0</td><td>0.0</td><td>0.0</td><td>0.0</td><td>0.0</td><td>0</td><td>0.0</td><td>0.0</td><td>0.0</td></tr>\n",
       "<tr><td>6926539628846182400</td><td>6926539628845465600</td><td>235959.70+084505.2</td><td>359.9987743560076</td><td>8.751452231615767</td><td>191004920</td><td>v5_7_0</td><td>6152</td><td>56164</td><td>12</td><td>2.205</td><td>2.1877768</td><td>0.0002748747</td><td>0</td><td>2.2046633</td><td>0.00073952175</td><td>0.03238241</td><td>2.1851718</td><td>2.2059264</td><td>2.2072399</td><td>0</td><td>2199023779840</td><td>0</td><td>0</td><td>0</td><td>0</td><td>0</td><td>-1</td><td>-1</td><td>-1</td><td>0</td><td>-0.49302578</td><td>10.048083</td><td>11.87259</td><td>3.9246118</td><td>-1.0</td><td>6538.0938</td><td>3100.6023</td><td>3437.4915</td><td>7.0312405</td><td>22.197971</td><td>0.60276735</td><td>5881.9224</td><td>1774.1155</td><td>4107.807</td><td>4.1749163</td><td>25.91219</td><td>1.0388371</td><td>3618.7341</td><td>1801.4183</td><td>1817.3157</td><td>4.7173014</td><td>32.74937</td><td>1.0727187</td><td>0</td><td>0.0</td><td>0.0</td><td>0.0</td><td>0.0</td><td>0.0</td><td>0</td><td>0.0</td><td>0.0</td><td>0</td><td>0.0</td><td>0.0</td><td>0.0</td><td>0.0</td><td>0.0</td><td>10.11442 .. 33.58927</td><td>2.0318944 .. 0.57069916</td><td>19.98744 .. 18.683971</td><td>0.07527771 .. 0.042746343</td><td>-1.0 .. -1.0</td><td>-26.896042</td><td>0.35725915</td><td>0.3162415 .. 0.090731554</td><td>0.039094552 .. 0.011648128</td><td>21.912289</td><td>4</td><td>10.552232</td><td>0.10626782</td><td>0.05067224</td><td>0.0</td><td>0.0</td><td>0.0</td><td>0</td><td>0.0</td><td>0.0</td><td>0.0</td><td>0.0</td><td>0.0</td><td>0.0</td><td>0.0</td><td>0.0</td><td>0.0</td><td>0.0</td><td>0.0</td><td>0.0</td><td>0</td><td>0.0</td><td>1</td><td>-0.012690876</td><td>4.967534</td><td>0.45588532</td><td>25.000072</td><td>0.0</td><td>0.0</td><td>0.0</td><td>0</td><td>0.0</td><td>0.0</td><td>0.0</td><td>0</td><td>0.0</td><td>0.0</td><td>0.0</td><td>0</td><td>0.0</td><td>15.836</td><td>0.051</td><td>21.4</td><td>0.9278</td><td>14.646</td><td>0.06</td><td>18.0</td><td>0.9767</td><td>11.143</td><td>0.171</td><td>6.4</td><td>0.9539</td><td>9.072</td><td>0.53</td><td>2.0</td><td>0.0</td><td>0000</td><td>AABC</td><td>0.34514597</td><td>0</td><td>0.0</td><td>0.0</td><td>0.0</td><td>0.0</td><td>0.0</td><td>0.0</td><td>0.0</td><td>0.0</td><td>0</td><td>0.0</td><td>0.0</td><td>0.0</td></tr>\n",
       "<tr><td>6960417781557424128</td><td>6960417781556707328</td><td>235959.74+100700.4</td><td>359.99892233192304</td><td>10.116800351417925</td><td>202489200</td><td>v5_7_0</td><td>6182</td><td>56190</td><td>380</td><td>2.415508</td><td>2.415508</td><td>0.0004307762</td><td>0</td><td>2.4298983</td><td>0.0010611955</td><td>0.13141742</td><td>2.4145267</td><td>2.4178414</td><td>2.394154</td><td>0</td><td>2199023255552</td><td>0</td><td>0</td><td>0</td><td>0</td><td>0</td><td>-1</td><td>-1</td><td>-1</td><td>0</td><td>-1.1916617</td><td>1.4884808</td><td>1.3624408</td><td>0.9557878</td><td>-1.0</td><td>3217.526</td><td>1515.2716</td><td>1702.2543</td><td>3.9942367</td><td>35.657803</td><td>1.3995991</td><td>4861.0063</td><td>1628.1794</td><td>3232.827</td><td>2.2342918</td><td>36.129185</td><td>4.361742</td><td>3820.9211</td><td>1603.0133</td><td>2217.9077</td><td>1.3206629</td><td>106.12313</td><td>5.648467</td><td>0</td><td>0.0</td><td>0.0</td><td>0.0</td><td>0.0</td><td>0.0</td><td>0</td><td>0.0</td><td>0.0</td><td>0</td><td>0.0</td><td>0.0</td><td>0.0</td><td>0.0</td><td>0.0</td><td>0.13690886 .. 2.3919277</td><td>8.586458 .. 0.7967469</td><td>24.122955 .. 21.461584</td><td>1.1888012 .. 0.43244284</td><td>0.13690886 .. 2.3919277</td><td>-24.72956</td><td>0.5231137</td><td>0.47841558 .. 0.13726026</td><td>0.17712186 .. 0.052773036</td><td>21.923891</td><td>0</td><td>0.0</td><td>0.0</td><td>0.0</td><td>0.0</td><td>0.0</td><td>0.0</td><td>0</td><td>0.0</td><td>0.0</td><td>0.0</td><td>0.0</td><td>0.0</td><td>0.0</td><td>0.0</td><td>0.0</td><td>0.0</td><td>0.0</td><td>0.0</td><td>0.0</td><td>0</td><td>0.0</td><td>1</td><td>0.8168631</td><td>5.3016067</td><td>0.18351194</td><td>7.803975</td><td>0.0</td><td>0.0</td><td>0.0</td><td>0</td><td>0.0</td><td>0.0</td><td>0.0</td><td>0</td><td>0.0</td><td>0.0</td><td>0.0</td><td>0</td><td>0.0</td><td>0.0</td><td>0.0</td><td>0.0</td><td>0.0</td><td>0.0</td><td>0.0</td><td>0.0</td><td>0.0</td><td>0.0</td><td>0.0</td><td>0.0</td><td>0.0</td><td>0.0</td><td>0.0</td><td>0.0</td><td>0.0</td><td></td><td></td><td>0.0</td><td>1</td><td>1.1244377e-31</td><td>2.6793084e-32</td><td>1.411952e-31</td><td>3.7041008e-32</td><td>1.6103699e-31</td><td>5.5966755e-32</td><td>1.9354892e-31</td><td>5.1945665e-32</td><td>0</td><td>0.0</td><td>0.0</td><td>0.0</td></tr>\n",
       "<tr><td>7330985091827167232</td><td>7330985091826450432</td><td>235959.78+285717.0</td><td>359.9991178051779</td><td>28.954734247092034</td><td>361097246</td><td>v5_7_0</td><td>6511</td><td>56540</td><td>912</td><td>2.4510148</td><td>2.4510148</td><td>0.0005802381</td><td>0</td><td>2.4460545</td><td>0.0007847118</td><td>0.14667386</td><td>2.446143</td><td>2.4471025</td><td>-1.0</td><td>0</td><td>3298535424000</td><td>0</td><td>0</td><td>0</td><td>1</td><td>0</td><td>-1</td><td>-1</td><td>-1</td><td>1</td><td>-0.7114488</td><td>1.1623864</td><td>1.0279491</td><td>0.932838</td><td>-1.0</td><td>4293.1895</td><td>1957.2478</td><td>2335.9414</td><td>9.494284</td><td>117.12625</td><td>6.0626264</td><td>4817.406</td><td>1466.4707</td><td>3350.9353</td><td>2.214088</td><td>45.627377</td><td>5.3940506</td><td>-1.0</td><td>-1.0</td><td>-1.0</td><td>-1.0</td><td>-1.0</td><td>-1.0</td><td>0</td><td>0.0</td><td>0.0</td><td>0.0</td><td>0.0</td><td>0.0</td><td>0</td><td>0.0</td><td>0.0</td><td>0</td><td>0.0</td><td>0.0</td><td>0.0</td><td>0.0</td><td>0.0</td><td>1.4017211 .. 4.782631</td><td>29.439674 .. 2.1385903</td><td>22.122673 .. 20.775726</td><td>0.13999097 .. 0.14829813</td><td>1.2728736 .. 4.08525</td><td>-24.6695</td><td>-0.091165125</td><td>0.2812624 .. 0.080695845</td><td>0.1840008 .. 0.054822605</td><td>21.945555</td><td>6</td><td>11.399254</td><td>0.26095304</td><td>0.5257353</td><td>0.0</td><td>0.0</td><td>0.0</td><td>0</td><td>0.0</td><td>0.0</td><td>0.0</td><td>0.0</td><td>0.0</td><td>0.0</td><td>0.0</td><td>0.0</td><td>0.0</td><td>0.0</td><td>0.0</td><td>0.0</td><td>0</td><td>0.0</td><td>1</td><td>0.012952172</td><td>9.383629</td><td>0.5922036</td><td>0.37761205</td><td>0.0</td><td>0.0</td><td>0.0</td><td>0</td><td>0.0</td><td>0.0</td><td>0.0</td><td>0</td><td>0.0</td><td>0.0</td><td>0.0</td><td>0</td><td>0.0</td><td>0.0</td><td>0.0</td><td>0.0</td><td>0.0</td><td>0.0</td><td>0.0</td><td>0.0</td><td>0.0</td><td>0.0</td><td>0.0</td><td>0.0</td><td>0.0</td><td>0.0</td><td>0.0</td><td>0.0</td><td>0.0</td><td></td><td></td><td>0.0</td><td>0</td><td>0.0</td><td>0.0</td><td>0.0</td><td>0.0</td><td>0.0</td><td>0.0</td><td>0.0</td><td>0.0</td><td>-1</td><td>0.0</td><td>0.0</td><td>0.0</td></tr>\n",
       "<tr><td>8044620915264909312</td><td>8044620915264192512</td><td>235959.83+344315.0</td><td>359.9992930518148</td><td>34.720838455764905</td><td>401440280</td><td>v5_7_0</td><td>7145</td><td>56567</td><td>240</td><td>3.109</td><td>3.1133907</td><td>0.00037005765</td><td>0</td><td>3.102671</td><td>0.0015787298</td><td>0.05159206</td><td>3.0985737</td><td>3.0978491</td><td>-1.0</td><td>0</td><td>3298535424000</td><td>0</td><td>0</td><td>0</td><td>0</td><td>0</td><td>-1</td><td>-1</td><td>-1</td><td>1</td><td>-0.9391018</td><td>4.889148</td><td>7.5419927</td><td>-1.0</td><td>-1.0</td><td>6510.378</td><td>2750.3328</td><td>3760.0452</td><td>6.447889</td><td>37.530556</td><td>1.404958</td><td>6187.258</td><td>2377.293</td><td>3809.9648</td><td>3.507016</td><td>25.005142</td><td>3.215484</td><td>-1.0</td><td>-1.0</td><td>-1.0</td><td>-1.0</td><td>-1.0</td><td>-1.0</td><td>0</td><td>0.0</td><td>0.0</td><td>338.1356</td><td>26.78572</td><td>11.654817</td><td>0</td><td>0.0</td><td>0.0</td><td>2</td><td>2178.4822</td><td>13788.157</td><td>0.0</td><td>0.0</td><td>0.0</td><td>0.26308995 .. 15.491599</td><td>27.534664 .. 1.2232796</td><td>23.724813 .. 19.522291</td><td>0.5385391 .. 0.06308009</td><td>0.13380969 .. 14.7165985</td><td>-27.014475</td><td>0.4502133</td><td>0.40798843 .. 0.11705428</td><td>0.23074596 .. 0.0687502</td><td>21.929304</td><td>4</td><td>45.4818</td><td>0.0074095395</td><td>1.9258771</td><td>0.0</td><td>0.0</td><td>0.0</td><td>0</td><td>0.0</td><td>0.0</td><td>0.0</td><td>0.0</td><td>0.0</td><td>0.0</td><td>0.0</td><td>0.0</td><td>0.0</td><td>0.0</td><td>0.0</td><td>0.0</td><td>0</td><td>0.0</td><td>1</td><td>-0.17406197</td><td>21.936798</td><td>0.14728956</td><td>7.0398884</td><td>0.0</td><td>0.0</td><td>0.0</td><td>0</td><td>0.0</td><td>0.0</td><td>0.0</td><td>0</td><td>0.0</td><td>0.0</td><td>0.0</td><td>0</td><td>0.0</td><td>0.0</td><td>0.0</td><td>0.0</td><td>0.0</td><td>0.0</td><td>0.0</td><td>0.0</td><td>0.0</td><td>0.0</td><td>0.0</td><td>0.0</td><td>0.0</td><td>0.0</td><td>0.0</td><td>0.0</td><td>0.0</td><td></td><td></td><td>0.0</td><td>0</td><td>0.0</td><td>0.0</td><td>0.0</td><td>0.0</td><td>0.0</td><td>0.0</td><td>0.0</td><td>0.0</td><td>-1</td><td>0.0</td><td>0.0</td><td>0.0</td></tr>\n",
       "<tr><td>8044626962578862080</td><td>8044626962578145280</td><td>235959.98+344449.6</td><td>359.9999422851169</td><td>34.747127209475394</td><td>401440241</td><td>v5_7_0</td><td>7145</td><td>56567</td><td>262</td><td>2.375</td><td>2.397667</td><td>0.0003567202</td><td>0</td><td>2.3638349</td><td>0.0008175841</td><td>0.068928935</td><td>-1.0</td><td>2.3639824</td><td>2.3700163</td><td>0</td><td>3298535424000</td><td>0</td><td>0</td><td>0</td><td>0</td><td>0</td><td>-1</td><td>-1</td><td>-1</td><td>1</td><td>-2.329191</td><td>3.895657</td><td>3.5275004</td><td>0.892358</td><td>-1.0</td><td>-1.0</td><td>-1.0</td><td>-1.0</td><td>-1.0</td><td>-1.0</td><td>-1.0</td><td>5688.451</td><td>2501.8308</td><td>3186.6204</td><td>3.4702582</td><td>39.49857</td><td>1.503148</td><td>2583.974</td><td>1308.904</td><td>1275.0702</td><td>2.6060028</td><td>14.739595</td><td>1.3442876</td><td>1</td><td>401.9062</td><td>23.375593</td><td>3392.3982</td><td>101.35585</td><td>92.47357</td><td>1</td><td>3004.634</td><td>6057.4604</td><td>1</td><td>326.93912</td><td>6056.714</td><td>0.0</td><td>0.0</td><td>0.0</td><td>2.0512803 .. 11.079685</td><td>21.040209 .. 1.3256547</td><td>21.714914 .. 19.883871</td><td>0.11433142 .. 0.08436091</td><td>1.8645772 .. 11.078638</td><td>-25.770878</td><td>0.54389733</td><td>0.4037586 .. 0.11584072</td><td>0.19945021 .. 0.05942571</td><td>21.929304</td><td>5</td><td>17.272055</td><td>0.12081886</td><td>0.38500652</td><td>0.0</td><td>0.0</td><td>0.0</td><td>0</td><td>0.0</td><td>0.0</td><td>0.0</td><td>0.0</td><td>0.0</td><td>0.0</td><td>0.0</td><td>0.0</td><td>0.0</td><td>0.0</td><td>0.0</td><td>0.0</td><td>0</td><td>0.0</td><td>1</td><td>-0.35380343</td><td>2.7362933</td><td>0.35260007</td><td>0.9934354</td><td>0.0</td><td>0.0</td><td>0.0</td><td>0</td><td>0.0</td><td>0.0</td><td>0.0</td><td>0</td><td>0.0</td><td>0.0</td><td>0.0</td><td>0</td><td>0.0</td><td>0.0</td><td>0.0</td><td>0.0</td><td>0.0</td><td>0.0</td><td>0.0</td><td>0.0</td><td>0.0</td><td>0.0</td><td>0.0</td><td>0.0</td><td>0.0</td><td>0.0</td><td>0.0</td><td>0.0</td><td>0.0</td><td></td><td></td><td>0.0</td><td>0</td><td>0.0</td><td>0.0</td><td>0.0</td><td>0.0</td><td>0.0</td><td>0.0</td><td>0.0</td><td>0.0</td><td>-1</td><td>0.0</td><td>0.0</td><td>0.0</td></tr>\n",
       "</table>"
      ],
      "text/plain": [
       "<Table length=297301>\n",
       "     SPECOBJID          SDSS_JOINID     ... FIRST_SNR SDSS2FIRST_SEP\n",
       "      bytes20             bytes20       ...  float32     float32    \n",
       "------------------- ------------------- ... --------- --------------\n",
       "6950325365131374592 6950325365130657792 ...       0.0            0.0\n",
       "6954847382081826816 6954847382081110016 ...       0.0            0.0\n",
       "4970975729887670272 4970975729886953472 ...       0.0            0.0\n",
       "4902354659090034688 4902354659089317888 ...  7.048389      0.5710586\n",
       "4902345862997012480 4902345862996295680 ...       0.0            0.0\n",
       "6879272175653285888 6879272175652569088 ...       0.0            0.0\n",
       "7316146358196039680 7316146358195322880 ...       0.0            0.0\n",
       "8046850175207665664 8046850175206948864 ...       0.0            0.0\n",
       "6954850955494617088 6954850955493900288 ...       0.0            0.0\n",
       "4746879861044998144 4746879861044281344 ...       0.0            0.0\n",
       "                ...                 ... ...       ...            ...\n",
       "4746995859521728512 4746995859521011712 ...       0.0            0.0\n",
       "8046851824475107328 8046851824474390528 ...       0.0            0.0\n",
       "4815511927093129216 4815511927092412416 ...       0.0            0.0\n",
       "8032289892342624256 8032289892341907456 ...       0.0            0.0\n",
       "8069400609440854016 8069400609440137216 ...       0.0            0.0\n",
       "6926539628846182400 6926539628845465600 ...       0.0            0.0\n",
       "6960417781557424128 6960417781556707328 ...       0.0            0.0\n",
       "7330985091827167232 7330985091826450432 ...       0.0            0.0\n",
       "8044620915264909312 8044620915264192512 ...       0.0            0.0\n",
       "8044626962578862080 8044626962578145280 ...       0.0            0.0"
      ]
     },
     "execution_count": 66,
     "metadata": {},
     "output_type": "execute_result"
    }
   ],
   "source": [
    "t"
   ]
  },
  {
   "cell_type": "code",
   "execution_count": 67,
   "metadata": {},
   "outputs": [],
   "source": [
    "t.write(os.path.join(os.environ['HOME'], 'Downloads', 'dr12q_datalab.fits'))"
   ]
  },
  {
   "cell_type": "code",
   "execution_count": null,
   "metadata": {},
   "outputs": [],
   "source": []
  }
 ],
 "metadata": {
  "kernelspec": {
   "display_name": "Python 3",
   "language": "python",
   "name": "python3"
  },
  "language_info": {
   "codemirror_mode": {
    "name": "ipython",
    "version": 3
   },
   "file_extension": ".py",
   "mimetype": "text/x-python",
   "name": "python",
   "nbconvert_exporter": "python",
   "pygments_lexer": "ipython3",
   "version": "3.6.10"
  }
 },
 "nbformat": 4,
 "nbformat_minor": 4
}
