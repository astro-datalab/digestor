{
 "cells": [
  {
   "cell_type": "markdown",
   "metadata": {},
   "source": [
    "# Preparing SDSS DR14 VACs\n",
    "\n",
    "\n",
    "## Introduction\n",
    "\n",
    "Working with the SDSS DR14 VAC files in preparation for loading into a database. There are four VACs currently targeted for loading into Data Lab:\n",
    "\n",
    "1. [DR14Q](https://www.sdss.org/dr15/data_access/value-added-catalogs/?vac_id=the-sloan-digital-sky-survey-quasar-catalog-fourteenth-data-release)\n",
    "2. [Firefly on SDSS/BOSS/eBOSS spectra](https://www.sdss.org/dr15/data_access/value-added-catalogs/?vac_id=firefly-stellar-population-models-of-sdss-and-eboss-galaxy-spectra)\n",
    "3. [SPIDERS BH mass estimates](https://www.sdss.org/dr15/data_access/value-added-catalogs/?vac_id=optical-emission-line-properties-and-black-hole-mass-estimates-for-spiders-dr14-agn)\n",
    "4. [Redmonster](https://www.sdss.org/dr15/data_access/value-added-catalogs/?vac_id=redshift-measurement-and-spectral-classification-catalog-with-redmonster)  This table may be deferred indefinitely.  Turns out there is not much support for this table.\n",
    "\n",
    "All of these are conveniently stored as single FITS tables.  However, varying degrees of preprocessing may be needed.\n",
    "\n",
    "Other resources:\n",
    "\n",
    "* [SDSS CAS SQL definition files](https://trac.sdss.org/browser/repo/sdss/sas/trunk/sql)\n"
   ]
  },
  {
   "cell_type": "markdown",
   "metadata": {},
   "source": [
    "## Setup"
   ]
  },
  {
   "cell_type": "code",
   "execution_count": 1,
   "metadata": {},
   "outputs": [],
   "source": [
    "# Standard library\n",
    "from io import BytesIO\n",
    "import re\n",
    "import csv\n",
    "# matplotlib, etc.\n",
    "%matplotlib inline\n",
    "import matplotlib\n",
    "import matplotlib.pyplot as plt\n",
    "from matplotlib.font_manager import fontManager, FontProperties\n",
    "import numpy as np\n",
    "from astropy.io import fits\n",
    "from astropy.visualization import astropy_mpl_style\n",
    "from astropy.io.votable import parse_single_table\n",
    "from astropy.table import Column, Table\n",
    "plt.style.use(astropy_mpl_style)\n",
    "matplotlib.rcParams['figure.figsize'] = (10.0, 10.0)\n",
    "# Data Lab\n",
    "from dl import queryClient as qc, storeClient as sc\n",
    "#\n",
    "# Global constants.\n",
    "#\n",
    "release = 14\n",
    "sas = 'sdss_dr{0:d}://'.format(release)\n",
    "sdss_run2d = 26\n",
    "boss_run2d = 'v5_10_0'\n",
    "# assert matplotlib.rcParams['figure.figsize'] == (10.0, 10.0)"
   ]
  },
  {
   "cell_type": "code",
   "execution_count": 2,
   "metadata": {},
   "outputs": [],
   "source": [
    "def inthist(foo, show=False):\n",
    "    \"\"\"Create a histogram of integer values.\n",
    "\n",
    "    Parameters\n",
    "    ----------\n",
    "    foo : numpy.ndarray\n",
    "        An array containing integers.\n",
    "    show : bool, optional\n",
    "        If ``True``, create a histogram and return the matplotlib.axes.Axes\n",
    "        instance.\n",
    "\n",
    "    Returns\n",
    "    -------\n",
    "    inthist : mixed\n",
    "    \"\"\"\n",
    "    xmin = min(foo)\n",
    "    xmax = max(foo)\n",
    "    x = np.arange( xmin, xmax+1 )\n",
    "    n = np.zeros( x.shape, dtype=x.dtype )\n",
    "    for k in range(len(n)):\n",
    "        n[k] = np.sum( foo == x[k] )\n",
    "    if show:\n",
    "        fig = plt.figure(dpi=100)\n",
    "        ax = fig.add_subplot(111)\n",
    "        b = ax.bar(x,n,align='center',width=0.5,color='w')\n",
    "        ax.set_xlim(xmin-1, xmax+1)\n",
    "        # ax.set_ylim(0, np.ceil(max(n)/10.0)*10.0)\n",
    "        ax.set_ylim(0, 10**np.ceil(np.log10(max(n))))\n",
    "        return ax\n",
    "    else:\n",
    "        return (n,x)"
   ]
  },
  {
   "cell_type": "code",
   "execution_count": 3,
   "metadata": {},
   "outputs": [],
   "source": [
    "def sdss_specobjid(plate, fiber, mjd, run2d, line=None, index=None):\n",
    "    \"\"\"Convert SDSS spectrum identifiers into CAS-style specObjID.\n",
    "    Bits are assigned in specObjID thus:\n",
    "    ===== ========== =============================================================\n",
    "    Bits  Name       Comment\n",
    "    ===== ========== =============================================================\n",
    "    50-63 Plate ID   14 bits\n",
    "    38-49 Fiber ID   12 bits\n",
    "    24-37 MJD        Date plate was observed minus 50000 (14 bits)\n",
    "    10-23 run2d      Spectroscopic reduction version\n",
    "    0-9   line/index 0 for use in SpecObj files see below for other uses (10 bits)\n",
    "    ===== ========== =============================================================\n",
    "    Parameters\n",
    "    ----------\n",
    "    plate, fiber, mjd : :class:`int` or array of int\n",
    "        Plate, fiber ID, and MJD for a spectrum.  If arrays are\n",
    "        passed, all must have the same length.  The MJD value must be\n",
    "        greater than 50000.\n",
    "    run2d : :class:`int`, :class:`str` or array of int or str\n",
    "        The run2d value must be an integer or a string of the form 'vN_M_P'.\n",
    "        If an array is passed, it must have the same length as the other\n",
    "        inputs listed above.  If the string form is used, the values are\n",
    "        restricted to :math:`5 \\le N \\le 6`, :math:`0 \\le M \\le 99`,\n",
    "        :math:`0 \\le P \\le 99`.\n",
    "    line : :class:`int`, optional\n",
    "        A line index, only used for defining specObjID for SpecLine files.\n",
    "        `line` and `index` cannot both be non-zero.\n",
    "    index : :class:`int`, optional\n",
    "        An index measure, only used for defining specObjID for SpecLineIndex\n",
    "        files. `line` and `index` cannot both be non-zero.\n",
    "    Returns\n",
    "    -------\n",
    "    :class:`numpy.ndarray` of :class:`numpy.uint64`\n",
    "        The specObjIDs of the objects.\n",
    "    Raises\n",
    "    ------\n",
    "    :exc:`ValueError`\n",
    "        If the sizes of the arrays don't match or if the array values are\n",
    "        out of bounds.\n",
    "    Notes\n",
    "    -----\n",
    "    * On 32-bit systems, makes sure to explicitly declare all inputs as\n",
    "      64-bit integers.\n",
    "    * This function defines the SDSS-III/IV version of specObjID, used for\n",
    "      SDSS DR8 and subsequent data releases.  It is not compatible with\n",
    "      SDSS DR7 or earlier.\n",
    "    * If the string form of `run2d` is used, the bits are assigned by\n",
    "      the formula :math:`(N - 5) \\\\times 10000 + M \\\\times 100 + P`.\n",
    "    Examples\n",
    "    --------\n",
    "    >>> from pydl.pydlutils.sdss import sdss_specobjid\n",
    "    >>> print(sdss_specobjid(4055,408,55359,'v5_7_0'))\n",
    "    [4565636362342690816]\n",
    "    \"\"\"\n",
    "    if line is not None and index is not None:\n",
    "        raise ValueError(\"line and index inputs cannot both be non-zero!\")\n",
    "    if isinstance(plate, int):\n",
    "        plate = np.array([plate], dtype=np.uint64)\n",
    "    if isinstance(fiber, int):\n",
    "        fiber = np.array([fiber], dtype=np.uint64)\n",
    "    if isinstance(mjd, int):\n",
    "        mjd = np.array([mjd], dtype=np.uint64) - 50000\n",
    "    if isinstance(run2d, str):\n",
    "        try:\n",
    "            run2d = np.array([int(run2d)], dtype=np.uint64)\n",
    "        except ValueError:\n",
    "            # Try a \"vN_M_P\" string.\n",
    "            m = re.match(r'v(\\d+)_(\\d+)_(\\d+)', run2d)\n",
    "            if m is None:\n",
    "                raise ValueError(\"Could not extract integer run2d value!\")\n",
    "            else:\n",
    "                N, M, P = m.groups()\n",
    "            run2d = np.array([(int(N) - 5)*10000 + int(M) * 100 + int(P)],\n",
    "                             dtype=np.uint64)\n",
    "    elif isinstance(run2d, int):\n",
    "        run2d = np.array([run2d], dtype=np.uint64)\n",
    "    if line is None:\n",
    "        line = np.zeros(plate.shape, dtype=plate.dtype)\n",
    "    else:\n",
    "        if isinstance(line, int):\n",
    "            line = np.array([line], dtype=np.uint64)\n",
    "    if index is None:\n",
    "        index = np.zeros(plate.shape, dtype=plate.dtype)\n",
    "    else:\n",
    "        if isinstance(index, int):\n",
    "            index = np.array([index], dtype=np.uint64)\n",
    "    #\n",
    "    # Check that all inputs have the same shape.\n",
    "    #\n",
    "    if plate.shape != fiber.shape:\n",
    "        raise ValueError(\"fiber.shape does not match plate.shape!\")\n",
    "    if plate.shape != mjd.shape:\n",
    "        raise ValueError(\"mjd.shape does not match plate.shape!\")\n",
    "    if plate.shape != run2d.shape:\n",
    "        raise ValueError(\"run2d.shape does not match plate.shape!\")\n",
    "    if plate.shape != line.shape:\n",
    "        raise ValueError(\"line.shape does not match plate.shape!\")\n",
    "    if plate.shape != index.shape:\n",
    "        raise ValueError(\"index.shape does not match plate.shape!\")\n",
    "    #\n",
    "    # Check ranges of parameters\n",
    "    #\n",
    "    if ((plate < 0) | (plate >= 2**14)).any():\n",
    "        raise ValueError(\"plate values are out-of-bounds!\")\n",
    "    if ((fiber < 0) | (fiber >= 2**12)).any():\n",
    "        raise ValueError(\"fiber values are out-of-bounds!\")\n",
    "    if ((mjd < 0) | (mjd >= 2**14)).any():\n",
    "        raise ValueError(\"MJD values are out-of-bounds!\")\n",
    "    if ((run2d < 0) | (run2d >= 2**14)).any():\n",
    "        raise ValueError(\"MJD values are out-of-bounds!\")\n",
    "    if ((line < 0) | (line >= 2**10)).any():\n",
    "        raise ValueError(\"line values are out-of-bounds!\")\n",
    "    if ((index < 0) | (index >= 2**10)).any():\n",
    "        raise ValueError(\"index values are out-of-bounds!\")\n",
    "    #\n",
    "    # Compute the specObjID\n",
    "    #\n",
    "    specObjID = ((plate << 50) |\n",
    "                 (fiber << 38) |\n",
    "                 (mjd << 24) |\n",
    "                 (run2d << 10) |\n",
    "                 (line | index))\n",
    "    return specObjID"
   ]
  },
  {
   "cell_type": "code",
   "execution_count": 4,
   "metadata": {},
   "outputs": [],
   "source": [
    "def unwrap_specobjid(specObjID, run2d_integer=False, specLineIndex=False):\n",
    "    \"\"\"Unwrap CAS-style specObjID into plate, fiber, mjd, run2d.\n",
    "    See :func:`~pydl.pydlutils.sdss.sdss_specobjid` for details on how the\n",
    "    bits within a specObjID are assigned.\n",
    "    Parameters\n",
    "    ----------\n",
    "    specObjID : :class:`numpy.ndarray`\n",
    "        An array containing 64-bit integers or strings.  If strings are passed,\n",
    "        they will be converted to integers internally.\n",
    "    run2d_integer : :class:`bool`, optional\n",
    "        If ``True``, do *not* attempt to convert the encoded run2d values\n",
    "        to a string of the form 'vN_M_P'.\n",
    "    specLineIndex : :class:`bool`, optional\n",
    "        If ``True`` interpret any low-order bits as being an 'index'\n",
    "        rather than a 'line'.\n",
    "    Returns\n",
    "    -------\n",
    "    :class:`numpy.recarray`\n",
    "        A record array with the same length as `specObjID`, with the columns\n",
    "        'plate', 'fiber', 'mjd', 'run2d', 'line'.\n",
    "    Examples\n",
    "    --------\n",
    "    >>> from numpy import array, uint64\n",
    "    >>> from pydl.pydlutils.sdss import unwrap_specobjid\n",
    "    >>> unwrap_specobjid(array([4565636362342690816], dtype=uint64))\n",
    "    rec.array([(4055, 408, 55359, 'v5_7_0', 0)],\n",
    "              dtype=[('plate', '<i4'), ('fiber', '<i4'), ('mjd', '<i4'), ('run2d', '<U8'), ('line', '<i4')])\n",
    "    \"\"\"\n",
    "    if (specObjID.dtype.type is np.string_ or\n",
    "        specObjID.dtype.type is np.unicode_):\n",
    "        tempobjid = specObjID.astype(np.uint64)\n",
    "    elif specObjID.dtype.type is np.uint64:\n",
    "        tempobjid = specObjID.copy()\n",
    "    else:\n",
    "        raise ValueError('Unrecognized type for specObjID!')\n",
    "    run2d_dtype = 'U8'\n",
    "    if run2d_integer:\n",
    "        run2d_dtype = 'i4'\n",
    "    line = 'line'\n",
    "    if specLineIndex:\n",
    "        line = 'index'\n",
    "    unwrap = np.recarray(specObjID.shape,\n",
    "                         dtype=[('plate', 'i4'), ('fiber', 'i4'),\n",
    "                                ('mjd', 'i4'), ('run2d', run2d_dtype),\n",
    "                                (line, 'i4')])\n",
    "    unwrap.plate = np.bitwise_and(tempobjid >> 50, 2**14 - 1)\n",
    "    unwrap.fiber = np.bitwise_and(tempobjid >> 38, 2**12 - 1)\n",
    "    unwrap.mjd = np.bitwise_and(tempobjid >> 24, 2**14 - 1) + 50000\n",
    "    run2d = np.bitwise_and(tempobjid >> 10, 2**14 - 1)\n",
    "    if run2d_integer:\n",
    "        unwrap.run2d = run2d\n",
    "    else:\n",
    "        N = ((run2d // 10000) + 5).tolist()\n",
    "        M = ((run2d % 10000) // 100).tolist()\n",
    "        P = (run2d % 100).tolist()\n",
    "        unwrap.run2d = ['v{0:d}_{1:d}_{2:d}'.format(n, m, p)\n",
    "                        for n, m, p in zip(N, M, P)]\n",
    "    unwrap[line] = np.bitwise_and(tempobjid, 2**10 - 1)\n",
    "    return unwrap"
   ]
  },
  {
   "cell_type": "markdown",
   "metadata": {},
   "source": [
    "## DR14Q\n",
    "\n",
    "### Overview\n",
    "\n",
    "* [data model](https://data.sdss.org/datamodel/files/BOSS_QSO/DR14Q/DR14Q_v4_4.html)\n",
    "* [Pâris et al. (2018)](https://arxiv.org/abs/1712.05029)\n",
    "\n",
    "### Preprocessing Plan\n",
    "\n",
    "* Compute `specObjID`; add `run2d` column.\n",
    "* Delete photometric information.\n",
    "* Move duplicate information to separate table.\n",
    "* Coerce some matching flags to integer.\n",
    "* Coerce floating point values (except `RA`, `DEC`) to 32-bit float.\n",
    "\n",
    "### Known Problems\n",
    "\n",
    "* The columns `GALEX_MATCHED`, `UKIDSS_MATCHED` are stored as float when they should be integers.  The also contain NaN values, and `GALEX_MATCHED` contains some values which are 2.  None of these cases are described in the DR14Q paper.  Only `FIRST_MATCHED` has valid values and is consistent with its description in the paper.\n",
    "* The photometric id values, `RUN_NUMBER`, `COL_NUMBER`, are all nonsense values.  All identically zero in fact.\n",
    "* The duplicate column contains extraneous zeroes, and not all duplicates are actually stored in the column.  See below for examples.  It would be much better if the duplicates were a separate table, mapping primary specObjID to duplicate specObjID.\n",
    "* `TUNIT` columns should be blank when the value has no unit, instead of `-`.\n",
    "* I would recommend checking that all units in the table conform to the FITS standard.  For example 'Vega' is a description of a unit, not a physical unit. Also, the `RASS_COUNTS` column has units counts/s, which is misleading, because the units are actually log(counts/s).  Exception: nanomaggies are not standard, but are OK.\n",
    "* Column names, *e.g.* `FLUX_0.2_2.0keV` contain characters that could be interpreted as integers.\n",
    "* Not all \"primary\" objects in DR14Q correspond to real objects in the specObjAll table.  And not all \"duplicates\" correspond to real objects either.  In these cases there are spectra that exist on disk, but are not now, and probably never will be added to CAS.  This makes it particularly difficult to cleanly join DR14Q to specObjAll."
   ]
  },
  {
   "cell_type": "code",
   "execution_count": 5,
   "metadata": {},
   "outputs": [],
   "source": [
    "qso_version = 'v4_4'\n",
    "vopath = \"{0}eboss/qso/DR{1:d}Q/DR{1:d}Q_{2}.fits\".format(sas, release, qso_version)\n",
    "with BytesIO(sc.get(vopath, mode='binary')) as q:\n",
    "    with fits.open(q) as hdulist:\n",
    "        dr14q = hdulist['DR14Q_v4_4'].data"
   ]
  },
  {
   "cell_type": "markdown",
   "metadata": {},
   "source": [
    "### specObjID\n",
    "\n",
    "Compute `specObjID` for the spectra.  Be careful, because there are some SEGUE spectra in the mix!"
   ]
  },
  {
   "cell_type": "code",
   "execution_count": 6,
   "metadata": {},
   "outputs": [
    {
     "data": {
      "text/plain": [
       "2974"
      ]
     },
     "execution_count": 6,
     "metadata": {},
     "output_type": "execute_result"
    }
   ],
   "source": [
    "w = dr14q['SPECTRO'] == 'SDSS'\n",
    "dr14q['PLATE'][w].max()"
   ]
  },
  {
   "cell_type": "code",
   "execution_count": 7,
   "metadata": {},
   "outputs": [
    {
     "data": {
      "text/plain": [
       "3586"
      ]
     },
     "execution_count": 7,
     "metadata": {},
     "output_type": "execute_result"
    }
   ],
   "source": [
    "w = dr14q['SPECTRO'] == 'BOSS'\n",
    "dr14q['PLATE'][w].min() "
   ]
  },
  {
   "cell_type": "code",
   "execution_count": 8,
   "metadata": {},
   "outputs": [],
   "source": [
    "run2d = np.array([boss_run2d.encode('utf-8')]*len(dr14q))\n",
    "w = dr14q['SPECTRO'] == 'SDSS'\n",
    "for p in np.unique(dr14q['PLATE'][w]):\n",
    "    q = \"SELECT run2d FROM sdss_dr{0:d}_new.platex WHERE plate = {1:d};\".format(release, p)\n",
    "    vot = qc.query(sql=q, fmt='votable', async=False)\n",
    "    result = parse_single_table(BytesIO(vot.encode('utf-8')))\n",
    "    ww = dr14q['PLATE'] == p\n",
    "    # print(result.array['run2d'][0])\n",
    "    run2d[ww] = result.array['run2d'][0]\n",
    "run2d_lookup = dict(zip(dr14q['PLATE'], run2d))"
   ]
  },
  {
   "cell_type": "code",
   "execution_count": 9,
   "metadata": {},
   "outputs": [],
   "source": [
    "specobjid = np.zeros(dr14q.shape, dtype=np.uint64)\n",
    "w = dr14q['SPECTRO'] == 'SDSS'\n",
    "irun2d = np.zeros(dr14q.shape, dtype=np.uint64)\n",
    "irun2d[w] = [int(x) for x in run2d[w]]\n",
    "w = dr14q['SPECTRO'] == 'BOSS'\n",
    "m = re.match(r'v(\\d+)_(\\d+)_(\\d+)', boss_run2d)\n",
    "N, M, P = m.groups()\n",
    "irun2d[w] = (int(N) - 5)*10000 + int(M) * 100 + int(P)\n",
    "specobjid = sdss_specobjid(dr14q['PLATE'].astype(np.uint64),\n",
    "                           dr14q['FIBERID'].astype(np.uint64),\n",
    "                           dr14q['MJD'].astype(np.uint64) - 50000,\n",
    "                           irun2d)"
   ]
  },
  {
   "cell_type": "code",
   "execution_count": 10,
   "metadata": {},
   "outputs": [
    {
     "data": {
      "text/plain": [
       "array([8552380339116285952, 9840556074670727168, 6954847382082134016, ...,\n",
       "       9841507702370443264, 8551281102567743488, 8044626962579169280],\n",
       "      dtype=uint64)"
      ]
     },
     "execution_count": 10,
     "metadata": {},
     "output_type": "execute_result"
    }
   ],
   "source": [
    "specobjid"
   ]
  },
  {
   "cell_type": "code",
   "execution_count": 27,
   "metadata": {},
   "outputs": [
    {
     "data": {
      "text/plain": [
       "rec.array([(2865, 294, 54497, 'v5_0_26', 0)],\n",
       "          dtype=[('plate', '<i4'), ('fiber', '<i4'), ('mjd', '<i4'), ('run2d', '<U8'), ('line', '<i4')])"
      ]
     },
     "execution_count": 27,
     "metadata": {},
     "output_type": "execute_result"
    }
   ],
   "source": [
    "unwrap_specobjid(np.array([3225784122655926272], dtype=np.uint64))"
   ]
  },
  {
   "cell_type": "code",
   "execution_count": 28,
   "metadata": {},
   "outputs": [
    {
     "data": {
      "text/plain": [
       "(array([[-1, -1, -1, ..., -1, -1, -1],\n",
       "        [-1, -1, -1, ..., -1, -1, -1],\n",
       "        [-1, -1, -1, ..., -1, -1, -1],\n",
       "        ...,\n",
       "        [-1, -1, -1, ..., -1, -1, -1],\n",
       "        [-1, -1, -1, ..., -1, -1, -1],\n",
       "        [-1, -1, -1, ..., -1, -1, -1]], dtype=int32),\n",
       " array([[-1, -1, -1, ..., -1, -1, -1],\n",
       "        [-1, -1, -1, ..., -1, -1, -1],\n",
       "        [-1, -1, -1, ..., -1, -1, -1],\n",
       "        ...,\n",
       "        [-1, -1, -1, ..., -1, -1, -1],\n",
       "        [-1, -1, -1, ..., -1, -1, -1],\n",
       "        [-1, -1, -1, ..., -1, -1, -1]], dtype=int32),\n",
       " array([[-1, -1, -1, ..., -1, -1, -1],\n",
       "        [-1, -1, -1, ..., -1, -1, -1],\n",
       "        [-1, -1, -1, ..., -1, -1, -1],\n",
       "        ...,\n",
       "        [-1, -1, -1, ..., -1, -1, -1],\n",
       "        [-1, -1, -1, ..., -1, -1, -1],\n",
       "        [-1, -1, -1, ..., -1, -1, -1]], dtype=int32))"
      ]
     },
     "execution_count": 28,
     "metadata": {},
     "output_type": "execute_result"
    }
   ],
   "source": [
    "w = dr14q['PLATE'] == 294\n",
    "dr14q['PLATE_DUPLICATE'][w, :], dr14q['MJD_DUPLICATE'][w, :], dr14q['FIBERID_DUPLICATE'][w, :]"
   ]
  },
  {
   "cell_type": "markdown",
   "metadata": {},
   "source": [
    "### Photometric information\n",
    "\n",
    "These columns contain no useful information at all, so drop them.  Get information by joining on `specobj` instead."
   ]
  },
  {
   "cell_type": "code",
   "execution_count": 11,
   "metadata": {},
   "outputs": [],
   "source": [
    "assert (dr14q['RUN_NUMBER'] == 0).all()\n",
    "assert (dr14q['RERUN_NUMBER'] == '-').all()\n",
    "assert (dr14q['COL_NUMBER'] == 0).all()\n",
    "assert (dr14q['FIELD_NUMBER'] == 0).all()\n",
    "assert (dr14q['OBJ_ID'] == '-').all()"
   ]
  },
  {
   "cell_type": "markdown",
   "metadata": {},
   "source": [
    "### Targeting flags\n",
    "\n",
    "Make sure these don't require any special `np.uint64` handling."
   ]
  },
  {
   "cell_type": "code",
   "execution_count": 12,
   "metadata": {},
   "outputs": [],
   "source": [
    "assert (dr14q['BOSS_TARGET1'] < 9223372036854775808).all()\n",
    "assert (dr14q['ANCILLARY_TARGET1'] < 9223372036854775808).all()\n",
    "assert (dr14q['ANCILLARY_TARGET2'] < 9223372036854775808).all()\n",
    "assert (dr14q['EBOSS_TARGET0'] < 9223372036854775808).all()\n",
    "assert (dr14q['EBOSS_TARGET1'] < 9223372036854775808).all()\n",
    "assert (dr14q['EBOSS_TARGET2'] < 9223372036854775808).all()"
   ]
  },
  {
   "cell_type": "markdown",
   "metadata": {},
   "source": [
    "### Matching flags\n",
    "\n",
    "The matching flags `UKIDSS_MATCHED` and `GALEX_MATCHED` are not as described in the paper, and they cannot be recovered from an earlier version, so just coerce them to integer."
   ]
  },
  {
   "cell_type": "code",
   "execution_count": 13,
   "metadata": {},
   "outputs": [
    {
     "data": {
      "text/plain": [
       "array([], dtype=int16)"
      ]
     },
     "execution_count": 13,
     "metadata": {},
     "output_type": "execute_result"
    }
   ],
   "source": [
    "w = (dr14q['FIRST_MATCHED'] != -1) & (dr14q['FIRST_MATCHED'] != 0) & (dr14q['FIRST_MATCHED'] != 1)\n",
    "dr14q['FIRST_MATCHED'][w]"
   ]
  },
  {
   "cell_type": "code",
   "execution_count": 14,
   "metadata": {},
   "outputs": [
    {
     "data": {
      "text/plain": [
       "array([nan, nan, nan, nan, nan, nan, nan, nan, nan, nan, nan, nan, nan,\n",
       "       nan, nan, nan, nan, nan, nan, nan, nan, nan, nan, nan, nan, nan,\n",
       "       nan, nan, nan, nan, nan, nan, nan, nan, nan, nan, nan, nan, nan,\n",
       "       nan, nan, nan, nan, nan, nan, nan, nan, nan, nan, nan, nan, nan,\n",
       "       nan, nan, nan, nan, nan, nan, nan, nan, nan, nan, nan, nan, nan,\n",
       "       nan, nan, nan, nan, nan, nan, nan, nan, nan, nan, nan, nan, nan,\n",
       "       nan, nan, nan, nan, nan, nan, nan, nan, nan, nan, nan, nan, nan,\n",
       "       nan, nan, nan, nan, nan, nan, nan, nan, nan, nan, nan, nan, nan,\n",
       "       nan, nan, nan, nan, nan, nan, nan, nan, nan, nan, nan, nan, nan,\n",
       "       nan, nan, nan, nan, nan, nan, nan, nan, nan, nan, nan, nan, nan,\n",
       "       nan, nan, nan, nan, nan, nan, nan, nan, nan, nan, nan, nan, nan,\n",
       "       nan, nan, nan, nan, nan, nan, nan, nan, nan, nan, nan, nan, nan,\n",
       "       nan, nan, nan, nan, nan, nan, nan, nan, nan, nan, nan, nan, nan,\n",
       "       nan, nan, nan, nan, nan, nan, nan, nan, nan, nan, nan, nan, nan,\n",
       "       nan, nan, nan, nan, nan, nan, nan, nan, nan, nan, nan, nan, nan,\n",
       "       nan, nan, nan, nan, nan, nan, nan, nan, nan, nan, nan, nan, nan,\n",
       "       nan, nan, nan, nan, nan, nan, nan, nan, nan, nan, nan, nan, nan,\n",
       "       nan, nan, nan, nan, nan, nan, nan, nan, nan, nan, nan, nan, nan,\n",
       "       nan, nan, nan, nan, nan, nan, nan, nan, nan, nan, nan, nan, nan,\n",
       "       nan, nan, nan, nan, nan, nan, nan, nan, nan, nan, nan, nan, nan,\n",
       "       nan, nan, nan, nan, nan, nan, nan, nan, nan, nan, nan, nan, nan,\n",
       "       nan, nan, nan, nan, nan, nan, nan, nan, nan, nan, nan, nan, nan,\n",
       "       nan, nan, nan, nan, nan, nan, nan, nan, nan, nan, nan, nan, nan,\n",
       "       nan, nan, nan, nan, nan, nan, nan, nan, nan, nan, nan, nan, nan,\n",
       "       nan, nan, nan, nan, nan, nan, nan, nan, nan, nan, nan, nan, nan,\n",
       "       nan, nan, nan, nan, nan, nan, nan, nan, nan, nan, nan, nan, nan,\n",
       "       nan, nan, nan, nan, nan, nan, nan, nan, nan, nan, nan, nan, nan,\n",
       "       nan, nan, nan, nan, nan, nan, nan, nan, nan, nan, nan, nan, nan,\n",
       "       nan, nan, nan, nan, nan, nan, nan, nan, nan, nan, nan, nan, nan],\n",
       "      dtype=float32)"
      ]
     },
     "execution_count": 14,
     "metadata": {},
     "output_type": "execute_result"
    }
   ],
   "source": [
    "w = (dr14q['GALEX_MATCHED'] != 0.0) & (dr14q['GALEX_MATCHED'] != 1.0) & (dr14q['GALEX_MATCHED'] != 2.0) \n",
    "dr14q['GALEX_MATCHED'][w]"
   ]
  },
  {
   "cell_type": "code",
   "execution_count": 15,
   "metadata": {},
   "outputs": [
    {
     "data": {
      "text/plain": [
       "array([nan, nan, nan, nan, nan, nan, nan, nan, nan, nan, nan, nan, nan,\n",
       "       nan, nan, nan, nan, nan, nan, nan, nan, nan, nan, nan, nan, nan,\n",
       "       nan, nan, nan, nan, nan, nan, nan, nan, nan, nan, nan, nan, nan,\n",
       "       nan, nan, nan, nan, nan, nan, nan, nan, nan, nan, nan, nan, nan,\n",
       "       nan, nan, nan, nan, nan, nan, nan, nan, nan, nan, nan, nan, nan,\n",
       "       nan, nan, nan, nan, nan, nan, nan, nan, nan, nan, nan, nan, nan,\n",
       "       nan, nan, nan, nan, nan, nan, nan, nan, nan, nan, nan, nan, nan,\n",
       "       nan, nan, nan, nan, nan, nan, nan, nan, nan, nan, nan, nan, nan,\n",
       "       nan, nan, nan, nan, nan, nan, nan, nan, nan, nan, nan, nan, nan,\n",
       "       nan, nan, nan, nan, nan, nan, nan, nan, nan, nan, nan, nan, nan,\n",
       "       nan, nan, nan, nan, nan, nan, nan, nan, nan, nan, nan, nan, nan,\n",
       "       nan, nan, nan, nan, nan, nan, nan, nan, nan, nan, nan, nan, nan,\n",
       "       nan, nan, nan, nan, nan, nan, nan, nan, nan, nan, nan, nan, nan,\n",
       "       nan, nan, nan, nan, nan, nan, nan, nan, nan, nan, nan, nan, nan,\n",
       "       nan, nan, nan, nan, nan, nan, nan, nan, nan, nan, nan, nan, nan,\n",
       "       nan, nan, nan, nan, nan, nan, nan, nan, nan, nan, nan, nan, nan,\n",
       "       nan, nan, nan, nan, nan, nan, nan, nan, nan, nan, nan, nan, nan,\n",
       "       nan, nan, nan, nan, nan, nan, nan, nan, nan, nan, nan, nan, nan,\n",
       "       nan, nan, nan, nan, nan, nan, nan, nan, nan, nan, nan, nan, nan,\n",
       "       nan, nan, nan, nan, nan, nan, nan, nan, nan, nan, nan, nan, nan,\n",
       "       nan, nan, nan, nan, nan, nan, nan, nan, nan, nan, nan, nan, nan,\n",
       "       nan, nan, nan, nan, nan, nan, nan, nan, nan, nan, nan, nan, nan,\n",
       "       nan, nan, nan, nan, nan, nan, nan, nan, nan, nan, nan, nan, nan,\n",
       "       nan, nan, nan, nan, nan, nan, nan, nan, nan, nan, nan, nan, nan,\n",
       "       nan, nan, nan, nan, nan, nan, nan, nan, nan, nan, nan, nan, nan,\n",
       "       nan, nan, nan, nan, nan, nan, nan, nan, nan, nan, nan, nan, nan,\n",
       "       nan, nan, nan, nan, nan, nan, nan, nan, nan, nan, nan, nan, nan,\n",
       "       nan, nan, nan, nan, nan, nan, nan, nan, nan, nan, nan, nan, nan,\n",
       "       nan, nan, nan, nan, nan, nan, nan, nan, nan, nan, nan, nan, nan],\n",
       "      dtype=float32)"
      ]
     },
     "execution_count": 15,
     "metadata": {},
     "output_type": "execute_result"
    }
   ],
   "source": [
    "w = (dr14q['UKIDSS_MATCHED'] != 0.0) & (dr14q['UKIDSS_MATCHED'] != 1.0)\n",
    "dr14q['UKIDSS_MATCHED'][w]"
   ]
  },
  {
   "cell_type": "markdown",
   "metadata": {},
   "source": [
    "### Duplicates\n",
    "\n",
    "Move the duplicate information to a separate table.  The `SPECTRO_DUPLICATE` column is total nonsense.  It turns out the duplicates are interspersed with extraneous zeroes.  In addition, some duplicates are disk only; they do not exist in the `specobjall` table.  We will load all duplicates unflagged, then use a database query to flag the duplicates that do not exist in the database."
   ]
  },
  {
   "cell_type": "code",
   "execution_count": 16,
   "metadata": {},
   "outputs": [
    {
     "data": {
      "text/plain": [
       "True"
      ]
     },
     "execution_count": 16,
     "metadata": {},
     "output_type": "execute_result"
    }
   ],
   "source": [
    "(dr14q['SPECTRO_DUPLICATE'] == np.array(['-']*51)).all()"
   ]
  },
  {
   "cell_type": "code",
   "execution_count": 17,
   "metadata": {},
   "outputs": [
    {
     "data": {
      "text/plain": [
       "51"
      ]
     },
     "execution_count": 17,
     "metadata": {},
     "output_type": "execute_result"
    }
   ],
   "source": [
    "dr14q['N_SPEC'].max()"
   ]
  },
  {
   "cell_type": "code",
   "execution_count": 18,
   "metadata": {},
   "outputs": [
    {
     "data": {
      "image/png": "[encoded data removed]",
      "text/plain": [
       "<Figure size 1000x1000 with 1 Axes>"
      ]
     },
     "metadata": {
      "needs_background": "light"
     },
     "output_type": "display_data"
    }
   ],
   "source": [
    "matplotlib.rcParams['figure.figsize'] = (10, 10)\n",
    "n, x = inthist(dr14q['N_SPEC'])\n",
    "w = n > 0\n",
    "fig = plt.figure(dpi=100)\n",
    "ax = fig.add_subplot(1, 1, 1)\n",
    "b = ax.bar(x[w], n[w], align='center', width=0.5, color='k')\n",
    "foo = ax.set_yscale('log')\n",
    "foo = ax.set_xlim(dr14q['N_SPEC'].min()-1, dr14q['N_SPEC'].max()+1)\n",
    "# foo = ax.set_ylim(0, np.ceil(np.log10(max(n))))\n",
    "foo = ax.set_title('Number of DR14Q Duplicates [{0}]'.format(qso_version))\n",
    "foo = ax.set_xlabel('Number of Duplicates [N_SPEC]')\n",
    "foo = ax.set_ylabel('N')"
   ]
  },
  {
   "cell_type": "code",
   "execution_count": 19,
   "metadata": {},
   "outputs": [
    {
     "data": {
      "text/plain": [
       "array([[   0, 6110,    0, 6879,    0, 7595],\n",
       "       [   0, 6279,    0, 6880,    0, 7663],\n",
       "       [   0,  689,    0, 4220,    0, 7855],\n",
       "       ...,\n",
       "       [   0, 5025,    0, 5026,    0, 7581],\n",
       "       [   0, 6290,    0, 6308,    0, 6588],\n",
       "       [   0, 6117,    0, 6127,    0, 7598]], dtype=int32)"
      ]
     },
     "execution_count": 19,
     "metadata": {},
     "output_type": "execute_result"
    }
   ],
   "source": [
    "w = dr14q['N_SPEC'] == 3\n",
    "dr14q['PLATE_DUPLICATE'][w, :6]"
   ]
  },
  {
   "cell_type": "code",
   "execution_count": 25,
   "metadata": {},
   "outputs": [],
   "source": [
    "m = re.match(r'v(\\d+)_(\\d+)_(\\d+)', boss_run2d)\n",
    "N, M, P = m.groups()\n",
    "br = (int(N) - 5)*10000 + int(M) * 100 + int(P)\n",
    "with open('dr14q_duplicates.csv', 'w', newline='') as csvfile:\n",
    "    dw = csv.writer(csvfile)\n",
    "    dw.writerow(['specobjid', 'dupspecobjid', 'run2d', 'plate', 'mjd', 'fiberid', 'disk_only'])\n",
    "    for k in range(len(dr14q)):\n",
    "        if dr14q[k]['N_SPEC'] > 0:\n",
    "            w = dr14q['PLATE_DUPLICATE'][k, :] > 0\n",
    "            Nd = w.sum()\n",
    "            irun2d = np.zeros((Nd,), dtype=np.uint64)\n",
    "            plates = dr14q['PLATE_DUPLICATE'][k, w]\n",
    "            mjds = dr14q['MJD_DUPLICATE'][k, w]\n",
    "            fibers = dr14q['FIBERID_DUPLICATE'][k, w]\n",
    "            for i, p in enumerate(plates):\n",
    "                try:\n",
    "                    foo = run2d_lookup[p]\n",
    "                except KeyError:\n",
    "                    q = \"SELECT run2d FROM sdss_dr{0:d}_new.platex WHERE plate = {1:d} AND mjd = {2:d};\".format(release, p, mjds[i])\n",
    "                    try:\n",
    "                        vot = qc.query(sql=q, fmt='votable', async=False)\n",
    "                    except qc.queryClientError as e:\n",
    "                        if str(e) == 'Error: SQL query did not return any records':\n",
    "                            q = \"SELECT run2d FROM sdss_dr{0:d}_new.platex WHERE plate = {1:d};\".format(release, p)\n",
    "                            vot = qc.query(sql=q, fmt='votable', async=False)\n",
    "                        else:\n",
    "                            raise\n",
    "                    result = parse_single_table(BytesIO(vot.encode('utf-8')))\n",
    "                    foo = run2d_lookup[p] = result.array['run2d'][0]\n",
    "                if foo == boss_run2d.encode('utf-8'):\n",
    "                    irun2d[i] = br\n",
    "                else:\n",
    "                    irun2d[i] = int(foo)\n",
    "            dupspecobjid = sdss_specobjid(plates.astype(np.uint64),\n",
    "                                          fibers.astype(np.uint64),\n",
    "                                          mjds.astype(np.uint64) - 50000,\n",
    "                                          irun2d)\n",
    "            for l in range(Nd):\n",
    "                dw.writerow([specobjid[k].astype(np.int64),\n",
    "                             dupspecobjid[l].astype(np.int64),\n",
    "                             run2d_lookup[plates[l]].decode('utf-8'),\n",
    "                             plates[l],\n",
    "                             mjds[l],\n",
    "                             fibers[l],\n",
    "                             'FALSE'])"
   ]
  },
  {
   "cell_type": "code",
   "execution_count": 21,
   "metadata": {},
   "outputs": [],
   "source": [
    "galex_matched = np.zeros(specobjid.shape, dtype=np.int16)\n",
    "ukidss_matched = np.zeros(specobjid.shape, dtype=np.int16)\n",
    "w = np.isfinite(dr14q['GALEX_MATCHED'])\n",
    "galex_matched[w] = dr14q['GALEX_MATCHED'][w].astype(np.int16)\n",
    "w = np.isfinite(dr14q['UKIDSS_MATCHED'])\n",
    "ukidss_matched[w] = dr14q['UKIDSS_MATCHED'][w].astype(np.int16)"
   ]
  },
  {
   "cell_type": "code",
   "execution_count": 29,
   "metadata": {},
   "outputs": [],
   "source": [
    "t = Table(dr14q)\n",
    "for c in dr14q.columns.names:\n",
    "    if dr14q[c].dtype.type is np.float64 and c != 'RA' and c != 'DEC':\n",
    "        t[c] = dr14q[c].astype(np.float32)\n",
    "t['GALEX_MATCHED'] = galex_matched\n",
    "t['UKIDSS_MATCHED'] = ukidss_matched\n",
    "t.remove_columns(['PLATE_DUPLICATE', 'MJD_DUPLICATE', 'FIBERID_DUPLICATE', 'SPECTRO_DUPLICATE',\n",
    "                  'RUN_NUMBER', 'RERUN_NUMBER', 'COL_NUMBER', 'FIELD_NUMBER', 'OBJ_ID'])\n",
    "t.add_column(Column(name='SPECOBJID', data=specobjid.astype(np.character)), index=0)\n",
    "t.add_column(Column(name='RUN2D', data=run2d), index=5)\n",
    "t.add_column(Column(name='DISK_ONLY', data=np.zeros((len(dr14q),), dtype=np.bool)))"
   ]
  },
  {
   "cell_type": "code",
   "execution_count": 30,
   "metadata": {},
   "outputs": [
    {
     "data": {
      "text/html": [
       "<i>Table length=526356</i>\n",
       "<table id=\"table140447508561312\" class=\"table-striped table-bordered table-condensed\">\n",
       "<thead><tr><th>SPECOBJID</th><th>SDSS_NAME</th><th>RA</th><th>DEC</th><th>THING_ID</th><th>RUN2D</th><th>PLATE</th><th>MJD</th><th>FIBERID</th><th>SPECTRO</th><th>Z</th><th>Z_ERR</th><th>SOURCE_Z</th><th>Z_VI</th><th>Z_PIPE</th><th>Z_PIPE_ERR</th><th>ZWARNING</th><th>Z_PCA</th><th>Z_PCA_ER</th><th>Z_MGII</th><th>BOSS_TARGET1</th><th>ANCILLARY_TARGET1</th><th>ANCILLARY_TARGET2</th><th>EBOSS_TARGET0</th><th>EBOSS_TARGET1</th><th>EBOSS_TARGET2</th><th>N_SPEC_SDSS</th><th>N_SPEC_BOSS</th><th>N_SPEC</th><th>BI_CIV</th><th>ERR_BI_CIV</th><th>PSFFLUX [5]</th><th>IVAR_PSFFLUX [5]</th><th>PSFMAG [5]</th><th>ERR_PSFMAG [5]</th><th>MI</th><th>GAL_EXT [5]</th><th>RASS_COUNTS</th><th>RASS_COUNTS_SNR</th><th>SDSS2ROSAT_SEP</th><th>FLUX_0.2_2.0keV</th><th>FLUX_0.2_2.0keV_ERR</th><th>FLUX_2.0_12.0keV</th><th>FLUX_2.0_12.0keV_ERR</th><th>FLUX_0.2_12.0keV</th><th>FLUX_0.2_12.0keV_ERR</th><th>LUM_0.2_12.0keV</th><th>SDSS2XMM_SEP</th><th>GALEX_MATCHED</th><th>FUV</th><th>FUV_IVAR</th><th>NUV</th><th>NUV_IVAR</th><th>JMAG</th><th>ERR_JMAG</th><th>JSNR</th><th>JRDFLAG</th><th>HMAG</th><th>ERR_HMAG</th><th>HSNR</th><th>HRDFLAG</th><th>KMAG</th><th>ERR_KMAG</th><th>KSNR</th><th>KRDFLAG</th><th>SDSS2MASS_SEP</th><th>W1MAG</th><th>ERR_W1MAG</th><th>W1SNR</th><th>W1CHI2</th><th>W2MAG</th><th>ERR_W2MAG</th><th>W2SNR</th><th>W2CHI2</th><th>W3MAG</th><th>ERR_W3MAG</th><th>W3SNR</th><th>W3CHI2</th><th>W4MAG</th><th>ERR_W4MAG</th><th>W4SNR</th><th>W4CHI2</th><th>CC_FLAGS</th><th>PH_FLAGS</th><th>SDSS2WISE_SEP</th><th>UKIDSS_MATCHED</th><th>YFLUX</th><th>YFLUX_ERR</th><th>JFLUX</th><th>JFLUX_ERR</th><th>HFLUX</th><th>HFLUX_ERR</th><th>KFLUX</th><th>KFLUX_ERR</th><th>FIRST_MATCHED</th><th>FIRST_FLUX</th><th>FIRST_SNR</th><th>SDSS2FIRST_SEP</th><th>DISK_ONLY</th></tr></thead>\n",
       "<thead><tr><th>bytes20</th><th>str18</th><th>float64</th><th>float64</th><th>int32</th><th>bytes7</th><th>int16</th><th>int32</th><th>int16</th><th>str4</th><th>float32</th><th>float32</th><th>str4</th><th>float32</th><th>float32</th><th>float32</th><th>int16</th><th>float32</th><th>float32</th><th>float32</th><th>int64</th><th>int64</th><th>int64</th><th>int64</th><th>int64</th><th>int64</th><th>int16</th><th>int16</th><th>int16</th><th>float32</th><th>float32</th><th>float32</th><th>float32</th><th>float32</th><th>float32</th><th>float32</th><th>float32</th><th>float32</th><th>float32</th><th>float32</th><th>float32</th><th>float32</th><th>float32</th><th>float32</th><th>float32</th><th>float32</th><th>float32</th><th>float32</th><th>int16</th><th>float32</th><th>float32</th><th>float32</th><th>float32</th><th>float32</th><th>float32</th><th>float32</th><th>int16</th><th>float32</th><th>float32</th><th>float32</th><th>int16</th><th>float32</th><th>float32</th><th>float32</th><th>int16</th><th>float32</th><th>float32</th><th>float32</th><th>float32</th><th>float32</th><th>float32</th><th>float32</th><th>float32</th><th>float32</th><th>float32</th><th>float32</th><th>float32</th><th>float32</th><th>float32</th><th>float32</th><th>float32</th><th>float32</th><th>str4</th><th>str4</th><th>float32</th><th>int16</th><th>float32</th><th>float32</th><th>float32</th><th>float32</th><th>float32</th><th>float32</th><th>float32</th><th>float32</th><th>int16</th><th>float32</th><th>float32</th><th>float32</th><th>bool</th></tr></thead>\n",
       "<tr><td>8552380339116285952</td><td>000000.45+174625.4</td><td>0.001898274356335605</td><td>17.773739123771385</td><td>268270422</td><td>v5_10_0</td><td>7596</td><td>56945</td><td>162</td><td>BOSS</td><td>2.309</td><td>0.0</td><td>VI</td><td>2.309</td><td>2.3077507</td><td>0.0010300045</td><td>0</td><td>2.3045657</td><td>-1.0</td><td>-1.0</td><td>0</td><td>0</td><td>0</td><td>0</td><td>4096</td><td>0</td><td>0</td><td>1</td><td>1</td><td>0.0</td><td>0.0</td><td>1.0379367 .. 2.6311364</td><td>12.372533 .. 0.87061435</td><td>22.440338 .. 21.372461</td><td>0.2871244 .. 0.38545534</td><td>-24.410782</td><td>0.120217286 .. 0.035818458</td><td>0.0</td><td>0.0</td><td>-1.0</td><td>nan</td><td>nan</td><td>nan</td><td>nan</td><td>nan</td><td>nan</td><td>nan</td><td>nan</td><td>1</td><td>0.30231887</td><td>8.785573</td><td>0.7275649</td><td>4.5373588</td><td>nan</td><td>nan</td><td>nan</td><td>-1</td><td>nan</td><td>nan</td><td>nan</td><td>-1</td><td>nan</td><td>nan</td><td>nan</td><td>-1</td><td>nan</td><td>nan</td><td>nan</td><td>nan</td><td>nan</td><td>nan</td><td>nan</td><td>nan</td><td>nan</td><td>nan</td><td>nan</td><td>nan</td><td>nan</td><td>nan</td><td>nan</td><td>nan</td><td>nan</td><td></td><td></td><td>nan</td><td>0</td><td>0.0</td><td>0.0</td><td>0.0</td><td>0.0</td><td>0.0</td><td>0.0</td><td>0.0</td><td>0.0</td><td>-1</td><td>-1.0</td><td>-1.0</td><td>-1.0</td><td>False</td></tr>\n",
       "<tr><td>9840556074670727168</td><td>000000.57+055630.8</td><td>0.0023754761888312714</td><td>5.941903005523435</td><td>163544156</td><td>v5_10_0</td><td>8740</td><td>57367</td><td>694</td><td>BOSS</td><td>2.1031203</td><td>0.0</td><td>AUTO</td><td>-1.0</td><td>2.1031203</td><td>0.00092415774</td><td>0</td><td>2.0996385</td><td>2.098349</td><td>2.098349</td><td>0</td><td>0</td><td>0</td><td>0</td><td>2048</td><td>0</td><td>0</td><td>0</td><td>0</td><td>0.0</td><td>0.0</td><td>1.1197296 .. 4.7301016</td><td>9.196866 .. 0.819231</td><td>22.360628 .. 20.787176</td><td>0.31018484 .. 0.24203004</td><td>-24.732</td><td>0.2338264 .. 0.069668025</td><td>0.0</td><td>0.0</td><td>-1.0</td><td>nan</td><td>nan</td><td>nan</td><td>nan</td><td>nan</td><td>nan</td><td>nan</td><td>nan</td><td>1</td><td>0.0</td><td>0.0</td><td>0.0</td><td>0.0</td><td>nan</td><td>nan</td><td>nan</td><td>-1</td><td>nan</td><td>nan</td><td>nan</td><td>-1</td><td>nan</td><td>nan</td><td>nan</td><td>-1</td><td>nan</td><td>16.969</td><td>0.127</td><td>8.5</td><td>0.9904</td><td>16.888</td><td>0.409</td><td>2.7</td><td>1.004</td><td>11.861</td><td>nan</td><td>1.4</td><td>0.9819</td><td>8.604</td><td>0.127</td><td>0.7</td><td>0.9478</td><td>hH00</td><td>BCUU</td><td>0.706171</td><td>1</td><td>1.2885137e-31</td><td>2.4790985e-32</td><td>1.2298891e-31</td><td>4.5045423e-32</td><td>1.4964246e-31</td><td>4.7290496e-32</td><td>2.459819e-31</td><td>5.689572e-32</td><td>0</td><td>-1.0</td><td>-1.0</td><td>-1.0</td><td>False</td></tr>\n",
       "<tr><td>6954847382082134016</td><td>000000.66+145828.8</td><td>0.002756432550313548</td><td>14.974675485824303</td><td>244864389</td><td>v5_10_0</td><td>6177</td><td>56268</td><td>595</td><td>BOSS</td><td>2.497</td><td>0.0</td><td>VI</td><td>2.497</td><td>2.497962</td><td>0.0008690898</td><td>0</td><td>2.5099661</td><td>-1.0</td><td>-1.0</td><td>2199023255552</td><td>0</td><td>0</td><td>0</td><td>0</td><td>0</td><td>0</td><td>1</td><td>1</td><td>0.0</td><td>0.0</td><td>1.6601844 .. 5.3485007</td><td>15.4859495 .. 0.8617994</td><td>21.941969 .. 20.659208</td><td>0.16387343 .. 0.2107502</td><td>-25.664871</td><td>0.163415 .. 0.048689112</td><td>0.0</td><td>0.0</td><td>-1.0</td><td>nan</td><td>nan</td><td>nan</td><td>nan</td><td>nan</td><td>nan</td><td>nan</td><td>nan</td><td>1</td><td>0.046318613</td><td>701.1043</td><td>0.052529763</td><td>384.75098</td><td>nan</td><td>nan</td><td>nan</td><td>-1</td><td>nan</td><td>nan</td><td>nan</td><td>-1</td><td>nan</td><td>nan</td><td>nan</td><td>-1</td><td>nan</td><td>17.5</td><td>0.185</td><td>5.9</td><td>0.9299</td><td>16.206</td><td>0.211</td><td>5.2</td><td>0.8249</td><td>12.321</td><td>nan</td><td>0.3</td><td>1.149</td><td>8.51</td><td>0.185</td><td>0.7</td><td>1.036</td><td>0000</td><td>BBUU</td><td>0.495515</td><td>1</td><td>1.860383e-31</td><td>3.1476844e-32</td><td>2.3109478e-31</td><td>4.5653324e-32</td><td>2.3553143e-31</td><td>5.9704804e-32</td><td>2.4271492e-31</td><td>6.5217244e-32</td><td>0</td><td>-1.0</td><td>-1.0</td><td>-1.0</td><td>False</td></tr>\n",
       "<tr><td>4970975729887977472</td><td>000000.97+044947.2</td><td>0.004052389452795069</td><td>4.829780562529699</td><td>154078229</td><td>v5_10_0</td><td>4415</td><td>55831</td><td>464</td><td>BOSS</td><td>1.619</td><td>0.0</td><td>VI</td><td>1.619</td><td>1.6172042</td><td>0.00048571048</td><td>0</td><td>1.6273098</td><td>1.6304535</td><td>1.6304535</td><td>2199023910912</td><td>0</td><td>0</td><td>0</td><td>0</td><td>0</td><td>0</td><td>0</td><td>0</td><td>0.0</td><td>0.0</td><td>6.68976 .. 19.600666</td><td>7.062735 .. 0.5412449</td><td>20.435999 .. 19.267778</td><td>0.061016493 .. 0.07507961</td><td>-25.806284</td><td>0.13920745 .. 0.041476533</td><td>0.0</td><td>0.0</td><td>-1.0</td><td>nan</td><td>nan</td><td>nan</td><td>nan</td><td>nan</td><td>nan</td><td>nan</td><td>nan</td><td>1</td><td>0.34930804</td><td>22.587234</td><td>1.5732929</td><td>13.871135</td><td>nan</td><td>nan</td><td>nan</td><td>-1</td><td>nan</td><td>nan</td><td>nan</td><td>-1</td><td>nan</td><td>nan</td><td>nan</td><td>-1</td><td>nan</td><td>15.503</td><td>0.044</td><td>24.5</td><td>0.9052</td><td>13.987</td><td>0.044</td><td>24.5</td><td>0.913</td><td>10.764</td><td>0.112</td><td>9.7</td><td>0.9418</td><td>8.056</td><td>0.044</td><td>5.3</td><td>1.052</td><td>0000</td><td>AABB</td><td>0.26852</td><td>1</td><td>5.525437e-31</td><td>3.5955865e-32</td><td>6.5974997e-31</td><td>4.1546517e-32</td><td>9.03816e-31</td><td>4.4203325e-32</td><td>8.567425e-31</td><td>5.1787685e-32</td><td>0</td><td>-1.0</td><td>-1.0</td><td>-1.0</td><td>False</td></tr>\n",
       "<tr><td>8631182069211308032</td><td>000001.20+240354.5</td><td>0.005025713552072375</td><td>24.06516252954585</td><td>319918739</td><td>v5_10_0</td><td>7666</td><td>57339</td><td>121</td><td>BOSS</td><td>1.6162103</td><td>0.0</td><td>AUTO</td><td>-1.0</td><td>1.6162103</td><td>0.00072677445</td><td>0</td><td>1.6146076</td><td>1.616566</td><td>1.616566</td><td>0</td><td>0</td><td>0</td><td>0</td><td>1024</td><td>0</td><td>0</td><td>0</td><td>0</td><td>0.0</td><td>0.0</td><td>1.6189977 .. 9.254697</td><td>20.380209 .. 1.2987149</td><td>21.968855 .. 20.077219</td><td>0.1463774 .. 0.10165335</td><td>-24.794746</td><td>0.4501842 .. 0.13413131</td><td>0.0</td><td>0.0</td><td>-1.0</td><td>nan</td><td>nan</td><td>nan</td><td>nan</td><td>nan</td><td>nan</td><td>nan</td><td>nan</td><td>1</td><td>-0.11732664</td><td>56.64157</td><td>-0.021669753</td><td>82.536545</td><td>nan</td><td>nan</td><td>nan</td><td>-1</td><td>nan</td><td>nan</td><td>nan</td><td>-1</td><td>nan</td><td>nan</td><td>nan</td><td>-1</td><td>nan</td><td>16.366</td><td>0.072</td><td>15.0</td><td>1.052</td><td>15.447</td><td>0.11</td><td>9.9</td><td>0.9336</td><td>12.434</td><td>nan</td><td>0.2</td><td>0.9305</td><td>8.398</td><td>0.072</td><td>0.8</td><td>0.9579</td><td>0000</td><td>ABUU</td><td>0.110225</td><td>0</td><td>0.0</td><td>0.0</td><td>0.0</td><td>0.0</td><td>0.0</td><td>0.0</td><td>0.0</td><td>0.0</td><td>-1</td><td>-1.0</td><td>-1.0</td><td>-1.0</td><td>False</td></tr>\n",
       "<tr><td>4902354659090341888</td><td>000001.27-020159.7</td><td>0.005316971570891838</td><td>-2.033273291001564</td><td>62120483</td><td>v5_10_0</td><td>4354</td><td>55810</td><td>678</td><td>BOSS</td><td>1.36</td><td>0.0</td><td>VI</td><td>1.36</td><td>1.3604757</td><td>0.00045076222</td><td>0</td><td>1.3619123</td><td>1.3622836</td><td>1.3622836</td><td>262144</td><td>0</td><td>0</td><td>0</td><td>0</td><td>0</td><td>0</td><td>0</td><td>0</td><td>0.0</td><td>0.0</td><td>5.798261 .. 28.749859</td><td>10.572218 .. 1.0262092</td><td>20.591124 .. 18.852692</td><td>0.057522494 .. 0.03723025</td><td>-25.890327</td><td>0.16197565 .. 0.04826026</td><td>0.0</td><td>0.0</td><td>-1.0</td><td>nan</td><td>nan</td><td>nan</td><td>nan</td><td>nan</td><td>nan</td><td>nan</td><td>nan</td><td>1</td><td>0.0</td><td>0.0</td><td>0.0</td><td>0.0</td><td>nan</td><td>nan</td><td>nan</td><td>-1</td><td>nan</td><td>nan</td><td>nan</td><td>-1</td><td>nan</td><td>nan</td><td>nan</td><td>-1</td><td>nan</td><td>14.888</td><td>0.034</td><td>32.0</td><td>1.105</td><td>13.519</td><td>0.035</td><td>31.3</td><td>0.9211</td><td>10.444</td><td>0.088</td><td>12.3</td><td>0.9571</td><td>8.145</td><td>0.034</td><td>4.2</td><td>1.038</td><td>0000</td><td>AAAB</td><td>0.092102</td><td>0</td><td>0.0</td><td>0.0</td><td>0.0</td><td>0.0</td><td>0.0</td><td>0.0</td><td>0.0</td><td>0.0</td><td>1</td><td>1.26</td><td>7.048389</td><td>0.57105</td><td>False</td></tr>\n",
       "<tr><td>4902345862997319680</td><td>000001.37-011930.0</td><td>0.005746209112004408</td><td>-1.3250088011125059</td><td>66666942</td><td>v5_10_0</td><td>4354</td><td>55810</td><td>646</td><td>BOSS</td><td>2.328</td><td>0.0</td><td>VI</td><td>2.328</td><td>2.3331647</td><td>0.00019575744</td><td>0</td><td>2.3350306</td><td>2.3483453</td><td>2.3483453</td><td>16492675088384</td><td>0</td><td>0</td><td>0</td><td>0</td><td>0</td><td>0</td><td>0</td><td>0</td><td>0.0</td><td>0.0</td><td>5.2984285 .. 10.920283</td><td>7.551824 .. 0.9089431</td><td>20.688875 .. 19.899464</td><td>0.07446389 .. 0.103340305</td><td>-26.184576</td><td>0.18644057 .. 0.05554953</td><td>0.0</td><td>0.0</td><td>-1.0</td><td>nan</td><td>nan</td><td>nan</td><td>nan</td><td>nan</td><td>nan</td><td>nan</td><td>nan</td><td>1</td><td>0.09291329</td><td>44.988087</td><td>0.22756948</td><td>2.5174224</td><td>nan</td><td>nan</td><td>nan</td><td>-1</td><td>nan</td><td>nan</td><td>nan</td><td>-1</td><td>nan</td><td>nan</td><td>nan</td><td>-1</td><td>nan</td><td>16.72</td><td>0.103</td><td>10.6</td><td>1.038</td><td>15.929</td><td>0.167</td><td>6.5</td><td>0.9004</td><td>11.903</td><td>0.285</td><td>3.8</td><td>0.9703</td><td>8.981</td><td>0.103</td><td>-0.8</td><td>0.8492</td><td>0000</td><td>ABBU</td><td>0.450972</td><td>0</td><td>0.0</td><td>0.0</td><td>0.0</td><td>0.0</td><td>0.0</td><td>0.0</td><td>0.0</td><td>0.0</td><td>0</td><td>-1.0</td><td>-1.0</td><td>-1.0</td><td>False</td></tr>\n",
       "<tr><td>6879272175653593088</td><td>000001.41+200044.1</td><td>0.005912092570781624</td><td>20.012258452497786</td><td>287103247</td><td>v5_10_0</td><td>6110</td><td>56279</td><td>86</td><td>BOSS</td><td>3.09</td><td>0.0</td><td>VI</td><td>3.09</td><td>3.0878975</td><td>-1.0</td><td>0</td><td>3.0928133</td><td>-1.0</td><td>-1.0</td><td>3298534883328</td><td>0</td><td>1024</td><td>0</td><td>0</td><td>0</td><td>0</td><td>2</td><td>2</td><td>2867.2402</td><td>170.6342</td><td>-0.42654622 .. 8.79304</td><td>3.9442842 .. 0.4377563</td><td>25.945883 .. 20.132044</td><td>1.0714413 .. 0.18403602</td><td>-26.499355</td><td>0.22385553 .. 0.066697225</td><td>0.0</td><td>0.0</td><td>-1.0</td><td>nan</td><td>nan</td><td>nan</td><td>nan</td><td>nan</td><td>nan</td><td>nan</td><td>nan</td><td>1</td><td>-0.36382088</td><td>0.73965377</td><td>-0.16924284</td><td>30.937609</td><td>nan</td><td>nan</td><td>nan</td><td>-1</td><td>nan</td><td>nan</td><td>nan</td><td>-1</td><td>nan</td><td>nan</td><td>nan</td><td>-1</td><td>nan</td><td>16.968</td><td>0.119</td><td>9.1</td><td>1.077</td><td>16.035</td><td>0.189</td><td>5.7</td><td>0.9322</td><td>12.16</td><td>0.35</td><td>3.1</td><td>0.9644</td><td>9.056</td><td>0.119</td><td>-0.3</td><td>1.072</td><td>0000</td><td>BBBU</td><td>1.256771</td><td>0</td><td>0.0</td><td>0.0</td><td>0.0</td><td>0.0</td><td>0.0</td><td>0.0</td><td>0.0</td><td>0.0</td><td>-1</td><td>-1.0</td><td>-1.0</td><td>-1.0</td><td>False</td></tr>\n",
       "<tr><td>8551284950858440704</td><td>000001.47+211636.1</td><td>0.006143972596646563</td><td>21.276711551497108</td><td>297314485</td><td>v5_10_0</td><td>7595</td><td>56957</td><td>273</td><td>BOSS</td><td>0.93537974</td><td>0.0</td><td>AUTO</td><td>-1.0</td><td>0.93537974</td><td>0.00033846617</td><td>0</td><td>0.93427956</td><td>0.9352306</td><td>0.9352306</td><td>0</td><td>0</td><td>0</td><td>0</td><td>1024</td><td>0</td><td>0</td><td>0</td><td>0</td><td>0.0</td><td>0.0</td><td>3.6653163 .. 5.5312595</td><td>10.382401 .. 0.8739064</td><td>21.08814 .. 20.624008</td><td>0.091664344 .. 0.2028396</td><td>-23.688278</td><td>0.22206207 .. 0.06616287</td><td>0.0</td><td>0.0</td><td>-1.0</td><td>nan</td><td>nan</td><td>nan</td><td>nan</td><td>nan</td><td>nan</td><td>nan</td><td>nan</td><td>1</td><td>0.48895824</td><td>136.74002</td><td>1.7640798</td><td>8.704237</td><td>nan</td><td>nan</td><td>nan</td><td>-1</td><td>nan</td><td>nan</td><td>nan</td><td>-1</td><td>nan</td><td>nan</td><td>nan</td><td>-1</td><td>nan</td><td>15.774</td><td>0.051</td><td>21.4</td><td>0.9575</td><td>14.99</td><td>0.081</td><td>13.4</td><td>0.8639</td><td>11.996</td><td>nan</td><td>1.3</td><td>0.8961</td><td>8.546</td><td>0.051</td><td>0.9</td><td>0.9274</td><td>0000</td><td>AAUU</td><td>0.146134</td><td>0</td><td>0.0</td><td>0.0</td><td>0.0</td><td>0.0</td><td>0.0</td><td>0.0</td><td>0.0</td><td>0.0</td><td>-1</td><td>-1.0</td><td>-1.0</td><td>-1.0</td><td>False</td></tr>\n",
       "<tr><td>8838509823609774080</td><td>000001.55-003332.6</td><td>0.006463516241467461</td><td>-0.5590658703124322</td><td>85757473</td><td>v5_10_0</td><td>7850</td><td>56956</td><td>711</td><td>BOSS</td><td>2.2191412</td><td>0.0</td><td>AUTO</td><td>-1.0</td><td>2.2191412</td><td>0.0005558808</td><td>0</td><td>2.2100708</td><td>2.202805</td><td>2.202805</td><td>0</td><td>0</td><td>0</td><td>0</td><td>512</td><td>0</td><td>0</td><td>0</td><td>0</td><td>0.0</td><td>0.0</td><td>0.5731577 .. 0.31246975</td><td>19.320547 .. 1.8382969</td><td>23.044668 .. 22.599361</td><td>0.3872269 .. 0.52940124</td><td>-24.156404</td><td>0.17560592 .. 0.05232137</td><td>0.0</td><td>0.0</td><td>-1.0</td><td>nan</td><td>nan</td><td>nan</td><td>nan</td><td>nan</td><td>nan</td><td>nan</td><td>nan</td><td>1</td><td>0.102101326</td><td>53.646217</td><td>0.038324025</td><td>346.40945</td><td>nan</td><td>nan</td><td>nan</td><td>-1</td><td>nan</td><td>nan</td><td>nan</td><td>-1</td><td>nan</td><td>nan</td><td>nan</td><td>-1</td><td>nan</td><td>nan</td><td>nan</td><td>nan</td><td>nan</td><td>nan</td><td>nan</td><td>nan</td><td>nan</td><td>nan</td><td>nan</td><td>nan</td><td>nan</td><td>nan</td><td>nan</td><td>nan</td><td>nan</td><td></td><td></td><td>nan</td><td>0</td><td>0.0</td><td>0.0</td><td>0.0</td><td>0.0</td><td>0.0</td><td>0.0</td><td>0.0</td><td>0.0</td><td>0</td><td>-1.0</td><td>-1.0</td><td>-1.0</td><td>False</td></tr>\n",
       "<tr><td>...</td><td>...</td><td>...</td><td>...</td><td>...</td><td>...</td><td>...</td><td>...</td><td>...</td><td>...</td><td>...</td><td>...</td><td>...</td><td>...</td><td>...</td><td>...</td><td>...</td><td>...</td><td>...</td><td>...</td><td>...</td><td>...</td><td>...</td><td>...</td><td>...</td><td>...</td><td>...</td><td>...</td><td>...</td><td>...</td><td>...</td><td>...</td><td>...</td><td>...</td><td>...</td><td>...</td><td>...</td><td>...</td><td>...</td><td>...</td><td>...</td><td>...</td><td>...</td><td>...</td><td>...</td><td>...</td><td>...</td><td>...</td><td>...</td><td>...</td><td>...</td><td>...</td><td>...</td><td>...</td><td>...</td><td>...</td><td>...</td><td>...</td><td>...</td><td>...</td><td>...</td><td>...</td><td>...</td><td>...</td><td>...</td><td>...</td><td>...</td><td>...</td><td>...</td><td>...</td><td>...</td><td>...</td><td>...</td><td>...</td><td>...</td><td>...</td><td>...</td><td>...</td><td>...</td><td>...</td><td>...</td><td>...</td><td>...</td><td>...</td><td>...</td><td>...</td><td>...</td><td>...</td><td>...</td><td>...</td><td>...</td><td>...</td><td>...</td><td>...</td><td>...</td><td>...</td><td>...</td><td>...</td><td>...</td></tr>\n",
       "<tr><td>8836077429061558272</td><td>235959.64-003921.1</td><td>359.99851995615614</td><td>-0.6558843724431632</td><td>77676700</td><td>v5_10_0</td><td>7848</td><td>56959</td><td>54</td><td>BOSS</td><td>1.3557843</td><td>0.0</td><td>AUTO</td><td>-1.0</td><td>1.3557843</td><td>0.00059379905</td><td>0</td><td>1.3555156</td><td>1.3519648</td><td>1.3519648</td><td>0</td><td>0</td><td>0</td><td>0</td><td>1024</td><td>0</td><td>0</td><td>0</td><td>0</td><td>0.0</td><td>0.0</td><td>1.4755491 .. 1.9537091</td><td>21.705854 .. 2.1950312</td><td>22.06797 .. 21.642782</td><td>0.1551674 .. 0.2989933</td><td>-23.167988</td><td>0.17244026 .. 0.051378172</td><td>0.0</td><td>0.0</td><td>-1.0</td><td>nan</td><td>nan</td><td>nan</td><td>nan</td><td>nan</td><td>nan</td><td>nan</td><td>nan</td><td>1</td><td>0.049131397</td><td>10.188203</td><td>0.2577308</td><td>0.41426402</td><td>nan</td><td>nan</td><td>nan</td><td>-1</td><td>nan</td><td>nan</td><td>nan</td><td>-1</td><td>nan</td><td>nan</td><td>nan</td><td>-1</td><td>nan</td><td>17.231</td><td>0.144</td><td>7.5</td><td>0.9948</td><td>16.296</td><td>0.239</td><td>4.5</td><td>0.8662</td><td>12.146</td><td>nan</td><td>1.1</td><td>0.8793</td><td>9.067</td><td>0.144</td><td>2.0</td><td>1.027</td><td>0000</td><td>BBUC</td><td>0.944667</td><td>1</td><td>1.2221516e-31</td><td>2.8713072e-32</td><td>2.0185505e-32</td><td>4.1694488e-32</td><td>5.063872e-32</td><td>5.165121e-32</td><td>9.986765e-32</td><td>5.93252e-32</td><td>0</td><td>-1.0</td><td>-1.0</td><td>-1.0</td><td>False</td></tr>\n",
       "<tr><td>6926539628846489600</td><td>235959.70+084505.2</td><td>359.99877436139883</td><td>8.751452235361512</td><td>190787316</td><td>v5_10_0</td><td>6152</td><td>56164</td><td>12</td><td>BOSS</td><td>2.205</td><td>0.0</td><td>VI</td><td>2.205</td><td>2.186159</td><td>0.0005236855</td><td>0</td><td>2.2050369</td><td>2.2072399</td><td>2.2072399</td><td>2199023779840</td><td>0</td><td>0</td><td>0</td><td>0</td><td>0</td><td>0</td><td>0</td><td>0</td><td>0.0</td><td>0.0</td><td>10.209931 .. 33.291416</td><td>1.9940566 .. 0.5809569</td><td>19.97724 .. 18.693634</td><td>0.075278245 .. 0.042745594</td><td>-27.20527</td><td>0.26004803 .. 0.077480696</td><td>0.0</td><td>0.0</td><td>-1.0</td><td>nan</td><td>nan</td><td>nan</td><td>nan</td><td>nan</td><td>nan</td><td>nan</td><td>nan</td><td>1</td><td>-0.012690876</td><td>4.967534</td><td>0.45588532</td><td>25.000072</td><td>nan</td><td>nan</td><td>nan</td><td>-1</td><td>nan</td><td>nan</td><td>nan</td><td>-1</td><td>nan</td><td>nan</td><td>nan</td><td>-1</td><td>nan</td><td>15.836</td><td>0.051</td><td>21.4</td><td>0.9278</td><td>14.646</td><td>0.06</td><td>18.0</td><td>0.9767</td><td>11.143</td><td>0.171</td><td>6.4</td><td>0.9539</td><td>9.072</td><td>0.051</td><td>2.0</td><td>0.9777</td><td>0000</td><td>AABC</td><td>0.344997</td><td>0</td><td>0.0</td><td>0.0</td><td>0.0</td><td>0.0</td><td>0.0</td><td>0.0</td><td>0.0</td><td>0.0</td><td>0</td><td>-1.0</td><td>-1.0</td><td>-1.0</td><td>False</td></tr>\n",
       "<tr><td>8631380805938028544</td><td>235959.71+255838.4</td><td>359.99883155522065</td><td>25.977356307449146</td><td>336778739</td><td>v5_10_0</td><td>7666</td><td>57339</td><td>844</td><td>BOSS</td><td>3.3075194</td><td>0.0</td><td>AUTO</td><td>-1.0</td><td>3.3075194</td><td>0.002343667</td><td>0</td><td>3.158866</td><td>-1.0</td><td>-1.0</td><td>0</td><td>0</td><td>0</td><td>0</td><td>1024</td><td>0</td><td>0</td><td>0</td><td>0</td><td>0.0</td><td>0.0</td><td>0.42878428 .. 2.2631524</td><td>29.013948 .. 2.1130934</td><td>23.318724 .. 21.51228</td><td>0.39360282 .. 0.27620986</td><td>-24.760565</td><td>0.1748707 .. 0.052102312</td><td>0.0</td><td>0.0</td><td>-1.0</td><td>nan</td><td>nan</td><td>nan</td><td>nan</td><td>nan</td><td>nan</td><td>nan</td><td>nan</td><td>1</td><td>-0.1665298</td><td>66.92186</td><td>0.1432431</td><td>0.46326286</td><td>nan</td><td>nan</td><td>nan</td><td>-1</td><td>nan</td><td>nan</td><td>nan</td><td>-1</td><td>nan</td><td>nan</td><td>nan</td><td>-1</td><td>nan</td><td>nan</td><td>nan</td><td>nan</td><td>nan</td><td>nan</td><td>nan</td><td>nan</td><td>nan</td><td>nan</td><td>nan</td><td>nan</td><td>nan</td><td>nan</td><td>nan</td><td>nan</td><td>nan</td><td></td><td></td><td>nan</td><td>0</td><td>0.0</td><td>0.0</td><td>0.0</td><td>0.0</td><td>0.0</td><td>0.0</td><td>0.0</td><td>0.0</td><td>-1</td><td>-1.0</td><td>-1.0</td><td>-1.0</td><td>False</td></tr>\n",
       "<tr><td>6960417781557731328</td><td>235959.74+100700.4</td><td>359.99892231843813</td><td>10.116800342372995</td><td>202268211</td><td>v5_10_0</td><td>6182</td><td>56190</td><td>380</td><td>BOSS</td><td>2.415</td><td>0.0</td><td>VI</td><td>2.415</td><td>2.4158483</td><td>0.0004391265</td><td>0</td><td>2.4162045</td><td>2.394154</td><td>2.394154</td><td>2199023255552</td><td>0</td><td>0</td><td>0</td><td>0</td><td>0</td><td>0</td><td>0</td><td>0</td><td>0.0</td><td>0.0</td><td>0.137018 .. 2.373328</td><td>8.572785 .. 0.80928403</td><td>24.122576 .. 21.468784</td><td>1.1895658 .. 0.43150395</td><td>-25.087162</td><td>0.39340514 .. 0.117214136</td><td>0.0</td><td>0.0</td><td>-1.0</td><td>nan</td><td>nan</td><td>nan</td><td>nan</td><td>nan</td><td>nan</td><td>nan</td><td>nan</td><td>1</td><td>0.8168631</td><td>5.3016067</td><td>0.18351194</td><td>7.803975</td><td>nan</td><td>nan</td><td>nan</td><td>-1</td><td>nan</td><td>nan</td><td>nan</td><td>-1</td><td>nan</td><td>nan</td><td>nan</td><td>-1</td><td>nan</td><td>nan</td><td>nan</td><td>nan</td><td>nan</td><td>nan</td><td>nan</td><td>nan</td><td>nan</td><td>nan</td><td>nan</td><td>nan</td><td>nan</td><td>nan</td><td>nan</td><td>nan</td><td>nan</td><td></td><td></td><td>nan</td><td>1</td><td>1.1244377e-31</td><td>2.6793084e-32</td><td>1.411952e-31</td><td>3.7041008e-32</td><td>1.6103699e-31</td><td>5.5966755e-32</td><td>1.9354892e-31</td><td>5.1945665e-32</td><td>0</td><td>-1.0</td><td>-1.0</td><td>-1.0</td><td>False</td></tr>\n",
       "<tr><td>8631184543112470528</td><td>235959.76+242448.7</td><td>359.999027641761</td><td>24.41354843124339</td><td>323503200</td><td>v5_10_0</td><td>7666</td><td>57339</td><td>130</td><td>BOSS</td><td>1.4900647</td><td>0.0</td><td>AUTO</td><td>-1.0</td><td>1.4900647</td><td>0.0005706399</td><td>0</td><td>1.4877276</td><td>1.4901987</td><td>1.4901987</td><td>0</td><td>0</td><td>0</td><td>0</td><td>3072</td><td>0</td><td>0</td><td>0</td><td>0</td><td>0.0</td><td>0.0</td><td>2.8394406 .. 7.860564</td><td>16.299023 .. 1.5556151</td><td>21.364288 .. 20.25187</td><td>0.09425608 .. 0.108831584</td><td>-24.49392</td><td>0.43763793 .. 0.13039319</td><td>0.0</td><td>0.0</td><td>-1.0</td><td>nan</td><td>nan</td><td>nan</td><td>nan</td><td>nan</td><td>nan</td><td>nan</td><td>nan</td><td>1</td><td>-0.23186369</td><td>28.978453</td><td>0.6528386</td><td>6.003288</td><td>nan</td><td>nan</td><td>nan</td><td>-1</td><td>nan</td><td>nan</td><td>nan</td><td>-1</td><td>nan</td><td>nan</td><td>nan</td><td>-1</td><td>nan</td><td>16.863</td><td>0.105</td><td>10.4</td><td>0.8879</td><td>16.061</td><td>0.178</td><td>6.1</td><td>0.8593</td><td>12.048</td><td>nan</td><td>1.3</td><td>0.877</td><td>8.255</td><td>0.105</td><td>1.7</td><td>1.052</td><td>0000</td><td>ABUU</td><td>1.065771</td><td>0</td><td>0.0</td><td>0.0</td><td>0.0</td><td>0.0</td><td>0.0</td><td>0.0</td><td>0.0</td><td>0.0</td><td>-1</td><td>-1.0</td><td>-1.0</td><td>-1.0</td><td>False</td></tr>\n",
       "<tr><td>7330985091827474432</td><td>235959.78+285717.0</td><td>359.9991177907408</td><td>28.95473424342157</td><td>360831416</td><td>v5_10_0</td><td>6511</td><td>56540</td><td>912</td><td>BOSS</td><td>2.452</td><td>0.0</td><td>VI</td><td>2.452</td><td>2.4509876</td><td>0.0006248197</td><td>0</td><td>2.4450705</td><td>-1.0</td><td>-1.0</td><td>3298535424000</td><td>0</td><td>0</td><td>0</td><td>0</td><td>0</td><td>0</td><td>1</td><td>1</td><td>0.0</td><td>0.0</td><td>1.4106803 .. 4.7677393</td><td>29.06692 .. 2.1519709</td><td>22.115889 .. 20.778961</td><td>0.14002499 .. 0.1482576</td><td>-25.083122</td><td>0.23128444 .. 0.06891065</td><td>0.0</td><td>0.0</td><td>-1.0</td><td>nan</td><td>nan</td><td>nan</td><td>nan</td><td>nan</td><td>nan</td><td>nan</td><td>nan</td><td>1</td><td>0.012952172</td><td>9.383629</td><td>0.5922036</td><td>0.37761205</td><td>nan</td><td>nan</td><td>nan</td><td>-1</td><td>nan</td><td>nan</td><td>nan</td><td>-1</td><td>nan</td><td>nan</td><td>nan</td><td>-1</td><td>nan</td><td>17.312</td><td>0.122</td><td>8.9</td><td>0.9385</td><td>16.092</td><td>0.172</td><td>6.3</td><td>0.9008</td><td>12.012</td><td>nan</td><td>1.4</td><td>1.01</td><td>8.572</td><td>0.122</td><td>1.6</td><td>0.999</td><td>0000</td><td>BBUU</td><td>1.948948</td><td>0</td><td>0.0</td><td>0.0</td><td>0.0</td><td>0.0</td><td>0.0</td><td>0.0</td><td>0.0</td><td>0.0</td><td>-1</td><td>-1.0</td><td>-1.0</td><td>-1.0</td><td>False</td></tr>\n",
       "<tr><td>8044620915265216512</td><td>235959.83+344315.0</td><td>359.9993034693268</td><td>34.720842482815726</td><td>401165277</td><td>v5_10_0</td><td>7145</td><td>56567</td><td>240</td><td>BOSS</td><td>3.109</td><td>0.0</td><td>VI</td><td>3.109</td><td>3.1135237</td><td>0.0003932702</td><td>0</td><td>3.1030495</td><td>-1.0</td><td>-1.0</td><td>3298535424000</td><td>0</td><td>0</td><td>0</td><td>0</td><td>0</td><td>0</td><td>0</td><td>0</td><td>0.0</td><td>0.0</td><td>0.26430342 .. 15.253444</td><td>27.282412 .. 1.2617766</td><td>23.721388 .. 19.539034</td><td>0.53985405 .. 0.06307111</td><td>-27.310951</td><td>0.3354919 .. 0.099959016</td><td>0.0</td><td>0.0</td><td>-1.0</td><td>nan</td><td>nan</td><td>nan</td><td>nan</td><td>nan</td><td>nan</td><td>nan</td><td>nan</td><td>1</td><td>-0.17406197</td><td>21.936798</td><td>0.14728956</td><td>7.0398884</td><td>nan</td><td>nan</td><td>nan</td><td>-1</td><td>nan</td><td>nan</td><td>nan</td><td>-1</td><td>nan</td><td>nan</td><td>nan</td><td>-1</td><td>nan</td><td>nan</td><td>nan</td><td>nan</td><td>nan</td><td>nan</td><td>nan</td><td>nan</td><td>nan</td><td>nan</td><td>nan</td><td>nan</td><td>nan</td><td>nan</td><td>nan</td><td>nan</td><td>nan</td><td></td><td></td><td>nan</td><td>0</td><td>0.0</td><td>0.0</td><td>0.0</td><td>0.0</td><td>0.0</td><td>0.0</td><td>0.0</td><td>0.0</td><td>-1</td><td>-1.0</td><td>-1.0</td><td>-1.0</td><td>False</td></tr>\n",
       "<tr><td>9841507702370443264</td><td>235959.90+031606.9</td><td>359.9996152416898</td><td>3.2685861656570725</td><td>139887781</td><td>v5_10_0</td><td>8741</td><td>57390</td><td>60</td><td>BOSS</td><td>1.2331611</td><td>0.0</td><td>AUTO</td><td>-1.0</td><td>1.2331611</td><td>0.00017904077</td><td>0</td><td>1.233739</td><td>1.2347603</td><td>1.2347603</td><td>0</td><td>0</td><td>0</td><td>0</td><td>1024</td><td>0</td><td>0</td><td>0</td><td>0</td><td>0.0</td><td>0.0</td><td>27.749706 .. 32.96938</td><td>3.1735504 .. 0.6952154</td><td>18.891827 .. 18.704176</td><td>0.021961961 .. 0.03945633</td><td>-25.967665</td><td>0.099455886 .. 0.029632647</td><td>0.0</td><td>0.0</td><td>-1.0</td><td>nan</td><td>nan</td><td>nan</td><td>nan</td><td>nan</td><td>nan</td><td>nan</td><td>nan</td><td>1</td><td>-0.049239084</td><td>6.706261</td><td>6.4801865</td><td>2.184885</td><td>nan</td><td>nan</td><td>nan</td><td>-1</td><td>nan</td><td>nan</td><td>nan</td><td>-1</td><td>nan</td><td>nan</td><td>nan</td><td>-1</td><td>nan</td><td>nan</td><td>nan</td><td>nan</td><td>nan</td><td>nan</td><td>nan</td><td>nan</td><td>nan</td><td>nan</td><td>nan</td><td>nan</td><td>nan</td><td>nan</td><td>nan</td><td>nan</td><td>nan</td><td></td><td></td><td>nan</td><td>0</td><td>0.0</td><td>0.0</td><td>0.0</td><td>0.0</td><td>0.0</td><td>0.0</td><td>0.0</td><td>0.0</td><td>0</td><td>-1.0</td><td>-1.0</td><td>-1.0</td><td>False</td></tr>\n",
       "<tr><td>8551281102567743488</td><td>235959.94+204315.8</td><td>359.9997591000248</td><td>20.72107938656721</td><td>292309197</td><td>v5_10_0</td><td>7595</td><td>56957</td><td>259</td><td>BOSS</td><td>2.0099409</td><td>0.0</td><td>AUTO</td><td>-1.0</td><td>2.0099409</td><td>0.00053222704</td><td>0</td><td>2.0155287</td><td>2.0139256</td><td>2.0139256</td><td>0</td><td>0</td><td>0</td><td>0</td><td>1024</td><td>0</td><td>0</td><td>0</td><td>0</td><td>0.0</td><td>0.0</td><td>7.1541233 .. 11.336148</td><td>5.407713 .. 0.8053292</td><td>20.363194 .. 19.85924</td><td>0.065212175 .. 0.10582835</td><td>-25.787945</td><td>0.28588897 .. 0.08517994</td><td>0.0</td><td>0.0</td><td>-1.0</td><td>nan</td><td>nan</td><td>nan</td><td>nan</td><td>nan</td><td>nan</td><td>nan</td><td>nan</td><td>1</td><td>0.084694</td><td>30.776068</td><td>1.8014731</td><td>89.401596</td><td>nan</td><td>nan</td><td>nan</td><td>-1</td><td>nan</td><td>nan</td><td>nan</td><td>-1</td><td>nan</td><td>nan</td><td>nan</td><td>-1</td><td>nan</td><td>16.896</td><td>0.104</td><td>10.4</td><td>0.9653</td><td>15.893</td><td>0.16</td><td>6.8</td><td>1.022</td><td>12.621</td><td>nan</td><td>-2.0</td><td>0.9596</td><td>8.572</td><td>0.104</td><td>1.2</td><td>1.012</td><td>0000</td><td>ABUU</td><td>0.106632</td><td>0</td><td>0.0</td><td>0.0</td><td>0.0</td><td>0.0</td><td>0.0</td><td>0.0</td><td>0.0</td><td>0.0</td><td>-1</td><td>-1.0</td><td>-1.0</td><td>-1.0</td><td>False</td></tr>\n",
       "<tr><td>8044626962579169280</td><td>235959.98+344449.6</td><td>359.9999541295649</td><td>34.747133291446325</td><td>401165238</td><td>v5_10_0</td><td>7145</td><td>56567</td><td>262</td><td>BOSS</td><td>2.375</td><td>0.0</td><td>VI</td><td>2.375</td><td>2.397724</td><td>0.00034893505</td><td>0</td><td>2.3635013</td><td>2.3669076</td><td>2.3669076</td><td>3298535424000</td><td>0</td><td>0</td><td>0</td><td>0</td><td>0</td><td>0</td><td>0</td><td>0</td><td>199.63788</td><td>13.583471</td><td>2.0665083 .. 10.901833</td><td>20.731266 .. 1.369261</td><td>21.706959 .. 19.901283</td><td>0.11434676 .. 0.0843366</td><td>-26.091427</td><td>0.33201525 .. 0.09892316</td><td>0.0</td><td>0.0</td><td>-1.0</td><td>nan</td><td>nan</td><td>nan</td><td>nan</td><td>nan</td><td>nan</td><td>nan</td><td>nan</td><td>1</td><td>-0.35380343</td><td>2.7362933</td><td>0.35260007</td><td>0.9934354</td><td>nan</td><td>nan</td><td>nan</td><td>-1</td><td>nan</td><td>nan</td><td>nan</td><td>-1</td><td>nan</td><td>nan</td><td>nan</td><td>-1</td><td>nan</td><td>nan</td><td>nan</td><td>nan</td><td>nan</td><td>nan</td><td>nan</td><td>nan</td><td>nan</td><td>nan</td><td>nan</td><td>nan</td><td>nan</td><td>nan</td><td>nan</td><td>nan</td><td>nan</td><td></td><td></td><td>nan</td><td>0</td><td>0.0</td><td>0.0</td><td>0.0</td><td>0.0</td><td>0.0</td><td>0.0</td><td>0.0</td><td>0.0</td><td>-1</td><td>-1.0</td><td>-1.0</td><td>-1.0</td><td>False</td></tr>\n",
       "</table>"
      ],
      "text/plain": [
       "<Table length=526356>\n",
       "     SPECOBJID          SDSS_NAME      ... SDSS2FIRST_SEP DISK_ONLY\n",
       "      bytes20             str18        ...    float32        bool  \n",
       "------------------- ------------------ ... -------------- ---------\n",
       "8552380339116285952 000000.45+174625.4 ...           -1.0     False\n",
       "9840556074670727168 000000.57+055630.8 ...           -1.0     False\n",
       "6954847382082134016 000000.66+145828.8 ...           -1.0     False\n",
       "4970975729887977472 000000.97+044947.2 ...           -1.0     False\n",
       "8631182069211308032 000001.20+240354.5 ...           -1.0     False\n",
       "4902354659090341888 000001.27-020159.7 ...        0.57105     False\n",
       "4902345862997319680 000001.37-011930.0 ...           -1.0     False\n",
       "6879272175653593088 000001.41+200044.1 ...           -1.0     False\n",
       "8551284950858440704 000001.47+211636.1 ...           -1.0     False\n",
       "8838509823609774080 000001.55-003332.6 ...           -1.0     False\n",
       "                ...                ... ...            ...       ...\n",
       "8836077429061558272 235959.64-003921.1 ...           -1.0     False\n",
       "6926539628846489600 235959.70+084505.2 ...           -1.0     False\n",
       "8631380805938028544 235959.71+255838.4 ...           -1.0     False\n",
       "6960417781557731328 235959.74+100700.4 ...           -1.0     False\n",
       "8631184543112470528 235959.76+242448.7 ...           -1.0     False\n",
       "7330985091827474432 235959.78+285717.0 ...           -1.0     False\n",
       "8044620915265216512 235959.83+344315.0 ...           -1.0     False\n",
       "9841507702370443264 235959.90+031606.9 ...           -1.0     False\n",
       "8551281102567743488 235959.94+204315.8 ...           -1.0     False\n",
       "8044626962579169280 235959.98+344449.6 ...           -1.0     False"
      ]
     },
     "execution_count": 30,
     "metadata": {},
     "output_type": "execute_result"
    }
   ],
   "source": [
    "t"
   ]
  },
  {
   "cell_type": "code",
   "execution_count": 31,
   "metadata": {},
   "outputs": [],
   "source": [
    "t.write('dr14q_datalab.fits')"
   ]
  },
  {
   "cell_type": "markdown",
   "metadata": {},
   "source": [
    "## Firefly\n",
    "\n",
    "* [data model](https://data.sdss.org/datamodel/files/EBOSS_FIREFLY/FIREFLY_VER/sdss_eboss_firefly.html)\n",
    "* The SQL file for the CAS table has units."
   ]
  },
  {
   "cell_type": "code",
   "execution_count": 6,
   "metadata": {},
   "outputs": [
    {
     "data": {
      "text/plain": [
       "'sdss_dr14://eboss/spectro/firefly/v1_0_4/sdss_eboss_firefly-dr14.fits'"
      ]
     },
     "execution_count": 6,
     "metadata": {},
     "output_type": "execute_result"
    }
   ],
   "source": [
    "firefly_version = 'v1_0_4'\n",
    "vopath = \"{0}eboss/spectro/firefly/{1}/sdss_eboss_firefly-dr{2:d}.fits\".format(sas, firefly_version, release)\n",
    "vopath"
   ]
  },
  {
   "cell_type": "code",
   "execution_count": 7,
   "metadata": {},
   "outputs": [],
   "source": [
    "with BytesIO(sc.get(vopath, mode='binary')) as q:\n",
    "    with fits.open(q) as hdulist:\n",
    "        f = hdulist[1].data"
   ]
  },
  {
   "cell_type": "code",
   "execution_count": 48,
   "metadata": {},
   "outputs": [
    {
     "data": {
      "text/html": [
       "&lt;MaskedColumn name=&apos;SPECOBJID&apos; dtype=&apos;bytes22&apos; length=2469947&gt;\n",
       "<table>\n",
       "<tr><td>299489676975171584</td></tr>\n",
       "<tr><td>299489951853078528</td></tr>\n",
       "<tr><td>299490501608892416</td></tr>\n",
       "<tr><td>299490776486799360</td></tr>\n",
       "<tr><td>299491051364706304</td></tr>\n",
       "<tr><td>299491601120520192</td></tr>\n",
       "<tr><td>299492150876334080</td></tr>\n",
       "<tr><td>299492425754241024</td></tr>\n",
       "<tr><td>299492700632147968</td></tr>\n",
       "<tr><td>299492975510054912</td></tr>\n",
       "<tr><td>299493525265868800</td></tr>\n",
       "<tr><td>299493800143775744</td></tr>\n",
       "<tr><td>...</td></tr>\n",
       "<tr><td>11259261150318010368</td></tr>\n",
       "<tr><td>11259262799585452032</td></tr>\n",
       "<tr><td>11259263624219172864</td></tr>\n",
       "<tr><td>11259266098120335360</td></tr>\n",
       "<tr><td>11259266647876149248</td></tr>\n",
       "<tr><td>11259268022265683968</td></tr>\n",
       "<tr><td>11259268297143590912</td></tr>\n",
       "<tr><td>11259270221288939520</td></tr>\n",
       "<tr><td>11259270496166846464</td></tr>\n",
       "<tr><td>11259271045922660352</td></tr>\n",
       "<tr><td>11259271320800567296</td></tr>\n",
       "<tr><td>11259271595678474240</td></tr>\n",
       "</table>"
      ],
      "text/plain": [
       "<MaskedColumn name='SPECOBJID' dtype='bytes22' length=2469947>\n",
       "    299489676975171584\n",
       "    299489951853078528\n",
       "    299490501608892416\n",
       "    299490776486799360\n",
       "    299491051364706304\n",
       "    299491601120520192\n",
       "    299492150876334080\n",
       "    299492425754241024\n",
       "    299492700632147968\n",
       "    299492975510054912\n",
       "    299493525265868800\n",
       "    299493800143775744\n",
       "                   ...\n",
       "  11259261150318010368\n",
       "  11259262799585452032\n",
       "  11259263624219172864\n",
       "  11259266098120335360\n",
       "  11259266647876149248\n",
       "  11259268022265683968\n",
       "  11259268297143590912\n",
       "  11259270221288939520\n",
       "  11259270496166846464\n",
       "  11259271045922660352\n",
       "  11259271320800567296\n",
       "  11259271595678474240"
      ]
     },
     "execution_count": 48,
     "metadata": {},
     "output_type": "execute_result"
    }
   ],
   "source": [
    "f['SPECOBJID']"
   ]
  },
  {
   "cell_type": "markdown",
   "metadata": {},
   "source": [
    "## SPIDERS\n",
    "\n",
    "* [data model](https://data.sdss.org/datamodel/files/SPIDERS_ANALYSIS/)\n",
    "* SQL file exists but does not have units, but data model does.\n",
    "* Need to add `specObjID`."
   ]
  },
  {
   "cell_type": "code",
   "execution_count": 5,
   "metadata": {},
   "outputs": [
    {
     "data": {
      "text/plain": [
       "'sdss_dr14://eboss/spiders/analysis/spiders_quasar_bhmass-DR14.fits'"
      ]
     },
     "execution_count": 5,
     "metadata": {},
     "output_type": "execute_result"
    }
   ],
   "source": [
    "vopath = \"{0}eboss/spiders/analysis/spiders_quasar_bhmass-DR{1:d}.fits\".format(sas, release)\n",
    "vopath"
   ]
  },
  {
   "cell_type": "code",
   "execution_count": 24,
   "metadata": {},
   "outputs": [],
   "source": [
    "with BytesIO(sc.get(vopath, mode='binary')) as q:\n",
    "    with fits.open(q) as hdulist:\n",
    "        sp = hdulist[1].data"
   ]
  },
  {
   "cell_type": "code",
   "execution_count": 35,
   "metadata": {},
   "outputs": [],
   "source": [
    "specobjid = np.zeros(sp.shape, dtype=np.uint64)\n",
    "w = sp['DR14_RUN2D'] == '26'\n",
    "irun2d = np.zeros(sp.shape, dtype=np.uint64)\n",
    "irun2d[w] = 26\n",
    "w = sp['DR14_RUN2D'] == '104'\n",
    "irun2d[w] = 104\n",
    "w = sp['DR14_RUN2D'] == 'v5_10_0'\n",
    "m = re.match(r'v(\\d+)_(\\d+)_(\\d+)', boss_run2d)\n",
    "N, M, P = m.groups()\n",
    "irun2d[w] = (int(N) - 5)*10000 + int(M) * 100 + int(P)\n",
    "specobjid = sdss_specobjid(sp['PLATE'].astype(np.uint64),\n",
    "                           sp['FIBERID'].astype(np.uint64),\n",
    "                           sp['MJD'].astype(np.uint64) - 50000,\n",
    "                           irun2d)"
   ]
  },
  {
   "cell_type": "code",
   "execution_count": 36,
   "metadata": {},
   "outputs": [
    {
     "data": {
      "text/plain": [
       "(array([3155, 3110, 3221], dtype=int16),\n",
       " array([362, 156, 484], dtype=int16),\n",
       " array([54829, 54747, 54864], dtype=int32),\n",
       " chararray(['104', '104', '104'], dtype='<U7'))"
      ]
     },
     "execution_count": 36,
     "metadata": {},
     "output_type": "execute_result"
    }
   ],
   "source": [
    "w = (sp['DR14_RUN2D'] != '26') & (sp['DR14_RUN2D'] != 'v5_10_0')\n",
    "sp['PLATE'][w], sp['FIBERID'][w], sp['MJD'][w], sp['DR14_RUN2D'][w]"
   ]
  },
  {
   "cell_type": "code",
   "execution_count": 37,
   "metadata": {},
   "outputs": [
    {
     "data": {
      "text/plain": [
       "rec.array([(6025, 118, 56098, 'v5_10_0', 0)],\n",
       "          dtype=[('plate', '<i4'), ('fiber', '<i4'), ('mjd', '<i4'), ('run2d', '<U8'), ('line', '<i4')])"
      ]
     },
     "execution_count": 37,
     "metadata": {},
     "output_type": "execute_result"
    }
   ],
   "source": [
    "w = specobjid == 6783579476627292160\n",
    "# sp['PLATE'][w], sp['FIBERID'][w], sp['MJD'][w], sp['DR14_RUN2D'][w]\n",
    "unwrap_specobjid(np.array([6783579476628316160], dtype=np.uint64))"
   ]
  },
  {
   "cell_type": "code",
   "execution_count": 38,
   "metadata": {},
   "outputs": [
    {
     "data": {
      "text/plain": [
       "(8570, 7847)"
      ]
     },
     "execution_count": 38,
     "metadata": {},
     "output_type": "execute_result"
    }
   ],
   "source": [
    "len(specobjid), len(np.unique(specobjid))"
   ]
  },
  {
   "cell_type": "code",
   "execution_count": 39,
   "metadata": {},
   "outputs": [],
   "source": [
    "t = Table(sp)\n",
    "for c in sp.columns.names:\n",
    "    # print(c, sp[c].dtype)\n",
    "    if sp[c].dtype.type is np.float64 and c != 'RA' and c != 'DEC' and c != 'DR14_PLUG_RA' and c != 'DR14_PLUG_DEC':\n",
    "        t[c] = sp[c].astype(np.float32)\n",
    "t.add_column(Column(name='SPECOBJID', data=specobjid.astype(np.character)), index=0)\n"
   ]
  },
  {
   "cell_type": "code",
   "execution_count": 40,
   "metadata": {},
   "outputs": [
    {
     "data": {
      "text/html": [
       "<i>Table length=8570</i>\n",
       "<table id=\"table139919797958640\" class=\"table-striped table-bordered table-condensed\">\n",
       "<thead><tr><th>SPECOBJID</th><th>xray_detection</th><th>name</th><th>RA</th><th>DEC</th><th>ExpTime</th><th>ExiML_2RXS</th><th>DETML_XMMSL</th><th>f_2RXS</th><th>errf_2RXS</th><th>fden_2RXS</th><th>errfden_2RXS</th><th>f_XMMSL</th><th>errf_XMMSL</th><th>plate</th><th>MJD</th><th>fiberID</th><th>DR14_RUN2D</th><th>DR14_PLUG_RA</th><th>DR14_PLUG_DEC</th><th>redshift</th><th>CLASS_BEST</th><th>CONF_BEST</th><th>DR14_ZWARNING</th><th>DR14_SN_MEDIAN_ALL</th><th>norm1_mgII</th><th>errnorm1_mgII</th><th>peak1_mgII</th><th>errpeak1_mgII</th><th>width1_mgII</th><th>errwidth1_mgII</th><th>fwhm1_mgII</th><th>errfwhm1_mgII</th><th>norm2_mgII</th><th>errnorm2_mgII</th><th>peak2_mgII</th><th>errpeak2_mgII</th><th>width2_mgII</th><th>errwidth2_mgII</th><th>fwhm2_mgII</th><th>errfwhm2_mgII</th><th>norm3_mgII</th><th>errnorm3_mgII</th><th>peak3_mgII</th><th>errpeak3_mgII</th><th>width3_mgII</th><th>errwidth3_mgII</th><th>fwhm3_mgII</th><th>errfwhm3_mgII</th><th>norm_heII</th><th>errnorm_heII</th><th>peak_heII</th><th>errpeak_heII</th><th>width_heII</th><th>errwidth_heII</th><th>fwhm_heII</th><th>errfwhm_heII</th><th>norm1_hb</th><th>errnorm1_hb</th><th>peak1_hb</th><th>errpeak1_hb</th><th>width1_hb</th><th>errwidth1_hb</th><th>fwhm1_hb</th><th>errfwhm1_hb</th><th>norm2_hb</th><th>errnorm2_hb</th><th>peak2_hb</th><th>errpeak2_hb</th><th>width2_hb</th><th>errwidth2_hb</th><th>fwhm2_hb</th><th>errfwhm2_hb</th><th>norm3_hb</th><th>errnorm3_hb</th><th>peak3_hb</th><th>errpeak3_hb</th><th>width3_hb</th><th>errwidth3_hb</th><th>fwhm3_hb</th><th>errfwhm3_hb</th><th>norm4_hb</th><th>errnorm4_hb</th><th>peak4_hb</th><th>errpeak4_hb</th><th>width4_hb</th><th>errwidth4_hb</th><th>fwhm4_hb</th><th>errfwhm4_hb</th><th>norm1_OIII4959</th><th>errnorm1_OIII4959</th><th>peak1_OIII4959</th><th>errpeak1_OIII4959</th><th>width1_OIII4959</th><th>errwidth1_OIII4959</th><th>fwhm1_OIII4959</th><th>errfwhm1_OIII4959</th><th>norm2_OIII4959</th><th>errnorm2_OIII4959</th><th>peak2_OIII4959</th><th>errpeak2_OIII4959</th><th>width2_OIII4959</th><th>errwidth2_OIII4959</th><th>fwhm2_OIII4959</th><th>errfwhm2_OIII4959</th><th>norm1_OIII5007</th><th>errnorm1_OIII5007</th><th>peak1_OIII5007</th><th>errpeak1_OIII5007</th><th>width1_OIII5007</th><th>errwidth1_OIII5007</th><th>fwhm1_OIII5007</th><th>errfwhm1_OIII5007</th><th>norm2_OIII5007</th><th>errnorm2_OIII5007</th><th>peak2_OIII5007</th><th>errpeak2_OIII5007</th><th>width2_OIII5007</th><th>errwidth2_OIII5007</th><th>fwhm2_OIII5007</th><th>errfwhm2_OIII5007</th><th>norm_pl1</th><th>errnorm_pl1</th><th>slope_pl1</th><th>errslope_pl1</th><th>norm_pl2</th><th>errnorm_pl2</th><th>slope_pl2</th><th>errslope_pl2</th><th>norm_gal1</th><th>errnorm_gal1</th><th>norm_gal2</th><th>errnorm_gal2</th><th>norm_feII1</th><th>errnorm_feII1</th><th>norm_feII2</th><th>errnorm_feII2</th><th>width_feII1</th><th>errwidth_feII1</th><th>width_feII2</th><th>errwidth_feII2</th><th>r_feII</th><th>OIII_Hbeta_ratio</th><th>virialfwhm_mgII</th><th>errvirialfwhm_mgII</th><th>virialfwhm_hb</th><th>errvirialfwhm_hb</th><th>mgII_chi</th><th>hb_chi</th><th>l_2500</th><th>errl_2500</th><th>l_3000</th><th>errl_3000</th><th>l_5100</th><th>errl_5100</th><th>l_bol1</th><th>errl_bol1</th><th>l_bol2</th><th>errl_bol2</th><th>logBHMS_mgII</th><th>errlogBHMS_mgII</th><th>logBHMVP_hb</th><th>errlogBHMVP_hb</th><th>logBHMMD_hb</th><th>errlogBHMMD_hb</th><th>logBHMA_hb</th><th>errlogBHMA_hb</th><th>l_edd1</th><th>l_edd2</th><th>edd_ratio1</th><th>edd_ratio2</th></tr></thead>\n",
       "<thead><tr><th>bytes20</th><th>str5</th><th>str23</th><th>float64</th><th>float64</th><th>float32</th><th>float32</th><th>float32</th><th>float32</th><th>float32</th><th>float32</th><th>float32</th><th>float32</th><th>float32</th><th>int16</th><th>int32</th><th>int16</th><th>str7</th><th>float64</th><th>float64</th><th>float32</th><th>str6</th><th>int16</th><th>int16</th><th>float32</th><th>float32</th><th>float32</th><th>float32</th><th>float32</th><th>float32</th><th>float32</th><th>float32</th><th>float32</th><th>float32</th><th>float32</th><th>float32</th><th>float32</th><th>float32</th><th>float32</th><th>float32</th><th>float32</th><th>float32</th><th>float32</th><th>float32</th><th>float32</th><th>float32</th><th>float32</th><th>float32</th><th>float32</th><th>float32</th><th>float32</th><th>float32</th><th>float32</th><th>float32</th><th>float32</th><th>float32</th><th>float32</th><th>float32</th><th>float32</th><th>float32</th><th>float32</th><th>float32</th><th>float32</th><th>float32</th><th>float32</th><th>float32</th><th>float32</th><th>float32</th><th>float32</th><th>float32</th><th>float32</th><th>float32</th><th>float32</th><th>float32</th><th>float32</th><th>float32</th><th>float32</th><th>float32</th><th>float32</th><th>float32</th><th>float32</th><th>float32</th><th>float32</th><th>float32</th><th>float32</th><th>float32</th><th>float32</th><th>float32</th><th>float32</th><th>float32</th><th>float32</th><th>float32</th><th>float32</th><th>float32</th><th>float32</th><th>float32</th><th>float32</th><th>float32</th><th>float32</th><th>float32</th><th>float32</th><th>float32</th><th>float32</th><th>float32</th><th>float32</th><th>float32</th><th>float32</th><th>float32</th><th>float32</th><th>float32</th><th>float32</th><th>float32</th><th>float32</th><th>float32</th><th>float32</th><th>float32</th><th>float32</th><th>float32</th><th>float32</th><th>float32</th><th>float32</th><th>float32</th><th>float32</th><th>float32</th><th>float32</th><th>float32</th><th>float32</th><th>float32</th><th>float32</th><th>float32</th><th>float32</th><th>float32</th><th>float32</th><th>float32</th><th>float32</th><th>float32</th><th>float32</th><th>float32</th><th>float32</th><th>float32</th><th>float32</th><th>float32</th><th>float32</th><th>float32</th><th>float32</th><th>float32</th><th>float32</th><th>float32</th><th>float32</th><th>float32</th><th>float32</th><th>float32</th><th>float32</th><th>float32</th><th>float32</th><th>float32</th><th>float32</th><th>float32</th><th>float32</th><th>float32</th><th>float32</th><th>float32</th><th>float32</th><th>float32</th><th>float32</th><th>float32</th><th>float32</th><th>float32</th><th>float32</th><th>float32</th><th>float32</th></tr></thead>\n",
       "<tr><td>4563282861596057600</td><td>2RXS</td><td>2RXS J131703.4-021538</td><td>199.26434</td><td>-2.26066</td><td>273.86</td><td>161.0</td><td>-99.0</td><td>8.035261e-12</td><td>7.752275e-13</td><td>2.8119008e-30</td><td>2.7128712e-31</td><td>-99.0</td><td>-99.0</td><td>4053</td><td>55591</td><td>38</td><td>v5_10_0</td><td>199.26423</td><td>-2.2613246</td><td>0.019339599</td><td>QSO</td><td>3</td><td>0</td><td>56.210777</td><td>nan</td><td>nan</td><td>nan</td><td>nan</td><td>nan</td><td>nan</td><td>nan</td><td>nan</td><td>nan</td><td>nan</td><td>nan</td><td>nan</td><td>nan</td><td>nan</td><td>nan</td><td>nan</td><td>nan</td><td>nan</td><td>nan</td><td>nan</td><td>nan</td><td>nan</td><td>nan</td><td>nan</td><td>8.338271</td><td>0.57148874</td><td>4687.37</td><td>0.20680268</td><td>2.7068005</td><td>0.2070269</td><td>26.125607</td><td>31.17999</td><td>34.60116</td><td>0.85879534</td><td>4863.0547</td><td>0.016043471</td><td>1.8879476</td><td>0.019196145</td><td>93.689026</td><td>2.7866557</td><td>12.468467</td><td>0.6284881</td><td>4858.2827</td><td>0.44450518</td><td>16.661077</td><td>0.75797975</td><td>2052.903</td><td>110.14223</td><td>6.9923124</td><td>0.62731856</td><td>4861.5933</td><td>1.3741997</td><td>46.305412</td><td>2.366336</td><td>6356.1914</td><td>343.62296</td><td>1.110223e-16</td><td>0.0</td><td>4861.3994</td><td>0.0</td><td>27.695637</td><td>0.0</td><td>3653.9915</td><td>0.0</td><td>96.04188</td><td>1.2027943</td><td>4960.2876</td><td>0.016043471</td><td>1.8879476</td><td>0.019196145</td><td>91.85251</td><td>2.7320309</td><td>13.680154</td><td>0.89852846</td><td>4961.2153</td><td>0.091431096</td><td>4.616907</td><td>0.120407</td><td>296.4826</td><td>17.133343</td><td>288.12564</td><td>3.608383</td><td>5008.6187</td><td>0.016043471</td><td>1.8879476</td><td>0.019196145</td><td>90.96617</td><td>2.705668</td><td>41.040462</td><td>2.6955855</td><td>5009.5464</td><td>0.091431096</td><td>4.616907</td><td>0.120407</td><td>293.62222</td><td>16.968044</td><td>nan</td><td>nan</td><td>nan</td><td>nan</td><td>0.00027510137</td><td>0.00020308627</td><td>1.2352595</td><td>0.08294958</td><td>nan</td><td>nan</td><td>50.01777</td><td>0.62465894</td><td>nan</td><td>nan</td><td>1.0924888</td><td>0.10298819</td><td>nan</td><td>nan</td><td>110.0</td><td>0.0</td><td>0.34659427</td><td>1.228858</td><td>nan</td><td>nan</td><td>3200.6113</td><td>288.5285</td><td>nan</td><td>2.117857</td><td>nan</td><td>nan</td><td>nan</td><td>nan</td><td>1.0180043e+38</td><td>1.7460703e+36</td><td>nan</td><td>nan</td><td>inf</td><td>inf</td><td>nan</td><td>nan</td><td>6.778126</td><td>0.08202616</td><td>6.2888107</td><td>0.08284555</td><td>6.717432</td><td>0.08217514</td><td>nan</td><td>inf</td><td>nan</td><td>0.0061639855</td></tr>\n",
       "<tr><td>7611190680434483200</td><td>2RXS</td><td>2RXS J130358.4+534748</td><td>195.99369</td><td>53.79679</td><td>505.87</td><td>273.0</td><td>-99.0</td><td>8.7297135e-13</td><td>3.046346e-13</td><td>3.3189446e-31</td><td>1.0462137e-31</td><td>-99.0</td><td>-99.0</td><td>6760</td><td>56425</td><td>390</td><td>v5_10_0</td><td>195.99791</td><td>53.79165</td><td>0.03012986</td><td>QSO</td><td>3</td><td>0</td><td>46.680435</td><td>nan</td><td>nan</td><td>nan</td><td>nan</td><td>nan</td><td>nan</td><td>nan</td><td>nan</td><td>nan</td><td>nan</td><td>nan</td><td>nan</td><td>nan</td><td>nan</td><td>nan</td><td>nan</td><td>nan</td><td>nan</td><td>nan</td><td>nan</td><td>nan</td><td>nan</td><td>nan</td><td>nan</td><td>15.842758</td><td>1.1371269</td><td>4686.8994</td><td>0.21444453</td><td>2.7074077</td><td>0.21397679</td><td>26.219679</td><td>32.229935</td><td>71.01218</td><td>1.9457968</td><td>4862.8516</td><td>0.020795664</td><td>2.1411896</td><td>0.026136562</td><td>56.928883</td><td>3.794337</td><td>39.55494</td><td>0.61941314</td><td>4864.8477</td><td>0.42680067</td><td>31.20266</td><td>0.5578229</td><td>4160.3193</td><td>80.94871</td><td>9.969197</td><td>0.0</td><td>4883.381</td><td>0.0</td><td>0.0</td><td>0.0</td><td>0.0</td><td>0.0</td><td>12.381616</td><td>0.518893</td><td>4900.0</td><td>0.0</td><td>101.7263</td><td>3.3305683</td><td>14291.02</td><td>479.8447</td><td>140.09814</td><td>1.9940953</td><td>4960.0845</td><td>0.020795664</td><td>2.1411896</td><td>0.026136562</td><td>55.8129</td><td>3.7199562</td><td>24.208857</td><td>1.6758476</td><td>4958.8257</td><td>0.12023941</td><td>5.2522507</td><td>0.15617368</td><td>387.07544</td><td>22.23348</td><td>420.2944</td><td>5.982286</td><td>5008.4155</td><td>0.020795664</td><td>2.1411896</td><td>0.026136562</td><td>55.274307</td><td>3.684059</td><td>72.62657</td><td>5.027543</td><td>5007.1567</td><td>0.12023941</td><td>5.2522507</td><td>0.15617368</td><td>383.33923</td><td>22.018875</td><td>nan</td><td>nan</td><td>nan</td><td>nan</td><td>17887.957</td><td>4678.672</td><td>-0.6944081</td><td>0.032058</td><td>nan</td><td>nan</td><td>36.2902</td><td>1.352609</td><td>nan</td><td>nan</td><td>3.0824285</td><td>0.22277465</td><td>nan</td><td>nan</td><td>85.68257</td><td>0.35050175</td><td>0.21435131</td><td>0.48431283</td><td>nan</td><td>nan</td><td>5414.522</td><td>364.81583</td><td>nan</td><td>2.188485</td><td>nan</td><td>nan</td><td>nan</td><td>nan</td><td>inf</td><td>8.374422e+36</td><td>nan</td><td>nan</td><td>inf</td><td>inf</td><td>nan</td><td>nan</td><td>7.750659</td><td>0.060183667</td><td>7.3748374</td><td>0.060548946</td><td>7.7106004</td><td>0.06025008</td><td>nan</td><td>inf</td><td>nan</td><td>0.0070645744</td></tr>\n",
       "<tr><td>7115698514626060288</td><td>2RXS</td><td>2RXS J160951.4+490216</td><td>242.46435</td><td>49.03793</td><td>535.04</td><td>266.0</td><td>-99.0</td><td>1.4092888e-12</td><td>3.0861958e-13</td><td>5.069907e-31</td><td>1.0677129e-31</td><td>-99.0</td><td>-99.0</td><td>6320</td><td>56453</td><td>40</td><td>v5_10_0</td><td>242.46747</td><td>49.033713</td><td>0.0400613</td><td>QSO</td><td>3</td><td>0</td><td>49.82172</td><td>nan</td><td>nan</td><td>nan</td><td>nan</td><td>nan</td><td>nan</td><td>nan</td><td>nan</td><td>nan</td><td>nan</td><td>nan</td><td>nan</td><td>nan</td><td>nan</td><td>nan</td><td>nan</td><td>nan</td><td>nan</td><td>nan</td><td>nan</td><td>nan</td><td>nan</td><td>nan</td><td>nan</td><td>4.182474</td><td>0.31122404</td><td>4690.0</td><td>0.0</td><td>31.421953</td><td>2.8517373</td><td>4348.4287</td><td>429.25473</td><td>22.551926</td><td>1.447325</td><td>4862.859</td><td>0.05024721</td><td>2.3218825</td><td>0.06948748</td><td>30.697002</td><td>10.087727</td><td>5.531333</td><td>2.0379982</td><td>4857.8423</td><td>2.0793214</td><td>10.296705</td><td>2.5897775</td><td>1128.1981</td><td>376.3551</td><td>0.45204565</td><td>0.0</td><td>4877.1494</td><td>0.0</td><td>8.881784e-16</td><td>0.0</td><td>366.6948</td><td>0.0</td><td>2.0264976</td><td>1.9712934</td><td>4866.671</td><td>10.407521</td><td>22.11361</td><td>8.063729</td><td>2840.307</td><td>1169.737</td><td>26.235004</td><td>0.78555113</td><td>4960.092</td><td>0.05024721</td><td>2.3218825</td><td>0.06948748</td><td>30.095247</td><td>9.8899765</td><td>9.792167</td><td>0.67698586</td><td>4960.1973</td><td>0.19425642</td><td>7.409983</td><td>0.2898724</td><td>694.06647</td><td>41.255936</td><td>78.70502</td><td>2.3566535</td><td>5008.423</td><td>0.05024721</td><td>2.3218825</td><td>0.06948748</td><td>29.804829</td><td>9.794539</td><td>29.376501</td><td>2.0309577</td><td>5008.5283</td><td>0.19425642</td><td>7.409983</td><td>0.2898724</td><td>687.3689</td><td>40.857826</td><td>nan</td><td>nan</td><td>nan</td><td>nan</td><td>970875600.0</td><td>378003940.0</td><td>-1.9783334</td><td>0.047694076</td><td>nan</td><td>nan</td><td>46.757957</td><td>1.1050352</td><td>nan</td><td>nan</td><td>0.0</td><td>0.0</td><td>nan</td><td>nan</td><td>1.0</td><td>0.0</td><td>0.0</td><td>2.5979342</td><td>nan</td><td>nan</td><td>1769.8949</td><td>193.37532</td><td>nan</td><td>0.9332358</td><td>nan</td><td>nan</td><td>nan</td><td>nan</td><td>inf</td><td>1.4667195e+37</td><td>nan</td><td>nan</td><td>inf</td><td>inf</td><td>nan</td><td>nan</td><td>6.8936768</td><td>0.096618906</td><td>6.542989</td><td>0.09699694</td><td>6.858188</td><td>0.09668764</td><td>nan</td><td>inf</td><td>nan</td><td>0.08601108</td></tr>\n",
       "<tr><td>7195897990187294720</td><td>2RXS</td><td>2RXS J081517.7+460431</td><td>123.8238</td><td>46.07529</td><td>463.63</td><td>61.0</td><td>-99.0</td><td>4.6025657e-12</td><td>6.818868e-13</td><td>1.6255488e-30</td><td>2.3653838e-31</td><td>-99.0</td><td>-99.0</td><td>6391</td><td>56329</td><td>988</td><td>v5_10_0</td><td>123.8202999999</td><td>46.075246</td><td>0.04096914</td><td>QSO</td><td>3</td><td>0</td><td>41.05377</td><td>nan</td><td>nan</td><td>nan</td><td>nan</td><td>nan</td><td>nan</td><td>nan</td><td>nan</td><td>nan</td><td>nan</td><td>nan</td><td>nan</td><td>nan</td><td>nan</td><td>nan</td><td>nan</td><td>nan</td><td>nan</td><td>nan</td><td>nan</td><td>nan</td><td>nan</td><td>nan</td><td>nan</td><td>11.001206</td><td>0.6521519</td><td>4686.3896</td><td>0.5977384</td><td>9.109994</td><td>0.60815156</td><td>990.7076</td><td>91.61198</td><td>94.22938</td><td>3.5932982</td><td>4864.088</td><td>0.056251135</td><td>1.9896679</td><td>0.06985312</td><td>78.90577</td><td>10.138246</td><td>34.553493</td><td>3.3344493</td><td>4861.4224</td><td>0.3580223</td><td>5.7945266</td><td>0.40980265</td><td>473.5781</td><td>59.509995</td><td>2.8773465</td><td>0.0</td><td>4855.5337</td><td>0.0</td><td>0.0</td><td>0.0</td><td>0.0</td><td>0.0</td><td>32.568665</td><td>2.3598516</td><td>4865.0693</td><td>0.41309813</td><td>15.09092</td><td>0.5005896</td><td>1822.198</td><td>72.63939</td><td>35.776165</td><td>2.8044446</td><td>4961.321</td><td>0.056251135</td><td>1.9896679</td><td>0.06985312</td><td>77.35936</td><td>9.939554</td><td>61.177177</td><td>1.9411376</td><td>4958.408</td><td>0.1165622</td><td>3.489362</td><td>0.04404547</td><td>136.11533</td><td>6.271009</td><td>107.32849</td><td>8.413334</td><td>5009.652</td><td>0.056251135</td><td>1.9896679</td><td>0.06985312</td><td>76.61303</td><td>9.843661</td><td>183.53152</td><td>5.8234124</td><td>5006.7393</td><td>0.1165622</td><td>3.489362</td><td>0.04404547</td><td>134.80138</td><td>6.210474</td><td>nan</td><td>nan</td><td>nan</td><td>nan</td><td>4022796.5</td><td>981345.25</td><td>-1.2990093</td><td>0.030179616</td><td>nan</td><td>nan</td><td>18.146004</td><td>1.2519563</td><td>nan</td><td>nan</td><td>6.8723035</td><td>0.1277981</td><td>nan</td><td>nan</td><td>26.335674</td><td>0.8944342</td><td>2.4387324</td><td>0.9712908</td><td>nan</td><td>nan</td><td>2201.5767</td><td>277.578</td><td>nan</td><td>1.7200311</td><td>nan</td><td>nan</td><td>nan</td><td>nan</td><td>inf</td><td>1.6145025e+37</td><td>nan</td><td>nan</td><td>inf</td><td>inf</td><td>nan</td><td>nan</td><td>7.1580663</td><td>0.1108534</td><td>6.823838</td><td>0.11114824</td><td>7.1255703</td><td>0.110907</td><td>nan</td><td>inf</td><td>nan</td><td>0.06603873</td></tr>\n",
       "<tr><td>7561803916247015424</td><td>2RXS</td><td>2RXS J160519.8+520726</td><td>241.33253</td><td>52.12398</td><td>547.68</td><td>95.0</td><td>-99.0</td><td>8.669619e-13</td><td>2.706654e-13</td><td>3.2433963e-31</td><td>9.2529767e-32</td><td>-99.0</td><td>-99.0</td><td>6716</td><td>56401</td><td>946</td><td>v5_10_0</td><td>241.3253899999</td><td>52.120167</td><td>0.0462119</td><td>QSO</td><td>3</td><td>0</td><td>33.17633</td><td>nan</td><td>nan</td><td>nan</td><td>nan</td><td>nan</td><td>nan</td><td>nan</td><td>nan</td><td>nan</td><td>nan</td><td>nan</td><td>nan</td><td>nan</td><td>nan</td><td>nan</td><td>nan</td><td>nan</td><td>nan</td><td>nan</td><td>nan</td><td>nan</td><td>nan</td><td>nan</td><td>nan</td><td>2.7488892</td><td>0.2247402</td><td>4687.2373</td><td>3.2042246</td><td>31.96419</td><td>3.8475912</td><td>4432.6597</td><td>579.50385</td><td>22.511864</td><td>1.0974725</td><td>4863.2407</td><td>0.020168496</td><td>1.7324729</td><td>0.02526386</td><td>116.25443</td><td>3.6673503</td><td>12.194167</td><td>2.8100398</td><td>4867.4136</td><td>0.65934306</td><td>16.93439</td><td>1.7985154</td><td>2088.6926</td><td>260.85226</td><td>2.050314</td><td>0.39026883</td><td>4830.0</td><td>0.0</td><td>146.5284</td><td>16.81251</td><td>21046.451</td><td>2457.3318</td><td>8.085302</td><td>2.7036326</td><td>4866.414</td><td>1.5206814</td><td>33.648125</td><td>5.2486925</td><td>4513.737</td><td>761.4146</td><td>76.72152</td><td>1.3052183</td><td>4960.4736</td><td>0.020168496</td><td>1.7324729</td><td>0.02526386</td><td>113.97566</td><td>3.5954645</td><td>6.6419516</td><td>0.9374573</td><td>4959.607</td><td>0.19123705</td><td>4.400827</td><td>0.27332935</td><td>265.8216</td><td>38.90608</td><td>230.16457</td><td>3.915655</td><td>5008.8047</td><td>0.020168496</td><td>1.7324729</td><td>0.02526386</td><td>112.87588</td><td>3.560771</td><td>19.925856</td><td>2.812372</td><td>5007.9375</td><td>0.19123705</td><td>4.400827</td><td>0.27332935</td><td>263.2562</td><td>38.5306</td><td>nan</td><td>nan</td><td>nan</td><td>nan</td><td>1659.9072</td><td>1427.6029</td><td>-0.5887596</td><td>0.1037196</td><td>nan</td><td>nan</td><td>26.452175</td><td>0.75418615</td><td>nan</td><td>nan</td><td>1.400355</td><td>0.12587443</td><td>nan</td><td>nan</td><td>72.819214</td><td>0.84566075</td><td>0.314149</td><td>0.5952511</td><td>nan</td><td>nan</td><td>3367.1172</td><td>290.7625</td><td>nan</td><td>1.3175368</td><td>nan</td><td>nan</td><td>nan</td><td>nan</td><td>inf</td><td>1.1759624e+37</td><td>nan</td><td>nan</td><td>inf</td><td>inf</td><td>nan</td><td>nan</td><td>7.229066</td><td>0.0788573</td><td>6.829267</td><td>0.07970461</td><td>7.184648</td><td>0.07901136</td><td>nan</td><td>inf</td><td>nan</td><td>0.014213492</td></tr>\n",
       "<tr><td>4117662337908842496</td><td>2RXS</td><td>2RXS J073107.1+392636</td><td>112.77964</td><td>39.44342</td><td>453.42</td><td>77.0</td><td>-99.0</td><td>1e-14</td><td>1e-14</td><td>1e-33</td><td>1e-33</td><td>-99.0</td><td>-99.0</td><td>3657</td><td>55244</td><td>896</td><td>v5_10_0</td><td>112.77858</td><td>39.445707</td><td>0.048</td><td>BLAGN</td><td>3</td><td>0</td><td>24.8312</td><td>nan</td><td>nan</td><td>nan</td><td>nan</td><td>nan</td><td>nan</td><td>nan</td><td>nan</td><td>nan</td><td>nan</td><td>nan</td><td>nan</td><td>nan</td><td>nan</td><td>nan</td><td>nan</td><td>nan</td><td>nan</td><td>nan</td><td>nan</td><td>nan</td><td>nan</td><td>nan</td><td>nan</td><td>2.9059925</td><td>0.11577714</td><td>4682.96</td><td>0.9923054</td><td>22.257212</td><td>1.0191667</td><td>2973.3792</td><td>153.6409</td><td>4.732946</td><td>2.7320237</td><td>4864.7886</td><td>0.03697491</td><td>2.1711078</td><td>0.044326622</td><td>52.564632</td><td>6.43249</td><td>11.324305</td><td>5.8443103</td><td>4868.375</td><td>2.383291</td><td>4.2326565</td><td>0.99725634</td><td>246.41682</td><td>144.611</td><td>7.6333656</td><td>0.8093394</td><td>4864.762</td><td>0.43530682</td><td>14.836035</td><td>0.70386666</td><td>1785.3251</td><td>102.1428</td><td>9.771894</td><td>5.308908</td><td>4861.1123</td><td>2.8537757</td><td>4.419191</td><td>1.1748749</td><td>273.87454</td><td>170.62183</td><td>18.407436</td><td>0.35865444</td><td>4962.0215</td><td>0.03697491</td><td>2.1711078</td><td>0.044326622</td><td>51.534603</td><td>6.3064423</td><td>8.025297</td><td>0.2564208</td><td>4957.9146</td><td>0.16903295</td><td>5.367353</td><td>0.08346201</td><td>403.53598</td><td>11.88416</td><td>55.22231</td><td>1.0759633</td><td>5010.3525</td><td>0.03697491</td><td>2.1711078</td><td>0.044326622</td><td>51.03749</td><td>6.245609</td><td>24.075891</td><td>0.7692624</td><td>5006.2456</td><td>0.16903295</td><td>5.367353</td><td>0.08346201</td><td>399.64017</td><td>11.769429</td><td>nan</td><td>nan</td><td>nan</td><td>nan</td><td>1038.3768</td><td>470.43027</td><td>-0.58170855</td><td>0.055936836</td><td>nan</td><td>nan</td><td>7.167239</td><td>0.3573845</td><td>nan</td><td>nan</td><td>1.5340796</td><td>0.035720047</td><td>nan</td><td>nan</td><td>21.059422</td><td>1.0989903</td><td>2.3614838</td><td>1.1606214</td><td>nan</td><td>nan</td><td>2164.5754</td><td>194.6301</td><td>nan</td><td>2.313926</td><td>nan</td><td>nan</td><td>nan</td><td>nan</td><td>inf</td><td>6.3619207e+36</td><td>nan</td><td>nan</td><td>inf</td><td>inf</td><td>nan</td><td>nan</td><td>6.758944</td><td>0.081201375</td><td>6.3401475</td><td>0.08188362</td><td>6.711072</td><td>0.08132542</td><td>nan</td><td>inf</td><td>nan</td><td>0.028191673</td></tr>\n",
       "<tr><td>8515223990658113536</td><td>2RXS</td><td>2RXS J162145.2+542724</td><td>245.43861</td><td>54.4568</td><td>754.15</td><td>315.0</td><td>-99.0</td><td>1.4092888e-12</td><td>2.275277e-13</td><td>4.988845e-31</td><td>7.921156e-32</td><td>-99.0</td><td>-99.0</td><td>7563</td><td>56810</td><td>156</td><td>v5_10_0</td><td>245.43789</td><td>54.456574</td><td>0.0505047</td><td>QSO</td><td>3</td><td>0</td><td>41.398827</td><td>nan</td><td>nan</td><td>nan</td><td>nan</td><td>nan</td><td>nan</td><td>nan</td><td>nan</td><td>nan</td><td>nan</td><td>nan</td><td>nan</td><td>nan</td><td>nan</td><td>nan</td><td>nan</td><td>nan</td><td>nan</td><td>nan</td><td>nan</td><td>nan</td><td>nan</td><td>nan</td><td>nan</td><td>21.116951</td><td>1.1565036</td><td>4687.4404</td><td>0.19982748</td><td>3.3977063</td><td>0.19930193</td><td>130.17989</td><td>30.016094</td><td>106.7553</td><td>2.3536458</td><td>4863.4956</td><td>0.020885542</td><td>2.331354</td><td>0.024431394</td><td>29.318197</td><td>3.5463219</td><td>14.125218</td><td>0.577152</td><td>4900.0</td><td>0.0</td><td>89.0091</td><td>2.732952</td><td>12458.816</td><td>393.7444</td><td>45.619358</td><td>0.656082</td><td>4853.6064</td><td>0.49151397</td><td>34.597202</td><td>0.49453333</td><td>4663.6914</td><td>71.93144</td><td>1.110223e-16</td><td>0.0</td><td>4861.048</td><td>0.0</td><td>27.769547</td><td>0.0</td><td>3664.9893</td><td>0.0</td><td>263.98547</td><td>3.6325948</td><td>4960.729</td><td>0.020885542</td><td>2.331354</td><td>0.024431394</td><td>28.743544</td><td>3.476812</td><td>38.903545</td><td>3.0198762</td><td>4958.9814</td><td>0.13494761</td><td>4.817134</td><td>0.11902717</td><td>325.1203</td><td>16.944632</td><td>791.95636</td><td>10.897784</td><td>5009.0596</td><td>0.020885542</td><td>2.331354</td><td>0.024431394</td><td>28.466206</td><td>3.4432652</td><td>116.71064</td><td>9.0596285</td><td>5007.3125</td><td>0.13494761</td><td>4.817134</td><td>0.11902717</td><td>321.9822</td><td>16.78108</td><td>nan</td><td>nan</td><td>nan</td><td>nan</td><td>8868.556</td><td>2568.7915</td><td>-0.6237578</td><td>0.0356955</td><td>nan</td><td>nan</td><td>35.686275</td><td>1.3632689</td><td>nan</td><td>nan</td><td>2.8254702</td><td>0.1673207</td><td>nan</td><td>nan</td><td>14.930464</td><td>2.008227</td><td>0.17420094</td><td>0.78086907</td><td>nan</td><td>nan</td><td>5889.3716</td><td>364.89984</td><td>nan</td><td>1.6914676</td><td>nan</td><td>nan</td><td>nan</td><td>nan</td><td>inf</td><td>2.73151e+37</td><td>nan</td><td>nan</td><td>inf</td><td>inf</td><td>nan</td><td>nan</td><td>8.034104</td><td>0.055871975</td><td>7.7045774</td><td>0.056324057</td><td>8.002463</td><td>0.055954173</td><td>nan</td><td>inf</td><td>nan</td><td>0.009693854</td></tr>\n",
       "<tr><td>7192505721602154496</td><td>2RXS</td><td>2RXS J075243.7+455653</td><td>118.18223</td><td>45.94812</td><td>455.83</td><td>61.0</td><td>-99.0</td><td>5.0815944e-12</td><td>7.663064e-13</td><td>1.7947337e-30</td><td>2.7064652e-31</td><td>-99.0</td><td>-99.0</td><td>6388</td><td>56309</td><td>935</td><td>v5_10_0</td><td>118.18416</td><td>45.949279</td><td>0.05145264</td><td>QSO</td><td>3</td><td>0</td><td>57.45147</td><td>nan</td><td>nan</td><td>nan</td><td>nan</td><td>nan</td><td>nan</td><td>nan</td><td>nan</td><td>nan</td><td>nan</td><td>nan</td><td>nan</td><td>nan</td><td>nan</td><td>nan</td><td>nan</td><td>nan</td><td>nan</td><td>nan</td><td>nan</td><td>nan</td><td>nan</td><td>nan</td><td>nan</td><td>1.9934212</td><td>0.0</td><td>4686.493</td><td>0.0</td><td>0.0</td><td>0.0</td><td>0.0</td><td>0.0</td><td>19.456184</td><td>1.2659091</td><td>4863.5127</td><td>0.028899465</td><td>2.431113</td><td>0.03378217</td><td>14.83767</td><td>4.90361</td><td>5.4934626</td><td>0.5606205</td><td>4855.3506</td><td>1.2764837</td><td>8.602147</td><td>1.020059</td><td>882.3921</td><td>148.31451</td><td>6.6546965</td><td>0.20154627</td><td>4900.0</td><td>0.0</td><td>77.157814</td><td>3.5025718</td><td>10751.366</td><td>504.62573</td><td>1.110223e-16</td><td>0.0</td><td>4861.0576</td><td>0.0</td><td>27.153698</td><td>0.0</td><td>3575.5442</td><td>0.0</td><td>45.36014</td><td>0.687872</td><td>4960.7456</td><td>0.028899465</td><td>2.431113</td><td>0.03378217</td><td>14.546844</td><td>4.807497</td><td>9.04804</td><td>0.289</td><td>4959.5503</td><td>0.23199105</td><td>11.756454</td><td>0.2705926</td><td>1312.8467</td><td>38.517014</td><td>136.08041</td><td>2.063616</td><td>5009.0767</td><td>0.028899465</td><td>2.431113</td><td>0.03378217</td><td>14.406486</td><td>4.761111</td><td>27.144121</td><td>0.867</td><td>5007.8813</td><td>0.23199105</td><td>11.756454</td><td>0.2705926</td><td>1300.1764</td><td>38.145283</td><td>nan</td><td>nan</td><td>nan</td><td>nan</td><td>3.9100075</td><td>2.0356178</td><td>0.15495393</td><td>0.061775237</td><td>nan</td><td>nan</td><td>107.52931</td><td>0.99177927</td><td>nan</td><td>nan</td><td>0.26029596</td><td>0.09701424</td><td>nan</td><td>nan</td><td>1.0</td><td>0.0</td><td>0.081123844</td><td>1.0689547</td><td>nan</td><td>nan</td><td>6672.5654</td><td>627.532</td><td>nan</td><td>2.7235703</td><td>nan</td><td>nan</td><td>nan</td><td>nan</td><td>inf</td><td>2.1676825e+37</td><td>nan</td><td>nan</td><td>inf</td><td>inf</td><td>nan</td><td>nan</td><td>7.928724</td><td>0.08605361</td><td>7.552154</td><td>0.08701404</td><td>7.8885293</td><td>0.08622824</td><td>nan</td><td>inf</td><td>nan</td><td>0.004615514</td></tr>\n",
       "<tr><td>7170881899753086976</td><td>2RXS</td><td>2RXS J022700.4-042028</td><td>36.75167</td><td>-4.34123</td><td>202.72</td><td>28.0</td><td>-99.0</td><td>2.0417379e-12</td><td>5.824806e-13</td><td>7.498942e-31</td><td>2.0290196e-31</td><td>-99.0</td><td>-99.0</td><td>6369</td><td>56217</td><td>92</td><td>v5_10_0</td><td>36.753232</td><td>-4.3390704</td><td>0.053</td><td>QSO</td><td>3</td><td>0</td><td>31.238989</td><td>nan</td><td>nan</td><td>nan</td><td>nan</td><td>nan</td><td>nan</td><td>nan</td><td>nan</td><td>nan</td><td>nan</td><td>nan</td><td>nan</td><td>nan</td><td>nan</td><td>nan</td><td>nan</td><td>nan</td><td>nan</td><td>nan</td><td>nan</td><td>nan</td><td>nan</td><td>nan</td><td>nan</td><td>10.48831</td><td>0.46743464</td><td>4687.042</td><td>0.2668208</td><td>5.5050488</td><td>0.26809695</td><td>447.59662</td><td>40.380486</td><td>28.257639</td><td>1.6920009</td><td>4863.9585</td><td>0.033278942</td><td>2.1859865</td><td>0.032147113</td><td>50.41409</td><td>4.665848</td><td>4.264569</td><td>0.0</td><td>4869.0493</td><td>0.0</td><td>0.0</td><td>0.0</td><td>0.0</td><td>0.0</td><td>34.479633</td><td>0.98903775</td><td>4864.109</td><td>0.10780335</td><td>7.211856</td><td>0.13743627</td><td>679.02203</td><td>19.946955</td><td>5.624033</td><td>0.0</td><td>4861.117</td><td>0.0</td><td>0.0</td><td>0.0</td><td>0.0</td><td>0.0</td><td>21.146664</td><td>0.36282164</td><td>4961.1914</td><td>0.033278942</td><td>2.1859865</td><td>0.032147113</td><td>49.42604</td><td>4.5744033</td><td>0.38831627</td><td>0.0</td><td>4973.669</td><td>0.0</td><td>8.881784e-16</td><td>0.0</td><td>359.57864</td><td>0.0</td><td>63.43999</td><td>1.0884649</td><td>5009.5225</td><td>0.033278942</td><td>2.1859865</td><td>0.032147113</td><td>48.949184</td><td>4.53027</td><td>1.1649488</td><td>0.0</td><td>5022.0</td><td>0.0</td><td>8.881784e-16</td><td>0.0</td><td>356.1181</td><td>0.0</td><td>nan</td><td>nan</td><td>nan</td><td>nan</td><td>6152.3105</td><td>1892.8776</td><td>-0.6680638</td><td>0.038233384</td><td>nan</td><td>nan</td><td>14.177624</td><td>0.7005585</td><td>nan</td><td>nan</td><td>2.2819426</td><td>0.0601525</td><td>nan</td><td>nan</td><td>4.8632064</td><td>1.4078283</td><td>0.0</td><td>0.44672635</td><td>nan</td><td>nan</td><td>0.0</td><td>0.0</td><td>nan</td><td>2.125334</td><td>nan</td><td>nan</td><td>nan</td><td>nan</td><td>inf</td><td>1.6059898e+37</td><td>nan</td><td>nan</td><td>inf</td><td>inf</td><td>nan</td><td>nan</td><td>0.0</td><td>0.0</td><td>0.0</td><td>0.0</td><td>0.0</td><td>0.0</td><td>nan</td><td>0.0</td><td>nan</td><td>0.0</td></tr>\n",
       "<tr><td>7196942801145143296</td><td>2RXS</td><td>2RXS J081320.1+460852</td><td>123.33381</td><td>46.14786</td><td>466.4</td><td>57.0</td><td>-99.0</td><td>2.5234808e-12</td><td>5.3144034e-13</td><td>9.057326e-31</td><td>1.8570774e-31</td><td>-99.0</td><td>-99.0</td><td>6392</td><td>56331</td><td>693</td><td>v5_10_0</td><td>123.33053</td><td>46.147138</td><td>0.05381963</td><td>QSO</td><td>3</td><td>0</td><td>34.34213</td><td>nan</td><td>nan</td><td>nan</td><td>nan</td><td>nan</td><td>nan</td><td>nan</td><td>nan</td><td>nan</td><td>nan</td><td>nan</td><td>nan</td><td>nan</td><td>nan</td><td>nan</td><td>nan</td><td>nan</td><td>nan</td><td>nan</td><td>nan</td><td>nan</td><td>nan</td><td>nan</td><td>nan</td><td>3.5804124</td><td>0.0</td><td>4686.932</td><td>0.0</td><td>1.7027218</td><td>0.0</td><td>125.10875</td><td>0.0</td><td>17.703604</td><td>0.0</td><td>4862.9863</td><td>0.0</td><td>1.4403712</td><td>0.0</td><td>158.66478</td><td>0.0</td><td>3.8426518</td><td>0.0</td><td>4857.5127</td><td>0.0</td><td>14.950777</td><td>0.0</td><td>1804.6654</td><td>0.0</td><td>0.0</td><td>0.0</td><td>4874.6904</td><td>0.0</td><td>1.0169623</td><td>0.0</td><td>219.6023</td><td>0.0</td><td>0.9162033</td><td>0.0</td><td>4900.0</td><td>0.0</td><td>135.77579</td><td>0.0</td><td>19196.63</td><td>0.0</td><td>57.36386</td><td>0.0</td><td>4960.219</td><td>0.0</td><td>1.4403712</td><td>0.0</td><td>155.55455</td><td>0.0</td><td>11.593143</td><td>0.0</td><td>4959.4224</td><td>0.0</td><td>2.7003622</td><td>0.0</td><td>23.776005</td><td>0.0</td><td>172.09158</td><td>0.0</td><td>5008.5503</td><td>0.0</td><td>1.4403712</td><td>0.0</td><td>154.0535</td><td>0.0</td><td>34.779427</td><td>0.0</td><td>5007.7534</td><td>0.0</td><td>2.7003622</td><td>0.0</td><td>23.546537</td><td>0.0</td><td>nan</td><td>nan</td><td>nan</td><td>nan</td><td>3.4208974e-28</td><td>1.0398677e-29</td><td>7.4236097</td><td>0.0</td><td>nan</td><td>nan</td><td>46.310688</td><td>0.0</td><td>nan</td><td>nan</td><td>0.43516332</td><td>0.0</td><td>nan</td><td>nan</td><td>110.0</td><td>0.0</td><td>0.40395594</td><td>1.6485924</td><td>nan</td><td>nan</td><td>2540.7551</td><td>265.93298</td><td>nan</td><td>1.2354487</td><td>nan</td><td>nan</td><td>nan</td><td>nan</td><td>1.7255084e+38</td><td>1.6946295e+37</td><td>nan</td><td>nan</td><td>inf</td><td>inf</td><td>nan</td><td>nan</td><td>6.692169</td><td>0.11223889</td><td>6.2280626</td><td>0.11693065</td><td>6.636059</td><td>0.11309193</td><td>nan</td><td>inf</td><td>nan</td><td>0.012734609</td></tr>\n",
       "<tr><td>...</td><td>...</td><td>...</td><td>...</td><td>...</td><td>...</td><td>...</td><td>...</td><td>...</td><td>...</td><td>...</td><td>...</td><td>...</td><td>...</td><td>...</td><td>...</td><td>...</td><td>...</td><td>...</td><td>...</td><td>...</td><td>...</td><td>...</td><td>...</td><td>...</td><td>...</td><td>...</td><td>...</td><td>...</td><td>...</td><td>...</td><td>...</td><td>...</td><td>...</td><td>...</td><td>...</td><td>...</td><td>...</td><td>...</td><td>...</td><td>...</td><td>...</td><td>...</td><td>...</td><td>...</td><td>...</td><td>...</td><td>...</td><td>...</td><td>...</td><td>...</td><td>...</td><td>...</td><td>...</td><td>...</td><td>...</td><td>...</td><td>...</td><td>...</td><td>...</td><td>...</td><td>...</td><td>...</td><td>...</td><td>...</td><td>...</td><td>...</td><td>...</td><td>...</td><td>...</td><td>...</td><td>...</td><td>...</td><td>...</td><td>...</td><td>...</td><td>...</td><td>...</td><td>...</td><td>...</td><td>...</td><td>...</td><td>...</td><td>...</td><td>...</td><td>...</td><td>...</td><td>...</td><td>...</td><td>...</td><td>...</td><td>...</td><td>...</td><td>...</td><td>...</td><td>...</td><td>...</td><td>...</td><td>...</td><td>...</td><td>...</td><td>...</td><td>...</td><td>...</td><td>...</td><td>...</td><td>...</td><td>...</td><td>...</td><td>...</td><td>...</td><td>...</td><td>...</td><td>...</td><td>...</td><td>...</td><td>...</td><td>...</td><td>...</td><td>...</td><td>...</td><td>...</td><td>...</td><td>...</td><td>...</td><td>...</td><td>...</td><td>...</td><td>...</td><td>...</td><td>...</td><td>...</td><td>...</td><td>...</td><td>...</td><td>...</td><td>...</td><td>...</td><td>...</td><td>...</td><td>...</td><td>...</td><td>...</td><td>...</td><td>...</td><td>...</td><td>...</td><td>...</td><td>...</td><td>...</td><td>...</td><td>...</td><td>...</td><td>...</td><td>...</td><td>...</td><td>...</td><td>...</td><td>...</td><td>...</td><td>...</td><td>...</td><td>...</td><td>...</td><td>...</td><td>...</td><td>...</td><td>...</td><td>...</td><td>...</td><td>...</td></tr>\n",
       "<tr><td>593490852320405504</td><td>XMMSL</td><td>XMMSL1 J132916.4+022139</td><td>202.31797</td><td>2.3607721</td><td>7.98571</td><td>-99.0</td><td>14.432</td><td>-99.0</td><td>-99.0</td><td>-99.0</td><td>-99.0</td><td>1.9761883e-12</td><td>7.2126604e-13</td><td>527</td><td>52342</td><td>515</td><td>26</td><td>202.31575</td><td>2.3617606</td><td>0.8055</td><td>QSO</td><td>3</td><td>0</td><td>7.4917397</td><td>2.4712994</td><td>9.602343</td><td>2813.2805</td><td>104.61336</td><td>35.03773</td><td>21.47556</td><td>8156.5684</td><td>5397.55</td><td>3.1802049</td><td>11.988698</td><td>2787.4666</td><td>13.594814</td><td>27.861013</td><td>15.991147</td><td>6414.52</td><td>4050.0588</td><td>1.3877788e-17</td><td>0.0</td><td>2799.798</td><td>0.0</td><td>9.812927</td><td>0.0</td><td>1835.5189</td><td>0.0</td><td>0.0</td><td>0.0</td><td>4686.482</td><td>0.0</td><td>0.72078913</td><td>0.0</td><td>273.0361</td><td>0.0</td><td>0.0</td><td>0.0</td><td>4862.3</td><td>0.32089928</td><td>0.57871884</td><td>1.1919931</td><td>283.79047</td><td>173.06548</td><td>0.6133985</td><td>0.32142162</td><td>4846.295</td><td>7.681186</td><td>15.622188</td><td>8.893846</td><td>1906.6469</td><td>1295.5656</td><td>0.3709448</td><td>0.3183077</td><td>4830.0</td><td>0.0</td><td>50.203487</td><td>29.961811</td><td>6967.5137</td><td>4379.246</td><td>1.110223e-16</td><td>0.0</td><td>4861.0415</td><td>0.0</td><td>27.00953</td><td>0.0</td><td>3554.6187</td><td>0.0</td><td>0.8490016</td><td>1.6687589</td><td>4959.5327</td><td>0.32089928</td><td>0.57871884</td><td>1.1919931</td><td>278.22668</td><td>169.67249</td><td>0.34882456</td><td>0.10934431</td><td>4964.761</td><td>2.9962294</td><td>10.345824</td><td>3.1183207</td><td>1110.8861</td><td>443.40576</td><td>2.5470047</td><td>5.0062766</td><td>5007.864</td><td>0.32089928</td><td>0.57871884</td><td>1.1919931</td><td>275.54153</td><td>168.03497</td><td>1.0464737</td><td>0.32803294</td><td>5013.0923</td><td>2.9962294</td><td>10.345824</td><td>3.1183207</td><td>1100.1761</td><td>439.1309</td><td>186590.05</td><td>305487.0</td><td>-1.2844998</td><td>0.21300916</td><td>26124749000.0</td><td>0.0</td><td>-2.7810583</td><td>0.019975996</td><td>1.0059828</td><td>1.6890813</td><td>1.3924592</td><td>0.3667525</td><td>0.11850151</td><td>0.027845057</td><td>0.1524691</td><td>0.06700938</td><td>14.097299</td><td>2.8159873</td><td>21.162083</td><td>20.418259</td><td>0.9451335</td><td>0.43532267</td><td>8394.188</td><td>675.24585</td><td>3145.1096</td><td>320.39133</td><td>1.1716021</td><td>1.3223548</td><td>inf</td><td>inf</td><td>inf</td><td>inf</td><td>inf</td><td>inf</td><td>inf</td><td>inf</td><td>inf</td><td>inf</td><td>9.13724</td><td>0.060049135</td><td>8.213487</td><td>0.13716526</td><td>8.043293</td><td>0.14787535</td><td>8.210814</td><td>0.13911256</td><td>inf</td><td>inf</td><td>0.031176213</td><td>0.18014024</td></tr>\n",
       "<tr><td>8815919808920920064</td><td>XMMSL</td><td>XMMSL1 J021359.9+004232</td><td>33.499772</td><td>0.70898986</td><td>6.75406</td><td>-99.0</td><td>13.0869</td><td>-99.0</td><td>-99.0</td><td>-99.0</td><td>-99.0</td><td>1.850836e-12</td><td>7.386184e-13</td><td>7830</td><td>57043</td><td>449</td><td>v5_10_0</td><td>33.499144</td><td>0.70744802</td><td>0.182</td><td>BLAGN</td><td>3</td><td>0</td><td>29.44879</td><td>nan</td><td>nan</td><td>nan</td><td>nan</td><td>nan</td><td>nan</td><td>nan</td><td>nan</td><td>nan</td><td>nan</td><td>nan</td><td>nan</td><td>nan</td><td>nan</td><td>nan</td><td>nan</td><td>nan</td><td>nan</td><td>nan</td><td>nan</td><td>nan</td><td>nan</td><td>nan</td><td>nan</td><td>9.898205</td><td>0.34897748</td><td>4687.3667</td><td>0.17404822</td><td>4.7220793</td><td>0.1787998</td><td>329.64377</td><td>26.928772</td><td>47.476818</td><td>0.7155408</td><td>4863.405</td><td>0.017282806</td><td>3.0258815</td><td>0.020726074</td><td>71.49682</td><td>3.0085347</td><td>3.6602008</td><td>0.1970879</td><td>4878.1577</td><td>4.342896</td><td>155.17879</td><td>6.514382</td><td>22090.547</td><td>942.9535</td><td>16.984896</td><td>0.228471</td><td>4861.566</td><td>0.34961647</td><td>30.062185</td><td>0.5215291</td><td>3997.5173</td><td>75.73278</td><td>4.440892e-16</td><td>0.0</td><td>4869.4883</td><td>0.0</td><td>66.11307</td><td>0.0</td><td>9217.515</td><td>0.0</td><td>156.0071</td><td>1.274355</td><td>4960.638</td><td>0.017282806</td><td>3.0258815</td><td>0.020726074</td><td>70.09542</td><td>2.9495647</td><td>54.02861</td><td>0.7346825</td><td>4961.113</td><td>0.031648472</td><td>8.307926</td><td>0.050215248</td><td>821.71405</td><td>7.14554</td><td>468.02127</td><td>3.8230653</td><td>5008.969</td><td>0.017282806</td><td>3.0258815</td><td>0.020726074</td><td>69.419075</td><td>2.9211047</td><td>162.08583</td><td>2.2040477</td><td>5009.4434</td><td>0.031648472</td><td>8.307926</td><td>0.050215248</td><td>813.7862</td><td>7.0766</td><td>nan</td><td>nan</td><td>nan</td><td>nan</td><td>45087.78</td><td>23782.877</td><td>-0.9544186</td><td>0.0648879</td><td>nan</td><td>nan</td><td>7.1237407</td><td>0.55119246</td><td>nan</td><td>nan</td><td>0.6591669</td><td>0.06703429</td><td>nan</td><td>nan</td><td>22.572968</td><td>3.8581448</td><td>0.1066166</td><td>2.2621195</td><td>nan</td><td>nan</td><td>5026.0083</td><td>348.65106</td><td>nan</td><td>2.8230124</td><td>nan</td><td>nan</td><td>nan</td><td>nan</td><td>inf</td><td>1.754117e+38</td><td>nan</td><td>nan</td><td>inf</td><td>inf</td><td>nan</td><td>nan</td><td>8.257449</td><td>0.06275612</td><td>8.00735</td><td>0.06330668</td><td>8.24025</td><td>0.06285623</td><td>nan</td><td>inf</td><td>nan</td><td>0.030565</td></tr>\n",
       "<tr><td>6806129909921980416</td><td>XMMSL</td><td>XMMSL1 J162726.2+404442</td><td>246.85972</td><td>40.745077</td><td>13.1662</td><td>-99.0</td><td>13.9366</td><td>-99.0</td><td>-99.0</td><td>-99.0</td><td>-99.0</td><td>1.5138276e-12</td><td>5.759173e-13</td><td>6045</td><td>56072</td><td>236</td><td>v5_10_0</td><td>246.85829</td><td>40.745246</td><td>0.326</td><td>QSO</td><td>3</td><td>0</td><td>7.45401</td><td>nan</td><td>nan</td><td>nan</td><td>nan</td><td>nan</td><td>nan</td><td>nan</td><td>nan</td><td>nan</td><td>nan</td><td>nan</td><td>nan</td><td>nan</td><td>nan</td><td>nan</td><td>nan</td><td>nan</td><td>nan</td><td>nan</td><td>nan</td><td>nan</td><td>nan</td><td>nan</td><td>nan</td><td>0.24634358</td><td>321604.44</td><td>4686.723</td><td>362980.12</td><td>0.2120954</td><td>96037.16</td><td>349.64618</td><td>14466024.0</td><td>0.1971436</td><td>0.30203143</td><td>4860.1675</td><td>1.1914346</td><td>1.6116245</td><td>1.6762049</td><td>133.88162</td><td>243.47496</td><td>1.5854844</td><td>9.042687</td><td>4861.997</td><td>7.7070603</td><td>16.56257</td><td>17.864288</td><td>2037.0319</td><td>2593.8796</td><td>1.0547022</td><td>317.54</td><td>4880.0137</td><td>1840.4818</td><td>25.979868</td><td>205.18533</td><td>3391.8452</td><td>29710.271</td><td>0.0011021253</td><td>295.60925</td><td>4861.028</td><td>3700603.2</td><td>27.073977</td><td>548030.2</td><td>3563.988</td><td>79635550.0</td><td>0.17348139</td><td>0.20918511</td><td>4957.4004</td><td>1.1914346</td><td>1.6116245</td><td>1.6762049</td><td>131.2557</td><td>238.69951</td><td>1.9453264</td><td>0.19329058</td><td>4956.2964</td><td>0.19211571</td><td>4.460714</td><td>0.2253632</td><td>274.52924</td><td>32.099937</td><td>0.52044415</td><td>0.6275553</td><td>5005.7314</td><td>1.1914346</td><td>1.6116245</td><td>1.6762049</td><td>129.9884</td><td>236.39484</td><td>5.835979</td><td>0.5798717</td><td>5004.6274</td><td>0.19211571</td><td>4.460714</td><td>0.2253632</td><td>271.87802</td><td>31.78994</td><td>nan</td><td>nan</td><td>nan</td><td>nan</td><td>0.074741624</td><td>0.052304443</td><td>0.43498343</td><td>0.08127805</td><td>nan</td><td>nan</td><td>0.7445604</td><td>0.2487162</td><td>nan</td><td>nan</td><td>0.25322956</td><td>0.029355442</td><td>nan</td><td>nan</td><td>38.42901</td><td>3.5603342</td><td>0.8247422</td><td>0.49754193</td><td>nan</td><td>nan</td><td>3046.4395</td><td>244.09187</td><td>nan</td><td>0.92921853</td><td>nan</td><td>nan</td><td>nan</td><td>nan</td><td>inf</td><td>3.2728426e+38</td><td>nan</td><td>nan</td><td>inf</td><td>inf</td><td>nan</td><td>nan</td><td>7.8155017</td><td>0.07441879</td><td>7.5638433</td><td>0.0754801</td><td>7.798018</td><td>0.07461176</td><td>nan</td><td>inf</td><td>nan</td><td>0.08184629</td></tr>\n",
       "<tr><td>702577249789962240</td><td>XMMSL</td><td>XMMSL1 J162755.0+464237</td><td>246.97889</td><td>46.710354</td><td>3.65341</td><td>-99.0</td><td>14.5408</td><td>-99.0</td><td>-99.0</td><td>-99.0</td><td>-99.0</td><td>4.4177036e-12</td><td>1.7021798e-12</td><td>624</td><td>52377</td><td>57</td><td>26</td><td>246.98092</td><td>46.713531</td><td>0.2138</td><td>QSO</td><td>3</td><td>0</td><td>15.55582</td><td>nan</td><td>nan</td><td>nan</td><td>nan</td><td>nan</td><td>nan</td><td>nan</td><td>nan</td><td>nan</td><td>nan</td><td>nan</td><td>nan</td><td>nan</td><td>nan</td><td>nan</td><td>nan</td><td>nan</td><td>nan</td><td>nan</td><td>nan</td><td>nan</td><td>nan</td><td>nan</td><td>nan</td><td>0.0</td><td>0.0</td><td>4686.064</td><td>0.0</td><td>1.7328488</td><td>0.0</td><td>120.59329</td><td>0.0</td><td>0.0</td><td>0.0</td><td>4863.0195</td><td>0.22838634</td><td>2.4944634</td><td>0.43159273</td><td>5.642669</td><td>62.653675</td><td>3.8707733</td><td>0.30286145</td><td>4859.601</td><td>3.1612303</td><td>38.99641</td><td>2.519933</td><td>5297.014</td><td>366.08844</td><td>1.6452435</td><td>0.20465831</td><td>4877.497</td><td>9.265977</td><td>148.05504</td><td>13.59559</td><td>21062.465</td><td>1968.2</td><td>0.9854016</td><td>0.38576108</td><td>4830.0</td><td>0.0</td><td>11.926619</td><td>5.402549</td><td>1372.9314</td><td>789.64154</td><td>2.2084336</td><td>0.576242</td><td>4960.2524</td><td>0.22838634</td><td>2.4944634</td><td>0.43159273</td><td>5.532059</td><td>61.42551</td><td>0.6153102</td><td>0.5927672</td><td>4960.783</td><td>1.2104083</td><td>5.702013</td><td>2.3959615</td><td>450.92728</td><td>340.96362</td><td>6.625301</td><td>1.728726</td><td>5008.5835</td><td>0.22838634</td><td>2.4944634</td><td>0.43159273</td><td>5.478677</td><td>60.832775</td><td>1.8459306</td><td>1.7783015</td><td>5009.1143</td><td>1.2104083</td><td>5.702013</td><td>2.3959615</td><td>446.57645</td><td>337.6738</td><td>nan</td><td>nan</td><td>nan</td><td>nan</td><td>11656.553</td><td>10162.28</td><td>-0.86774856</td><td>0.10624201</td><td>nan</td><td>nan</td><td>4.783357</td><td>0.48117706</td><td>nan</td><td>nan</td><td>0.7739457</td><td>0.07030274</td><td>nan</td><td>nan</td><td>59.30127</td><td>1.4217913</td><td>0.33169973</td><td>0.066624746</td><td>nan</td><td>nan</td><td>7116.581</td><td>446.88257</td><td>nan</td><td>1.3214313</td><td>nan</td><td>nan</td><td>nan</td><td>nan</td><td>inf</td><td>2.3304174e+38</td><td>nan</td><td>nan</td><td>inf</td><td>inf</td><td>nan</td><td>nan</td><td>8.530641</td><td>0.05834086</td><td>8.274181</td><td>0.059176434</td><td>8.512284</td><td>0.05849278</td><td>nan</td><td>inf</td><td>nan</td><td>0.014263376</td></tr>\n",
       "<tr><td>704930474182600704</td><td>XMMSL</td><td>XMMSL1 J162917.8+455150</td><td>247.32428</td><td>45.863883</td><td>8.80137</td><td>-99.0</td><td>14.9172</td><td>-99.0</td><td>-99.0</td><td>-99.0</td><td>-99.0</td><td>1.625533e-12</td><td>6.568635e-13</td><td>626</td><td>52057</td><td>426</td><td>26</td><td>247.32553</td><td>45.863871</td><td>0.266</td><td>BLAGN</td><td>3</td><td>0</td><td>14.926489</td><td>nan</td><td>nan</td><td>nan</td><td>nan</td><td>nan</td><td>nan</td><td>nan</td><td>nan</td><td>nan</td><td>nan</td><td>nan</td><td>nan</td><td>nan</td><td>nan</td><td>nan</td><td>nan</td><td>nan</td><td>nan</td><td>nan</td><td>nan</td><td>nan</td><td>nan</td><td>nan</td><td>nan</td><td>4.1808615</td><td>6.708846</td><td>4684.1714</td><td>0.58669055</td><td>0.51126134</td><td>0.8125674</td><td>304.749</td><td>122.46305</td><td>1.017744</td><td>0.5472458</td><td>4865.4634</td><td>0.09771474</td><td>2.6469047</td><td>0.09959731</td><td>16.478712</td><td>14.45113</td><td>1.0114148</td><td>0.35783902</td><td>4830.0</td><td>0.0</td><td>24.934065</td><td>9.176155</td><td>3274.1118</td><td>1341.1954</td><td>1.689145</td><td>0.32572517</td><td>4864.6094</td><td>11.398665</td><td>68.72955</td><td>7.268452</td><td>9606.466</td><td>1055.0457</td><td>1.110223e-16</td><td>0.0</td><td>4860.954</td><td>0.0</td><td>27.15875</td><td>0.0</td><td>3576.354</td><td>0.0</td><td>5.279075</td><td>0.18622018</td><td>4962.6963</td><td>0.09771474</td><td>2.6469047</td><td>0.09959731</td><td>16.15585</td><td>14.167993</td><td>0.45804054</td><td>0.15400364</td><td>4950.5737</td><td>1.0414664</td><td>2.7345335</td><td>1.0840338</td><td>28.691383</td><td>154.58443</td><td>15.837225</td><td>0.55866057</td><td>5011.0273</td><td>0.09771474</td><td>2.6469047</td><td>0.09959731</td><td>16.000027</td><td>14.031343</td><td>1.3741215</td><td>0.4620109</td><td>4998.905</td><td>1.0414664</td><td>2.7345335</td><td>1.0840338</td><td>28.413986</td><td>153.08986</td><td>nan</td><td>nan</td><td>nan</td><td>nan</td><td>202423.48</td><td>122607.91</td><td>-1.1328826</td><td>0.07452264</td><td>nan</td><td>nan</td><td>2.4063985</td><td>0.6881539</td><td>nan</td><td>nan</td><td>0.7788968</td><td>0.09490201</td><td>nan</td><td>nan</td><td>78.55341</td><td>0.740795</td><td>0.9196652</td><td>0.31718847</td><td>nan</td><td>nan</td><td>7745.603</td><td>431.04062</td><td>nan</td><td>0.99047214</td><td>nan</td><td>nan</td><td>nan</td><td>nan</td><td>inf</td><td>inf</td><td>nan</td><td>nan</td><td>inf</td><td>inf</td><td>nan</td><td>nan</td><td>8.829076</td><td>0.051121756</td><td>8.622088</td><td>0.051734436</td><td>8.819715</td><td>0.05123315</td><td>nan</td><td>inf</td><td>nan</td><td>0.020207977</td></tr>\n",
       "<tr><td>1592174528354609152</td><td>XMMSL</td><td>XMMSL1 J164836.3+235058</td><td>252.15209</td><td>23.849399</td><td>8.72663</td><td>-99.0</td><td>26.6875</td><td>-99.0</td><td>-99.0</td><td>-99.0</td><td>-99.0</td><td>2.6064088e-12</td><td>6.940007e-13</td><td>1414</td><td>53135</td><td>553</td><td>26</td><td>252.15084</td><td>23.849715</td><td>0.1344889</td><td>QSO</td><td>3</td><td>0</td><td>27.131117</td><td>nan</td><td>nan</td><td>nan</td><td>nan</td><td>nan</td><td>nan</td><td>nan</td><td>nan</td><td>nan</td><td>nan</td><td>nan</td><td>nan</td><td>nan</td><td>nan</td><td>nan</td><td>nan</td><td>nan</td><td>nan</td><td>nan</td><td>nan</td><td>nan</td><td>nan</td><td>nan</td><td>nan</td><td>5.092529</td><td>0.2292321</td><td>4679.826</td><td>2.3969903</td><td>43.584328</td><td>2.3944306</td><td>6192.591</td><td>361.2166</td><td>7.929884</td><td>1.5401262</td><td>4865.015</td><td>0.062898636</td><td>1.9918909</td><td>0.08034897</td><td>78.56815</td><td>11.659355</td><td>14.139735</td><td>1.2141153</td><td>4862.1206</td><td>0.44439903</td><td>7.9928985</td><td>0.67520255</td><td>792.7035</td><td>98.0363</td><td>5.2540426</td><td>3.5653162</td><td>4871.847</td><td>5.7954965</td><td>50.127785</td><td>9.659315</td><td>6896.696</td><td>1399.7115</td><td>18.30536</td><td>3.0666585</td><td>4863.518</td><td>1.0697718</td><td>27.7433</td><td>2.7199297</td><td>3659.318</td><td>394.80847</td><td>24.251503</td><td>1.2523767</td><td>4962.2485</td><td>0.062898636</td><td>1.9918909</td><td>0.08034897</td><td>77.02865</td><td>11.430895</td><td>6.979316</td><td>1.1335717</td><td>4959.7427</td><td>0.49332508</td><td>4.0015607</td><td>0.22730431</td><td>208.98376</td><td>32.353928</td><td>72.75451</td><td>3.75713</td><td>5010.579</td><td>0.062898636</td><td>1.9918909</td><td>0.08034897</td><td>76.285645</td><td>11.320635</td><td>20.937948</td><td>3.4007154</td><td>5008.0737</td><td>0.49332508</td><td>4.0015607</td><td>0.22730431</td><td>206.96695</td><td>32.041695</td><td>nan</td><td>nan</td><td>nan</td><td>nan</td><td>932346.7</td><td>465666.5</td><td>-1.2356071</td><td>0.06134148</td><td>nan</td><td>nan</td><td>13.664148</td><td>0.95553136</td><td>nan</td><td>nan</td><td>2.1439419</td><td>0.12782903</td><td>nan</td><td>nan</td><td>49.074234</td><td>0.8867646</td><td>0.48490292</td><td>0.2541029</td><td>nan</td><td>nan</td><td>4495.6567</td><td>293.6291</td><td>nan</td><td>1.5098563</td><td>nan</td><td>nan</td><td>nan</td><td>nan</td><td>inf</td><td>1.7393006e+38</td><td>nan</td><td>nan</td><td>inf</td><td>inf</td><td>nan</td><td>nan</td><td>8.146804</td><td>0.059375122</td><td>7.893672</td><td>0.059956804</td><td>8.129053</td><td>0.05948088</td><td>nan</td><td>inf</td><td>nan</td><td>0.0370083</td></tr>\n",
       "<tr><td>1764394333768804352</td><td>XMMSL</td><td>XMMSL1 J165434.9+184950</td><td>253.64502</td><td>18.830595</td><td>6.98893</td><td>-99.0</td><td>12.1109</td><td>-99.0</td><td>-99.0</td><td>-99.0</td><td>-99.0</td><td>2.284595e-12</td><td>9.240485e-13</td><td>1567</td><td>53172</td><td>397</td><td>26</td><td>253.64793</td><td>18.833198</td><td>0.08183131</td><td>QSO</td><td>3</td><td>0</td><td>13.441042</td><td>nan</td><td>nan</td><td>nan</td><td>nan</td><td>nan</td><td>nan</td><td>nan</td><td>nan</td><td>nan</td><td>nan</td><td>nan</td><td>nan</td><td>nan</td><td>nan</td><td>nan</td><td>nan</td><td>nan</td><td>nan</td><td>nan</td><td>nan</td><td>nan</td><td>nan</td><td>nan</td><td>nan</td><td>1.826573</td><td>0.28313568</td><td>4689.694</td><td>2.4993596</td><td>14.516582</td><td>2.6023922</td><td>1803.8835</td><td>391.7491</td><td>3.548747</td><td>1.1426797</td><td>4862.8135</td><td>0.05971409</td><td>1.708876</td><td>0.057956025</td><td>119.69031</td><td>8.413746</td><td>2.6908193</td><td>1.0674762</td><td>4878.22</td><td>2.5069783</td><td>5.844614</td><td>2.3177426</td><td>479.19586</td><td>335.4149</td><td>3.6646607</td><td>1.77697</td><td>4864.008</td><td>2.6568122</td><td>23.647749</td><td>4.635661</td><td>3064.5251</td><td>672.8174</td><td>1.7354063</td><td>1.6598788</td><td>4858.4023</td><td>5.858141</td><td>8.868217</td><td>6.3764896</td><td>920.49963</td><td>926.5459</td><td>9.312507</td><td>0.3130067</td><td>4960.0464</td><td>0.05971409</td><td>1.708876</td><td>0.057956025</td><td>117.344</td><td>8.24881</td><td>0.6521575</td><td>0.3510629</td><td>4970.1074</td><td>0.5183715</td><td>0.8541648</td><td>0.5401312</td><td>238.5102</td><td>76.7206</td><td>27.93752</td><td>0.9390201</td><td>5008.3774</td><td>0.05971409</td><td>1.708876</td><td>0.057956025</td><td>116.21162</td><td>8.169209</td><td>1.9564725</td><td>1.0531886</td><td>5018.4385</td><td>0.5183715</td><td>0.8541648</td><td>0.5401312</td><td>236.21318</td><td>75.98172</td><td>nan</td><td>nan</td><td>nan</td><td>nan</td><td>587.71704</td><td>569.679</td><td>-0.5181232</td><td>0.11923048</td><td>nan</td><td>nan</td><td>13.517527</td><td>0.76483995</td><td>nan</td><td>nan</td><td>0.15392987</td><td>0.07924573</td><td>nan</td><td>nan</td><td>25.917458</td><td>26.751564</td><td>0.26296103</td><td>0.39899233</td><td>nan</td><td>nan</td><td>2571.5896</td><td>246.86284</td><td>nan</td><td>1.5274156</td><td>nan</td><td>nan</td><td>nan</td><td>nan</td><td>inf</td><td>4.3631596e+37</td><td>nan</td><td>nan</td><td>inf</td><td>inf</td><td>nan</td><td>nan</td><td>7.1547194</td><td>0.090228334</td><td>6.7900686</td><td>0.091734655</td><td>7.116692</td><td>0.09050221</td><td>nan</td><td>inf</td><td>nan</td><td>0.035203047</td></tr>\n",
       "<tr><td>1592151988366239744</td><td>XMMSL</td><td>XMMSL1 J164434.8+241946</td><td>251.14501</td><td>24.329538</td><td>7.22188</td><td>-99.0</td><td>14.7216</td><td>-99.0</td><td>-99.0</td><td>-99.0</td><td>-99.0</td><td>2.0422524e-12</td><td>8.494804e-13</td><td>1414</td><td>53135</td><td>471</td><td>26</td><td>251.14497</td><td>24.330946</td><td>0.2374644</td><td>QSO</td><td>3</td><td>0</td><td>12.702066</td><td>nan</td><td>nan</td><td>nan</td><td>nan</td><td>nan</td><td>nan</td><td>nan</td><td>nan</td><td>nan</td><td>nan</td><td>nan</td><td>nan</td><td>nan</td><td>nan</td><td>nan</td><td>nan</td><td>nan</td><td>nan</td><td>nan</td><td>nan</td><td>nan</td><td>nan</td><td>nan</td><td>nan</td><td>2.6059203</td><td>0.17064711</td><td>4690.0</td><td>0.0</td><td>30.389206</td><td>2.2541208</td><td>4192.9756</td><td>339.29916</td><td>9.853639</td><td>0.8990385</td><td>4864.062</td><td>0.028919378</td><td>1.7692441</td><td>0.03311782</td><td>110.89793</td><td>4.8066344</td><td>5.479316</td><td>0.0</td><td>4862.4155</td><td>0.0</td><td>0.0</td><td>0.0</td><td>0.0</td><td>0.0</td><td>12.125793</td><td>0.5532866</td><td>4861.019</td><td>0.23958072</td><td>6.310902</td><td>0.26680452</td><td>548.60974</td><td>38.747562</td><td>9.648031</td><td>0.28118864</td><td>4866.223</td><td>0.522756</td><td>28.376015</td><td>0.6087436</td><td>3749.0737</td><td>88.31314</td><td>35.915813</td><td>0.69309705</td><td>4961.295</td><td>0.028919378</td><td>1.7692441</td><td>0.03311782</td><td>108.72452</td><td>4.7124324</td><td>19.975908</td><td>0.5928682</td><td>4958.9775</td><td>0.072947614</td><td>4.1311154</td><td>0.045868248</td><td>227.45938</td><td>6.5297794</td><td>107.74743</td><td>2.079291</td><td>5009.626</td><td>0.028919378</td><td>1.7692441</td><td>0.03311782</td><td>107.67558</td><td>4.6669683</td><td>59.927727</td><td>1.7786045</td><td>5007.308</td><td>0.072947614</td><td>4.1311154</td><td>0.045868248</td><td>225.26392</td><td>6.4667535</td><td>nan</td><td>nan</td><td>nan</td><td>nan</td><td>2265298.0</td><td>1934112.0</td><td>-1.4861879</td><td>0.10453967</td><td>nan</td><td>nan</td><td>2.1079178</td><td>0.41445556</td><td>nan</td><td>nan</td><td>1.0027297</td><td>0.051176347</td><td>nan</td><td>nan</td><td>24.702148</td><td>2.3428292</td><td>0.6384083</td><td>1.1916406</td><td>nan</td><td>nan</td><td>4125.6436</td><td>269.1601</td><td>nan</td><td>1.572707</td><td>nan</td><td>nan</td><td>nan</td><td>nan</td><td>inf</td><td>2.893387e+38</td><td>nan</td><td>nan</td><td>inf</td><td>inf</td><td>nan</td><td>nan</td><td>8.084461</td><td>0.060824495</td><td>7.834026</td><td>0.061739028</td><td>8.0672</td><td>0.060990773</td><td>nan</td><td>inf</td><td>nan</td><td>0.045202415</td></tr>\n",
       "<tr><td>1101301123903416320</td><td>XMMSL</td><td>XMMSL1 J171850.0+304159</td><td>259.70796</td><td>30.699703</td><td>4.25442</td><td>-99.0</td><td>12.6443</td><td>-99.0</td><td>-99.0</td><td>-99.0</td><td>-99.0</td><td>3.1951707e-12</td><td>1.323245e-12</td><td>978</td><td>52441</td><td>622</td><td>26</td><td>259.70959</td><td>30.700448</td><td>0.282</td><td>BLAGN</td><td>3</td><td>0</td><td>20.897926</td><td>nan</td><td>nan</td><td>nan</td><td>nan</td><td>nan</td><td>nan</td><td>nan</td><td>nan</td><td>nan</td><td>nan</td><td>nan</td><td>nan</td><td>nan</td><td>nan</td><td>nan</td><td>nan</td><td>nan</td><td>nan</td><td>nan</td><td>nan</td><td>nan</td><td>nan</td><td>nan</td><td>nan</td><td>1.7037406</td><td>0.14876077</td><td>4675.542</td><td>3.6353626</td><td>33.901287</td><td>3.7665725</td><td>4736.2285</td><td>568.7244</td><td>4.122913</td><td>1.4258078</td><td>4863.856</td><td>0.11903057</td><td>1.8830816</td><td>0.13582642</td><td>94.37985</td><td>19.714329</td><td>20.475729</td><td>1.7607337</td><td>4863.008</td><td>0.2199811</td><td>6.7393055</td><td>0.46228355</td><td>610.5762</td><td>67.10918</td><td>11.704288</td><td>2.2989767</td><td>4864.613</td><td>1.1044512</td><td>16.484077</td><td>2.6612577</td><td>2024.5457</td><td>386.20456</td><td>4.380915</td><td>2.4010942</td><td>4844.549</td><td>13.551324</td><td>26.580103</td><td>3.5414808</td><td>3504.1428</td><td>516.1647</td><td>3.6075108</td><td>0.22305289</td><td>4961.089</td><td>0.11903057</td><td>1.8830816</td><td>0.13582642</td><td>92.53009</td><td>19.327946</td><td>3.473611</td><td>0.080726236</td><td>4949.3066</td><td>0.37309065</td><td>10.785367</td><td>0.27740097</td><td>1177.0504</td><td>39.567913</td><td>10.822533</td><td>0.6691587</td><td>5009.42</td><td>0.11903057</td><td>1.8830816</td><td>0.13582642</td><td>91.63736</td><td>19.141468</td><td>10.420833</td><td>0.24217872</td><td>4997.637</td><td>0.37309065</td><td>10.785367</td><td>0.27740097</td><td>1165.6674</td><td>39.18526</td><td>nan</td><td>nan</td><td>nan</td><td>nan</td><td>109209880.0</td><td>68144970.0</td><td>-1.8607084</td><td>0.07618495</td><td>nan</td><td>nan</td><td>3.0779376</td><td>0.52202135</td><td>nan</td><td>nan</td><td>3.617497</td><td>0.061433263</td><td>nan</td><td>nan</td><td>14.949424</td><td>0.63776493</td><td>2.0441442</td><td>0.29171965</td><td>nan</td><td>nan</td><td>2793.5974</td><td>235.34244</td><td>nan</td><td>1.4393334</td><td>nan</td><td>nan</td><td>nan</td><td>nan</td><td>inf</td><td>inf</td><td>nan</td><td>nan</td><td>inf</td><td>inf</td><td>nan</td><td>nan</td><td>8.004553</td><td>0.07540898</td><td>7.811042</td><td>0.07590086</td><td>7.9976416</td><td>0.07549841</td><td>nan</td><td>inf</td><td>nan</td><td>0.17888126</td></tr>\n",
       "<tr><td>5627510063922913280</td><td>XMMSL</td><td>XMMSL1 J172414.4+330305</td><td>261.0594</td><td>33.051522</td><td>6.47364</td><td>-99.0</td><td>20.2108</td><td>-99.0</td><td>-99.0</td><td>-99.0</td><td>-99.0</td><td>2.832928e-12</td><td>9.833241e-13</td><td>4998</td><td>55722</td><td>954</td><td>v5_10_0</td><td>261.05915000000005</td><td>33.051106</td><td>0.548</td><td>QSO</td><td>3</td><td>0</td><td>8.131351</td><td>1.1970408</td><td>0.4275723</td><td>2806.134</td><td>6.5926404</td><td>27.634493</td><td>6.0063787</td><td>6314.8613</td><td>1511.1364</td><td>0.00059071</td><td>3.094978</td><td>2790.046</td><td>42021.54</td><td>11.918614</td><td>13884.121</td><td>2374.7305</td><td>3513241.2</td><td>0.8046164</td><td>3.3834693</td><td>2796.7214</td><td>7.584619</td><td>7.9037914</td><td>10.324373</td><td>1355.628</td><td>2606.1135</td><td>1.050709</td><td>0.31704348</td><td>4688.7915</td><td>0.54072547</td><td>1.5247749</td><td>0.5138571</td><td>151.8513</td><td>77.36773</td><td>0.5006505</td><td>0.47197995</td><td>4863.926</td><td>0.09691792</td><td>2.1932168</td><td>0.1184563</td><td>49.36501</td><td>17.19292</td><td>0.33686337</td><td>0.26658604</td><td>4867.275</td><td>4.4881773</td><td>5.1902566</td><td>2.968228</td><td>385.3644</td><td>430.5167</td><td>0.13191006</td><td>0.06562169</td><td>4900.0</td><td>0.0</td><td>64.56688</td><td>41.11275</td><td>8937.354</td><td>5923.234</td><td>0.0</td><td>0.0</td><td>4861.074</td><td>0.0</td><td>27.050684</td><td>0.0</td><td>3560.5715</td><td>0.0</td><td>4.6233788</td><td>0.23248142</td><td>4961.1587</td><td>0.09691792</td><td>2.1932168</td><td>0.1184563</td><td>48.39751</td><td>16.855959</td><td>0.9480806</td><td>0.14784041</td><td>4957.031</td><td>0.9644962</td><td>5.654673</td><td>0.5385507</td><td>444.52667</td><td>76.69793</td><td>13.870136</td><td>0.69744426</td><td>5009.4897</td><td>0.09691792</td><td>2.1932168</td><td>0.1184563</td><td>47.930576</td><td>16.693335</td><td>2.8442419</td><td>0.44352123</td><td>5005.362</td><td>0.9644962</td><td>5.654673</td><td>0.5385507</td><td>440.2344</td><td>75.95735</td><td>0.0015883773</td><td>0.002907803</td><td>0.95431954</td><td>0.23921545</td><td>21.860918</td><td>15.16818</td><td>-0.21666035</td><td>0.084699914</td><td>0.5957207</td><td>1.552743</td><td>1.9380255</td><td>0.2923777</td><td>0.004352627</td><td>0.018157318</td><td>0.032627527</td><td>0.036769167</td><td>15.485368</td><td>49.178673</td><td>81.77605</td><td>13.03284</td><td>0.67212915</td><td>4.092372</td><td>4507.5938</td><td>648.66327</td><td>9385.993</td><td>424.40955</td><td>1.5541793</td><td>0.9817903</td><td>inf</td><td>inf</td><td>inf</td><td>inf</td><td>inf</td><td>inf</td><td>inf</td><td>inf</td><td>inf</td><td>inf</td><td>8.218493</td><td>0.1071938</td><td>9.111136</td><td>0.04569592</td><td>8.929495</td><td>0.047108445</td><td>9.106383</td><td>0.045952745</td><td>inf</td><td>inf</td><td>0.042754356</td><td>0.01794249</td></tr>\n",
       "</table>"
      ],
      "text/plain": [
       "<Table length=8570>\n",
       "     SPECOBJID      xray_detection ...  edd_ratio1  edd_ratio2 \n",
       "      bytes20            str5      ...   float32     float32   \n",
       "------------------- -------------- ... ----------- ------------\n",
       "4563282861596057600          2RXS  ...         nan 0.0061639855\n",
       "7611190680434483200          2RXS  ...         nan 0.0070645744\n",
       "7115698514626060288          2RXS  ...         nan   0.08601108\n",
       "7195897990187294720          2RXS  ...         nan   0.06603873\n",
       "7561803916247015424          2RXS  ...         nan  0.014213492\n",
       "4117662337908842496          2RXS  ...         nan  0.028191673\n",
       "8515223990658113536          2RXS  ...         nan  0.009693854\n",
       "7192505721602154496          2RXS  ...         nan  0.004615514\n",
       "7170881899753086976          2RXS  ...         nan          0.0\n",
       "7196942801145143296          2RXS  ...         nan  0.012734609\n",
       "                ...            ... ...         ...          ...\n",
       " 593490852320405504          XMMSL ... 0.031176213   0.18014024\n",
       "8815919808920920064          XMMSL ...         nan     0.030565\n",
       "6806129909921980416          XMMSL ...         nan   0.08184629\n",
       " 702577249789962240          XMMSL ...         nan  0.014263376\n",
       " 704930474182600704          XMMSL ...         nan  0.020207977\n",
       "1592174528354609152          XMMSL ...         nan    0.0370083\n",
       "1764394333768804352          XMMSL ...         nan  0.035203047\n",
       "1592151988366239744          XMMSL ...         nan  0.045202415\n",
       "1101301123903416320          XMMSL ...         nan   0.17888126\n",
       "5627510063922913280          XMMSL ... 0.042754356   0.01794249"
      ]
     },
     "execution_count": 40,
     "metadata": {},
     "output_type": "execute_result"
    }
   ],
   "source": [
    "t"
   ]
  },
  {
   "cell_type": "code",
   "execution_count": 41,
   "metadata": {},
   "outputs": [],
   "source": [
    "t.write('spiders_quasar_bhmass_datalab.fits')\n"
   ]
  },
  {
   "cell_type": "markdown",
   "metadata": {},
   "source": [
    "## Redmonster\n",
    "\n",
    "* [data model](https://data.sdss.org/datamodel/files/REDMONSTER_SPECTRO_REDUX/RUN2D/REDMONSTER_VER/redmonsterAll.html)\n",
    "* 64-bit targeting flags are stored as 32-bit integers.  Oops.  Just drop them.\n",
    "* Huh, there aren't very many plates in redmonsterAll."
   ]
  },
  {
   "cell_type": "code",
   "execution_count": 5,
   "metadata": {},
   "outputs": [
    {
     "data": {
      "text/plain": [
       "'sdss_dr14://eboss/spectro/redux/redmonster/v5_10_0/v1_2_0/redmonsterAll-v5_10_0.fits'"
      ]
     },
     "execution_count": 5,
     "metadata": {},
     "output_type": "execute_result"
    }
   ],
   "source": [
    "redmonster_version = 'v1_2_0'\n",
    "vopath = \"{0}eboss/spectro/redux/redmonster/{1}/{2}/redmonsterAll-{1}.fits\".format(sas, boss_run2d, redmonster_version)\n",
    "vopath"
   ]
  },
  {
   "cell_type": "code",
   "execution_count": 33,
   "metadata": {},
   "outputs": [],
   "source": [
    "with BytesIO(sc.get(vopath, mode='binary')) as q:\n",
    "    with fits.open(q) as hdulist:\n",
    "        rm = hdulist[1].data"
   ]
  },
  {
   "cell_type": "code",
   "execution_count": 41,
   "metadata": {},
   "outputs": [
    {
     "data": {
      "text/plain": [
       "10000"
      ]
     },
     "execution_count": 41,
     "metadata": {},
     "output_type": "execute_result"
    }
   ],
   "source": [
    "rm['PLATE'].max()"
   ]
  },
  {
   "cell_type": "code",
   "execution_count": null,
   "metadata": {},
   "outputs": [],
   "source": []
  }
 ],
 "metadata": {
  "kernelspec": {
   "display_name": "Python 3",
   "language": "python",
   "name": "python3"
  },
  "language_info": {
   "codemirror_mode": {
    "name": "ipython",
    "version": 3
   },
   "file_extension": ".py",
   "mimetype": "text/x-python",
   "name": "python",
   "nbconvert_exporter": "python",
   "pygments_lexer": "ipython3",
   "version": "3.6.8"
  }
 },
 "nbformat": 4,
 "nbformat_minor": 2
}
